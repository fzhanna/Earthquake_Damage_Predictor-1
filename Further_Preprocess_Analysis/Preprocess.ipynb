{
 "cells": [
  {
   "cell_type": "code",
   "execution_count": 2,
   "metadata": {},
   "outputs": [],
   "source": [
    "setwd('C:/Users/iceca/Documents/Earthquake_Damage_Predictor/')\n",
    "library(tidyverse)"
   ]
  },
  {
   "cell_type": "code",
   "execution_count": 29,
   "metadata": {},
   "outputs": [],
   "source": [
    "loadPr<- modules::use('Helpers/Load_Preprocessed.R')\n",
    "train <- loadPr$loadTrain()[[1]]\n",
    "trainLab <- loadPr$loadTrain()[[2]]\n",
    "\n",
    "val <- loadPr$loadVal()[[1]]\n",
    "valLab <- loadPr$loadVal()[[2]]\n",
    "\n",
    "loadRaw<- modules::use('Helpers/Load_Raw_Data.R')\n",
    "test <- loadRaw$testVal()"
   ]
  },
  {
   "cell_type": "code",
   "execution_count": 40,
   "metadata": {},
   "outputs": [],
   "source": [
    "removeId <- function(data) {\n",
    "    data$X <- NULL\n",
    "    data$building_id <- NULL\n",
    "    return(data)\n",
    "}\n",
    "saveData <- function(tr, trLab, val, valLab, test, name) {\n",
    "    tr <- removeId(tr)\n",
    "    trLab <- removeId(trLab)\n",
    "    val <- removeId(val)\n",
    "    valLab <- removeId(valLab)\n",
    "    #do not remove the ids of the test\n",
    "    rootDir <- 'Further_Preprocess_Analysis/Data/'\n",
    "    write.csv(tr, paste(rootDir, name, '_train.csv', sep=''))\n",
    "    write.csv(trLab, paste(rootDir, name, '_train_lab.csv', sep=''))\n",
    "    write.csv(val, paste(rootDir, name, '_val.csv', sep=''))\n",
    "    write.csv(valLab, paste(rootDir, name, '_val_lab.csv', sep=''))\n",
    "    write.csv(valLab, paste(rootDir, name, '_test.csv', sep=''))\n",
    "}"
   ]
  },
  {
   "cell_type": "code",
   "execution_count": 41,
   "metadata": {},
   "outputs": [
    {
     "data": {
      "text/html": [
       "<ol class=list-inline>\n",
       "\t<li>'X'</li>\n",
       "\t<li>'building_id'</li>\n",
       "\t<li>'geo_level_1_id'</li>\n",
       "\t<li>'geo_level_2_id'</li>\n",
       "\t<li>'geo_level_3_id'</li>\n",
       "\t<li>'count_floors_pre_eq'</li>\n",
       "\t<li>'age'</li>\n",
       "\t<li>'area_percentage'</li>\n",
       "\t<li>'height_percentage'</li>\n",
       "\t<li>'land_surface_condition'</li>\n",
       "\t<li>'foundation_type'</li>\n",
       "\t<li>'roof_type'</li>\n",
       "\t<li>'ground_floor_type'</li>\n",
       "\t<li>'other_floor_type'</li>\n",
       "\t<li>'position'</li>\n",
       "\t<li>'plan_configuration'</li>\n",
       "\t<li>'has_superstructure_adobe_mud'</li>\n",
       "\t<li>'has_superstructure_mud_mortar_stone'</li>\n",
       "\t<li>'has_superstructure_stone_flag'</li>\n",
       "\t<li>'has_superstructure_cement_mortar_stone'</li>\n",
       "\t<li>'has_superstructure_mud_mortar_brick'</li>\n",
       "\t<li>'has_superstructure_cement_mortar_brick'</li>\n",
       "\t<li>'has_superstructure_timber'</li>\n",
       "\t<li>'has_superstructure_bamboo'</li>\n",
       "\t<li>'has_superstructure_rc_non_engineered'</li>\n",
       "\t<li>'has_superstructure_rc_engineered'</li>\n",
       "\t<li>'has_superstructure_other'</li>\n",
       "\t<li>'legal_ownership_status'</li>\n",
       "\t<li>'count_families'</li>\n",
       "\t<li>'has_secondary_use'</li>\n",
       "\t<li>'has_secondary_use_agriculture'</li>\n",
       "\t<li>'has_secondary_use_hotel'</li>\n",
       "\t<li>'has_secondary_use_rental'</li>\n",
       "\t<li>'has_secondary_use_institution'</li>\n",
       "\t<li>'has_secondary_use_school'</li>\n",
       "\t<li>'has_secondary_use_industry'</li>\n",
       "\t<li>'has_secondary_use_health_post'</li>\n",
       "\t<li>'has_secondary_use_gov_office'</li>\n",
       "\t<li>'has_secondary_use_use_police'</li>\n",
       "\t<li>'has_secondary_use_other'</li>\n",
       "</ol>\n"
      ],
      "text/latex": [
       "\\begin{enumerate*}\n",
       "\\item 'X'\n",
       "\\item 'building\\_id'\n",
       "\\item 'geo\\_level\\_1\\_id'\n",
       "\\item 'geo\\_level\\_2\\_id'\n",
       "\\item 'geo\\_level\\_3\\_id'\n",
       "\\item 'count\\_floors\\_pre\\_eq'\n",
       "\\item 'age'\n",
       "\\item 'area\\_percentage'\n",
       "\\item 'height\\_percentage'\n",
       "\\item 'land\\_surface\\_condition'\n",
       "\\item 'foundation\\_type'\n",
       "\\item 'roof\\_type'\n",
       "\\item 'ground\\_floor\\_type'\n",
       "\\item 'other\\_floor\\_type'\n",
       "\\item 'position'\n",
       "\\item 'plan\\_configuration'\n",
       "\\item 'has\\_superstructure\\_adobe\\_mud'\n",
       "\\item 'has\\_superstructure\\_mud\\_mortar\\_stone'\n",
       "\\item 'has\\_superstructure\\_stone\\_flag'\n",
       "\\item 'has\\_superstructure\\_cement\\_mortar\\_stone'\n",
       "\\item 'has\\_superstructure\\_mud\\_mortar\\_brick'\n",
       "\\item 'has\\_superstructure\\_cement\\_mortar\\_brick'\n",
       "\\item 'has\\_superstructure\\_timber'\n",
       "\\item 'has\\_superstructure\\_bamboo'\n",
       "\\item 'has\\_superstructure\\_rc\\_non\\_engineered'\n",
       "\\item 'has\\_superstructure\\_rc\\_engineered'\n",
       "\\item 'has\\_superstructure\\_other'\n",
       "\\item 'legal\\_ownership\\_status'\n",
       "\\item 'count\\_families'\n",
       "\\item 'has\\_secondary\\_use'\n",
       "\\item 'has\\_secondary\\_use\\_agriculture'\n",
       "\\item 'has\\_secondary\\_use\\_hotel'\n",
       "\\item 'has\\_secondary\\_use\\_rental'\n",
       "\\item 'has\\_secondary\\_use\\_institution'\n",
       "\\item 'has\\_secondary\\_use\\_school'\n",
       "\\item 'has\\_secondary\\_use\\_industry'\n",
       "\\item 'has\\_secondary\\_use\\_health\\_post'\n",
       "\\item 'has\\_secondary\\_use\\_gov\\_office'\n",
       "\\item 'has\\_secondary\\_use\\_use\\_police'\n",
       "\\item 'has\\_secondary\\_use\\_other'\n",
       "\\end{enumerate*}\n"
      ],
      "text/markdown": [
       "1. 'X'\n",
       "2. 'building_id'\n",
       "3. 'geo_level_1_id'\n",
       "4. 'geo_level_2_id'\n",
       "5. 'geo_level_3_id'\n",
       "6. 'count_floors_pre_eq'\n",
       "7. 'age'\n",
       "8. 'area_percentage'\n",
       "9. 'height_percentage'\n",
       "10. 'land_surface_condition'\n",
       "11. 'foundation_type'\n",
       "12. 'roof_type'\n",
       "13. 'ground_floor_type'\n",
       "14. 'other_floor_type'\n",
       "15. 'position'\n",
       "16. 'plan_configuration'\n",
       "17. 'has_superstructure_adobe_mud'\n",
       "18. 'has_superstructure_mud_mortar_stone'\n",
       "19. 'has_superstructure_stone_flag'\n",
       "20. 'has_superstructure_cement_mortar_stone'\n",
       "21. 'has_superstructure_mud_mortar_brick'\n",
       "22. 'has_superstructure_cement_mortar_brick'\n",
       "23. 'has_superstructure_timber'\n",
       "24. 'has_superstructure_bamboo'\n",
       "25. 'has_superstructure_rc_non_engineered'\n",
       "26. 'has_superstructure_rc_engineered'\n",
       "27. 'has_superstructure_other'\n",
       "28. 'legal_ownership_status'\n",
       "29. 'count_families'\n",
       "30. 'has_secondary_use'\n",
       "31. 'has_secondary_use_agriculture'\n",
       "32. 'has_secondary_use_hotel'\n",
       "33. 'has_secondary_use_rental'\n",
       "34. 'has_secondary_use_institution'\n",
       "35. 'has_secondary_use_school'\n",
       "36. 'has_secondary_use_industry'\n",
       "37. 'has_secondary_use_health_post'\n",
       "38. 'has_secondary_use_gov_office'\n",
       "39. 'has_secondary_use_use_police'\n",
       "40. 'has_secondary_use_other'\n",
       "\n",
       "\n"
      ],
      "text/plain": [
       " [1] \"X\"                                     \n",
       " [2] \"building_id\"                           \n",
       " [3] \"geo_level_1_id\"                        \n",
       " [4] \"geo_level_2_id\"                        \n",
       " [5] \"geo_level_3_id\"                        \n",
       " [6] \"count_floors_pre_eq\"                   \n",
       " [7] \"age\"                                   \n",
       " [8] \"area_percentage\"                       \n",
       " [9] \"height_percentage\"                     \n",
       "[10] \"land_surface_condition\"                \n",
       "[11] \"foundation_type\"                       \n",
       "[12] \"roof_type\"                             \n",
       "[13] \"ground_floor_type\"                     \n",
       "[14] \"other_floor_type\"                      \n",
       "[15] \"position\"                              \n",
       "[16] \"plan_configuration\"                    \n",
       "[17] \"has_superstructure_adobe_mud\"          \n",
       "[18] \"has_superstructure_mud_mortar_stone\"   \n",
       "[19] \"has_superstructure_stone_flag\"         \n",
       "[20] \"has_superstructure_cement_mortar_stone\"\n",
       "[21] \"has_superstructure_mud_mortar_brick\"   \n",
       "[22] \"has_superstructure_cement_mortar_brick\"\n",
       "[23] \"has_superstructure_timber\"             \n",
       "[24] \"has_superstructure_bamboo\"             \n",
       "[25] \"has_superstructure_rc_non_engineered\"  \n",
       "[26] \"has_superstructure_rc_engineered\"      \n",
       "[27] \"has_superstructure_other\"              \n",
       "[28] \"legal_ownership_status\"                \n",
       "[29] \"count_families\"                        \n",
       "[30] \"has_secondary_use\"                     \n",
       "[31] \"has_secondary_use_agriculture\"         \n",
       "[32] \"has_secondary_use_hotel\"               \n",
       "[33] \"has_secondary_use_rental\"              \n",
       "[34] \"has_secondary_use_institution\"         \n",
       "[35] \"has_secondary_use_school\"              \n",
       "[36] \"has_secondary_use_industry\"            \n",
       "[37] \"has_secondary_use_health_post\"         \n",
       "[38] \"has_secondary_use_gov_office\"          \n",
       "[39] \"has_secondary_use_use_police\"          \n",
       "[40] \"has_secondary_use_other\"               "
      ]
     },
     "metadata": {},
     "output_type": "display_data"
    }
   ],
   "source": [
    "names(train)\n",
    "saveData(train, trainLab, val, valLab, test, 'original')"
   ]
  },
  {
   "cell_type": "markdown",
   "metadata": {},
   "source": [
    "### Making a dataset with more features"
   ]
  },
  {
   "cell_type": "code",
   "execution_count": null,
   "metadata": {},
   "outputs": [],
   "source": [
    "featureEngineerAdd <- function(data) {\n",
    "    data$has_superstructure_tree = \n",
    "        data$has_superstructure_bamboo | data$has_superstructure_timber\n",
    "    data$has_superstructure_mortar = \n",
    "        data$has_superstructure_mud_mortar_stone | data$has_superstructure_cement_mortar_stone | data$has_superstructure_mud_mortar_brick | data$has_superstructure_cement_mortar_brick\n",
    "    data$has_superstructure_cement = \n",
    "        data$has_superstructure_cement_mortar_stone | data$has_superstructure_timber\n",
    "    data$has_superstructure_brick = \n",
    "        data$has_superstructure_mud_mortar_brick | data$has_superstructure_cement_mortar_brick\n",
    "    data$has_superstructure_mud = \n",
    "        data$has_superstructure_adobe_mud | data$has_superstructure_mud_mortar_stone | data$has_superstructure_mud_mortar_brick\n",
    "    data$Has_superstructure_concrete = \n",
    "        data$has_superstructure_rc_non_engineered | data$has_superstructure_rc_engineered \n",
    "    data$has_superstructure_stone = \n",
    "        data$has_superstructure_mud_mortar_stone | data$has_superstructure_stone_flag | data$has_superstructure_cement_mortar_stone\n",
    "}"
   ]
  },
  {
   "cell_type": "code",
   "execution_count": 46,
   "metadata": {},
   "outputs": [
    {
     "data": {
      "text/html": [
       "2166"
      ],
      "text/latex": [
       "2166"
      ],
      "text/markdown": [
       "2166"
      ],
      "text/plain": [
       "[1] 2166"
      ]
     },
     "metadata": {},
     "output_type": "display_data"
    },
    {
     "data": {
      "text/html": [
       "6680"
      ],
      "text/latex": [
       "6680"
      ],
      "text/markdown": [
       "6680"
      ],
      "text/plain": [
       "[1] 6680"
      ]
     },
     "metadata": {},
     "output_type": "display_data"
    },
    {
     "data": {
      "text/html": [
       "6949"
      ],
      "text/latex": [
       "6949"
      ],
      "text/markdown": [
       "6949"
      ],
      "text/plain": [
       "[1] 6949"
      ]
     },
     "metadata": {},
     "output_type": "display_data"
    }
   ],
   "source": [
    "\n",
    "(val$has_superstructure_mud_mortar_stone | val$has_superstructure_cement_mortar_stone |\n",
    "val$has_superstructure_mud_mortar_brick | val$has_superstructure_cement_mortar_brick) %>% sum()"
   ]
  },
  {
   "cell_type": "code",
   "execution_count": null,
   "metadata": {},
   "outputs": [],
   "source": []
  }
 ],
 "metadata": {
  "kernelspec": {
   "display_name": "R",
   "language": "R",
   "name": "ir"
  },
  "language_info": {
   "codemirror_mode": "r",
   "file_extension": ".r",
   "mimetype": "text/x-r-source",
   "name": "R",
   "pygments_lexer": "r",
   "version": "3.6.1"
  }
 },
 "nbformat": 4,
 "nbformat_minor": 4
}
