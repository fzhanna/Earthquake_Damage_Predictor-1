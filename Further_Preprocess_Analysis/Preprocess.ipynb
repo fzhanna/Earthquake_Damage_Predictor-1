{
 "cells": [
  {
   "cell_type": "code",
   "execution_count": 1,
   "metadata": {},
   "outputs": [
    {
     "name": "stderr",
     "output_type": "stream",
     "text": [
      "Registered S3 methods overwritten by 'ggplot2':\n",
      "  method         from \n",
      "  [.quosures     rlang\n",
      "  c.quosures     rlang\n",
      "  print.quosures rlang\n",
      "Registered S3 method overwritten by 'rvest':\n",
      "  method            from\n",
      "  read_xml.response xml2\n",
      "-- Attaching packages --------------------------------------- tidyverse 1.2.1 --\n",
      "v ggplot2 3.1.1       v purrr   0.3.4  \n",
      "v tibble  2.1.1       v dplyr   0.8.0.1\n",
      "v tidyr   0.8.3       v stringr 1.4.0  \n",
      "v readr   1.3.1       v forcats 0.4.0  \n",
      "Warning message:\n",
      "\"package 'purrr' was built under R version 3.6.3\"-- Conflicts ------------------------------------------ tidyverse_conflicts() --\n",
      "x dplyr::filter() masks stats::filter()\n",
      "x dplyr::lag()    masks stats::lag()\n"
     ]
    }
   ],
   "source": [
    "setwd('C:/Users/iceca/Documents/Earthquake_Damage_Predictor/')\n",
    "library(tidyverse)\n"
   ]
  },
  {
   "cell_type": "code",
   "execution_count": 2,
   "metadata": {},
   "outputs": [],
   "source": [
    "loadPr<- modules::use('Helpers/Load_Preprocessed.R')\n",
    "train <- loadPr$loadTrain()[[1]]\n",
    "trainLab <- loadPr$loadTrain()[[2]]\n",
    "\n",
    "val <- loadPr$loadVal()[[1]]\n",
    "valLab <- loadPr$loadVal()[[2]]\n",
    "\n",
    "loadRaw<- modules::use('Helpers/Load_Raw_Data.R')\n",
    "test <- loadRaw$testVal()"
   ]
  },
  {
   "cell_type": "code",
   "execution_count": 3,
   "metadata": {},
   "outputs": [],
   "source": [
    "removeId <- function(data) {\n",
    "    data$X <- NULL\n",
    "    return(data)\n",
    "}\n",
    "removeLevelsPlan <- function(data) {\n",
    "    newLevel = \"other\"\n",
    "    data$plan_configuration <- plyr::revalue(data$plan_configuration, \n",
    "                c(\"a\"=newLevel, \"c\"=newLevel, \"f\"=newLevel,\n",
    "                \"m\"=newLevel, \"n\"=newLevel, \"o\"=newLevel, \n",
    "                \"s\" = newLevel))\n",
    "    return(data)\n",
    "}\n",
    "labelToFactor <- function(data) {\n",
    "    data$damage_grade <- as.factor(data$damage_grade)\n",
    "    return(data)\n",
    "}\n",
    "saveData <- function(tr, trLab, val, valLab, test, prefix) {\n",
    "    tr <- removeId(tr)\n",
    "    trLab <- labelToFactor(removeId(trLab)) #labels do not have plan configuration to removeLevelsPlan not called\n",
    "    val <- removeId(val)\n",
    "    valLab <- labelToFactor(removeId(valLab)) #labels do not have plan configuration to removeLevelsPlan not called\n",
    "    test <- removeId(test) #do not remove the building_ids of the test, needed for submission\n",
    "    if (\"plan_configuration\" %in% names(tr)) { #training set was used here but any dataset could be used instead\n",
    "        tr <- removeLevelsPlan(tr)\n",
    "        val <- removeLevelsPlan(val)\n",
    "        test <- removeLevelsPlan(test)\n",
    "    }\n",
    "    rootDir <- 'Further_Preprocess_Analysis/Data/'\n",
    "    write.csv(tr, paste(rootDir, prefix, '_train.csv', sep=''))\n",
    "    write.csv(trLab, paste(rootDir, prefix, '_train_lab.csv', sep=''))\n",
    "    write.csv(val, paste(rootDir, prefix, '_val.csv', sep=''))\n",
    "    write.csv(valLab, paste(rootDir, prefix, '_val_lab.csv', sep=''))\n",
    "    write.csv(test, paste(rootDir, prefix, '_test.csv', sep=''))\n",
    "}"
   ]
  },
  {
   "cell_type": "code",
   "execution_count": 17,
   "metadata": {},
   "outputs": [],
   "source": [
    "saveData(train, trainLab, val, valLab, test, 'original')"
   ]
  },
  {
   "cell_type": "code",
   "execution_count": null,
   "metadata": {},
   "outputs": [],
   "source": []
  },
  {
   "cell_type": "markdown",
   "metadata": {},
   "source": [
    "### Making a dataset with more features"
   ]
  },
  {
   "cell_type": "code",
   "execution_count": 18,
   "metadata": {},
   "outputs": [],
   "source": [
    "featureEngineerAdd <- function(data) {\n",
    "    data$has_superstructure_tree = \n",
    "        data$has_superstructure_bamboo | data$has_superstructure_timber\n",
    "    data$has_superstructure_mortar = \n",
    "        data$has_superstructure_mud_mortar_stone | data$has_superstructure_cement_mortar_stone | data$has_superstructure_mud_mortar_brick | data$has_superstructure_cement_mortar_brick\n",
    "    data$has_superstructure_cement = \n",
    "        data$has_superstructure_cement_mortar_stone | data$has_superstructure_timber\n",
    "    data$has_superstructure_brick = \n",
    "        data$has_superstructure_mud_mortar_brick | data$has_superstructure_cement_mortar_brick\n",
    "    data$has_superstructure_mud = \n",
    "        data$has_superstructure_adobe_mud | data$has_superstructure_mud_mortar_stone | data$has_superstructure_mud_mortar_brick\n",
    "    data$has_superstructure_concrete = \n",
    "        data$has_superstructure_rc_non_engineered | data$has_superstructure_rc_engineered \n",
    "    data$has_superstructure_stone = \n",
    "        data$has_superstructure_mud_mortar_stone | data$has_superstructure_stone_flag | data$has_superstructure_cement_mortar_stone\n",
    "    return(data)\n",
    "}"
   ]
  },
  {
   "cell_type": "code",
   "execution_count": 19,
   "metadata": {},
   "outputs": [],
   "source": [
    "saveData(featureEngineerAdd(train), trainLab, \n",
    "         featureEngineerAdd(val), valLab, featureEngineerAdd(test), 'expanded')"
   ]
  },
  {
   "cell_type": "markdown",
   "metadata": {},
   "source": [
    "### Making a dataset with less features and levels"
   ]
  },
  {
   "cell_type": "code",
   "execution_count": 13,
   "metadata": {},
   "outputs": [],
   "source": [
    "featureEngineerRemove <- function(data) {\n",
    "    newLevel <- \"other\"\n",
    "    #according to analysis, combine levels that were strikingly similar\n",
    "    data$foundation_type <- plyr::revalue(data$foundation_type, c(\"u\"=newLevel, \"w\"=newLevel))\n",
    "    data$roof_type <- plyr::revalue(data$roof_type, c(\"n\"=newLevel, \"q\"=newLevel))    \n",
    "    data %>% select(\n",
    "        #first add all binary/categorical features that were found to be effective in the analysis stage\n",
    "                    foundation_type , roof_type , ground_floor_type, other_floor_type, legal_ownership_status, \n",
    "                   has_superstructure_stone_flag, has_superstructure_cement_mortar_stone, \n",
    "                    has_superstructure_cement_mortar_brick, has_superstructure_mud_mortar_stone, has_superstructure_rc_non_engineered, \n",
    "                    has_superstructure_rc_engineered, has_superstructure_timber,has_secondary_use, has_secondary_use_hotel, has_secondary_use_rental, \n",
    "                    has_secondary_use_institution, has_secondary_use_industry, \n",
    "                    plan_configuration,\n",
    "        #now add all other features that were considered relevent according to research conducted on the internet\n",
    "                    geo_level_1_id, geo_level_2_id, geo_level_3_id, count_floors_pre_eq, age, \n",
    "                    area_percentage, height_percentage, land_surface_condition, count_families, building_id) %>% return()\n",
    "}"
   ]
  },
  {
   "cell_type": "code",
   "execution_count": 14,
   "metadata": {},
   "outputs": [],
   "source": [
    "saveData(featureEngineerRemove(train), trainLab, \n",
    "         featureEngineerRemove(val), valLab, featureEngineerRemove(test), 'filtered')"
   ]
  },
  {
   "cell_type": "code",
   "execution_count": null,
   "metadata": {},
   "outputs": [],
   "source": []
  },
  {
   "cell_type": "code",
   "execution_count": null,
   "metadata": {},
   "outputs": [],
   "source": []
  }
 ],
 "metadata": {
  "kernelspec": {
   "display_name": "R",
   "language": "R",
   "name": "ir"
  },
  "language_info": {
   "codemirror_mode": "r",
   "file_extension": ".r",
   "mimetype": "text/x-r-source",
   "name": "R",
   "pygments_lexer": "r",
   "version": "3.6.1"
  }
 },
 "nbformat": 4,
 "nbformat_minor": 4
}
