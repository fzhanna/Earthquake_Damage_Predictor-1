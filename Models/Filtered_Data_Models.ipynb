{
 "cells": [
  {
   "cell_type": "markdown",
   "metadata": {},
   "source": [
    "We will begin the multinomial log-linear models via a neural networks, then LDA and finally QDA. "
   ]
  },
  {
   "cell_type": "code",
   "execution_count": 6,
   "metadata": {
    "scrolled": true
   },
   "outputs": [],
   "source": [
    "setwd('C:/Users/iceca/Documents/Earthquake_Damage_Predictor')\n",
    "library(tidyverse)\n",
    "library(MASS)\n",
    "library(caret)\n",
    "library(nnet)\n",
    "library(randomForest)\n",
    "library(e1071)"
   ]
  },
  {
   "cell_type": "code",
   "execution_count": 2,
   "metadata": {
    "scrolled": true
   },
   "outputs": [
    {
     "name": "stderr",
     "output_type": "stream",
     "text": [
      "Joining, by = \"building_id\"\n",
      "Joining, by = \"building_id\"\n"
     ]
    }
   ],
   "source": [
    "loadFin<- modules::use('Helpers/Load_Final_Data.R')\n",
    "train <- loadFin$filtered()[[1]]\n",
    "trainLab <- loadFin$filtered()[[2]]\n",
    "val <- loadFin$filtered()[[3]]\n",
    "valLab <- loadFin$filtered()[[4]]\n",
    "test <- loadFin$filtered()[[5]]\n",
    "\n",
    "#when R reads the csv, it thinks damage_grade is an integer, so convert it back to a factor\n",
    "trainLab$damage_grade <- as.factor(trainLab$damage_grade)\n",
    "valLab$damage_grade <- as.factor(valLab$damage_grade)\n",
    "\n",
    "manipulate<- modules::use('Helpers/Manipulate.R')\n",
    "trainFull <- manipulate$combineLab(train, trainLab)\n",
    "valFull <- manipulate$combineLab(val, valLab)\n"
   ]
  },
  {
   "cell_type": "code",
   "execution_count": 3,
   "metadata": {},
   "outputs": [],
   "source": [
    "#saving predictions helper function\n",
    "savePredictions <- function(model) {\n",
    "    preds <- cbind(test$building_id, predict(model, subset(test, select=-c(building_id))))\n",
    "    colnames(preds) <- c(\"building_id\", \"damage_grade\")\n",
    "    write.csv(preds, 'Models/Predictions/Random_Forest.csv', row.names=FALSE)\n",
    "}"
   ]
  },
  {
   "cell_type": "code",
   "execution_count": 4,
   "metadata": {},
   "outputs": [],
   "source": [
    "trainFull$building_id <- NULL\n",
    "valFull$building_id <- NULL"
   ]
  },
  {
   "cell_type": "code",
   "execution_count": 7,
   "metadata": {
    "scrolled": true
   },
   "outputs": [
    {
     "name": "stdout",
     "output_type": "stream",
     "text": [
      "# weights:  189 (124 variable)\n",
      "initial  value 257668.526186 \n",
      "iter  10 value 217464.131283\n",
      "iter  20 value 205705.053699\n",
      "iter  30 value 205003.169849\n",
      "iter  40 value 201945.506402\n",
      "iter  50 value 196033.749889\n",
      "iter  60 value 192966.323094\n",
      "iter  70 value 188748.846870\n",
      "iter  80 value 186924.092821\n",
      "iter  90 value 185842.187192\n",
      "iter 100 value 185290.207974\n",
      "iter 110 value 185071.299722\n",
      "iter 120 value 184981.660105\n",
      "iter 130 value 184969.544471\n",
      "final  value 184969.479414 \n",
      "converged\n"
     ]
    }
   ],
   "source": [
    "model.Multinom <- multinom(as.factor(damage_grade) ~ ., trainFull, maxit=300)"
   ]
  },
  {
   "cell_type": "code",
   "execution_count": 8,
   "metadata": {},
   "outputs": [
    {
     "name": "stdout",
     "output_type": "stream",
     "text": [
      "Accuracy for the neural network was  0.5875062"
     ]
    }
   ],
   "source": [
    "prediction <- predict(model.Multinom, valFull)\n",
    "accuracy <- mean(prediction == valFull$damage_grade)\n",
    "cat('Accuracy for the neural network was ', accuracy)"
   ]
  },
  {
   "cell_type": "markdown",
   "metadata": {},
   "source": [
    "### Linear Discriminant Analysis (LDA)"
   ]
  },
  {
   "cell_type": "code",
   "execution_count": 10,
   "metadata": {},
   "outputs": [
    {
     "name": "stdout",
     "output_type": "stream",
     "text": [
      "Accuracy for the LDA was  0.5797168"
     ]
    }
   ],
   "source": [
    "model.LDA <- lda(as.factor(damage_grade)~., data = trainFull)\n",
    "predictionsVal <- predict(model.LDA, valFull)\n",
    "accuracy <- mean(predictionsVal$class == valFull$damage_grade)\n",
    "cat('Accuracy for the LDA was ', accuracy)"
   ]
  },
  {
   "cell_type": "markdown",
   "metadata": {},
   "source": [
    "### Quadratic Discriminant Analysis (QDA)"
   ]
  },
  {
   "cell_type": "code",
   "execution_count": 12,
   "metadata": {},
   "outputs": [
    {
     "data": {
      "text/html": [
       "0.426230766279114"
      ],
      "text/latex": [
       "0.426230766279114"
      ],
      "text/markdown": [
       "0.426230766279114"
      ],
      "text/plain": [
       "[1] 0.4262308"
      ]
     },
     "metadata": {},
     "output_type": "display_data"
    }
   ],
   "source": [
    "model.QDA <- qda(as.factor(damage_grade)~., \n",
    "                 data = trainFull)\n",
    "predictionsVal <- predict(model.QDA, valFull)\n",
    "accuracy <- mean(predictionsVal$class == valFull$damage_grade)\n",
    "accuracy"
   ]
  },
  {
   "cell_type": "markdown",
   "metadata": {},
   "source": [
    "### Neural Network"
   ]
  },
  {
   "cell_type": "code",
   "execution_count": 48,
   "metadata": {},
   "outputs": [
    {
     "name": "stderr",
     "output_type": "stream",
     "text": [
      "Joining, by = \"building_id\"\n",
      "Joining, by = \"building_id\"\n"
     ]
    }
   ],
   "source": [
    "#Neuralnet preprocessing\n",
    "\n",
    "#one hot encode the label\n",
    "trainLabProcessed <- data.frame(predict(dummyVars(\" ~ .\", data = trainLab), trainLab) )\n",
    "valLabProcessed <- data.frame(predict(dummyVars(\" ~ .\", data = valLab), valLab))\n",
    "\n",
    "#combine test, val, and train to preprocess together\n",
    "ntrain <- nrow(train)\n",
    "nval <- nrow(val)\n",
    "ntest <- nrow(test)\n",
    "X <- rbind(train, val, test)\n",
    "building_id <- X$building_id #extract building_id because it should not be scaled (to assisst in joins)\n",
    "X <- model.matrix(~.-building_id , X)\n",
    "X <- scale(X)\n",
    "X <- data.frame(cbind(X,building_id))\n",
    "X$X.Intercept. <- NULL\n",
    "#trainProcessed <- subset( inner_join(X[1:ntrain,], trainLabProcessed) , select=-c(building_id)) \n",
    "#valProcessed <- subset(inner_join(X[(1:nval) + ntrain ,], valLabProcessed), select=-c(building_id))\n",
    "#testProcessed <- subset(X[(1:ntest) + ntrain + nval,], select=-c(building_id))\n",
    "trainProcessed <- subset(X[1:ntrain,], select=-c(building_id))\n",
    "valProcessed <- subset(X[(1:nval) + ntrain ,], select=-c(building_id))\n",
    "testProcessed <- subset(X[(1:ntest) + ntrain + nval,], select=-c(building_id))\n",
    "trainLab <- subset(trainLab, select=-c(building_id))\n",
    "valLab <- subset(valLab, select=-c(building_id))"
   ]
  },
  {
   "cell_type": "code",
   "execution_count": 7,
   "metadata": {},
   "outputs": [
    {
     "ename": "ERROR",
     "evalue": "Error in .doLoadActions(where, attach): error in load action .__A__.1 for package ANN2: Rcpp::loadModule(module = \"ANN\", what = TRUE, env = ns, loadNow = TRUE): Unable to load module \"ANN\": cannot allocate vector of size 12.3 Gb\n",
     "output_type": "error",
     "traceback": [
      "Error in .doLoadActions(where, attach): error in load action .__A__.1 for package ANN2: Rcpp::loadModule(module = \"ANN\", what = TRUE, env = ns, loadNow = TRUE): Unable to load module \"ANN\": cannot allocate vector of size 12.3 Gb\nTraceback:\n",
      "1. ANN2::neuralnetwork",
      "2. getExportedValue(pkg, name)",
      "3. asNamespace(ns)",
      "4. getNamespace(ns)",
      "5. loadNamespace(name)",
      "6. methods::cacheMetaData(ns, TRUE, ns)",
      "7. .doLoadActions(where, attach)",
      "8. stop(gettextf(\"error in load action %s for package %s: %s: %s\", \n .     aname, getPackageName(where), callString, value$message))"
     ]
    }
   ],
   "source": [
    " model.Neuralnet <- ANN2::neuralnetwork(trainProcessed, trainLab, lossFunction = \"log\",\n",
    "  rectifierLayers = NA, sigmoidLayers = NA, regression = FALSE,\n",
    "  standardize = TRUE, learnRate = 5e-03, maxEpochs = 10,\n",
    "  hiddenLayers = c(5, 5), momentum = 0.9, learnRate = 0.001, verbose = TRUE)\n",
    "\n",
    "#f = as.formula(\"damage_grade.1 + damage_grade.2 + damage_grade.3 ~. -building_id\")\n",
    "#nn <- neuralnet(f,\n",
    "#                data = trainProcessed,\n",
    "#                hidden = c(5, 5, 5), threshold = 0.001,\n",
    "#                act.fct = \"tanh\",\n",
    "#                linear.output = FALSE,\n",
    "#                lifesign = \"minimal\")"
   ]
  },
  {
   "cell_type": "markdown",
   "metadata": {},
   "source": [
    "### Random Forests"
   ]
  },
  {
   "cell_type": "code",
   "execution_count": null,
   "metadata": {},
   "outputs": [],
   "source": []
  },
  {
   "cell_type": "code",
   "execution_count": null,
   "metadata": {
    "scrolled": true
   },
   "outputs": [],
   "source": []
  },
  {
   "cell_type": "code",
   "execution_count": 13,
   "metadata": {},
   "outputs": [],
   "source": [
    "mtry <- c(5,10,15,20,25)\n",
    "ntree <- c(80,70,60,50,40) \n",
    "\n",
    "createRandomForest <- function(mtry_, ntree_, trainFull, valFull){\n",
    "    model.RF <- randomForest(as.factor(damage_grade) ~ ., data=trainFull, ntree=ntree_, mtry=mtry_, importance=TRUE)\n",
    "    #dput(list(model.RF$confusion, modelRF$oob.times, modelRF$, \"Models/Random_Forest_Output.txt\")\n",
    "    cat('RESULTS FOR RANDOM FOREST, with mtry=', mtry_, 'ntree=', ntree_, '\\n \\n')\n",
    "    \n",
    "    predictionsVal <- predict(model.RF, valFull)\n",
    "    accuracy <- mean(predictionsVal == valFull$damage_grade)\n",
    "    cat('The accuracy for this random forest was',accuracy, '\\n')\n",
    "    \n",
    "    cat('\\n Confusion Matrix \\n')\n",
    "    print(model.RF$confusion)\n",
    "    \n",
    "    cat('\\n Variables sorted in importance (decreasing)\\n')\n",
    "    imp <- as.data.frame(importance(model.RF))\n",
    "    print(subset ( imp[order(-imp$MeanDecreaseGini),] ,select=MeanDecreaseGini))\n",
    "}"
   ]
  },
  {
   "cell_type": "code",
   "execution_count": 14,
   "metadata": {
    "scrolled": true
   },
   "outputs": [
    {
     "name": "stdout",
     "output_type": "stream",
     "text": [
      "RESULTS FOR RANDOM FOREST, with mtry= 5 ntree= 80 \n",
      " \n",
      "The accuracy for this random forest was 0.7072254 \n",
      "\n",
      " Confusion Matrix \n",
      "     1      2     3 class.error\n",
      "1 9679  12603   285   0.5710994\n",
      "2 4304 116603 12593   0.1265693\n",
      "3  379  39132 38962   0.5034980\n",
      "\n",
      " Variables sorted in importance (decreasing)\n",
      "                                       MeanDecreaseGini\n",
      "geo_level_1_id                             11177.018979\n",
      "geo_level_2_id                              6397.839110\n",
      "geo_level_3_id                              5473.540206\n",
      "area_percentage                             3670.718859\n",
      "age                                         3605.781455\n",
      "height_percentage                           2608.603218\n",
      "foundation_type                             2418.422592\n",
      "has_superstructure_mud                      1787.318664\n",
      "other_floor_type                            1567.162650\n",
      "ground_floor_type                           1555.399178\n",
      "count_floors_pre_eq                         1424.687495\n",
      "roof_type                                   1340.724992\n",
      "position                                    1190.073430\n",
      "count_families                              1116.768112\n",
      "land_surface_condition                      1046.665852\n",
      "has_superstructure_stone                     819.473051\n",
      "plan_configuration                           682.075318\n",
      "has_superstructure_cement_mortar_brick       666.277195\n",
      "has_superstructure_mud_mortar_stone          625.686731\n",
      "legal_ownership_status                       554.403149\n",
      "has_superstructure_concrete                  528.955772\n",
      "has_superstructure_adobe_mud                 521.123850\n",
      "has_secondary_use                            510.662092\n",
      "has_superstructure_stone_flag                493.763281\n",
      "has_superstructure_mortar                    439.726006\n",
      "has_superstructure_bamboo                    435.523370\n",
      "has_superstructure_cement                    409.196900\n",
      "has_superstructure_brick                     400.795599\n",
      "has_superstructure_tree                      352.768380\n",
      "has_superstructure_timber                    351.207648\n",
      "has_secondary_use_agriculture                339.854537\n",
      "has_secondary_use_hotel                      282.632008\n",
      "has_superstructure_rc_non_engineered         281.924724\n",
      "has_superstructure_other                     271.930081\n",
      "has_superstructure_mud_mortar_brick          263.995755\n",
      "has_superstructure_rc_engineered             208.727409\n",
      "has_superstructure_cement_mortar_stone       178.120993\n",
      "has_secondary_use_rental                     115.685551\n",
      "has_secondary_use_other                       99.749528\n",
      "has_secondary_use_industry                    33.031750\n",
      "has_secondary_use_institution                 24.432309\n",
      "has_secondary_use_school                      13.731823\n",
      "has_secondary_use_health_post                  5.531931\n",
      "has_secondary_use_gov_office                   3.730523\n",
      "has_secondary_use_use_police                   3.537078\n"
     ]
    }
   ],
   "source": [
    "createRandomForest(mtry[1],ntree[1], trainFull, valFull)"
   ]
  },
  {
   "cell_type": "code",
   "execution_count": 15,
   "metadata": {
    "scrolled": true
   },
   "outputs": [
    {
     "name": "stdout",
     "output_type": "stream",
     "text": [
      "RESULTS FOR RANDOM FOREST, with mtry= 10 ntree= 70 \n",
      " \n",
      "The accuracy for this random forest was 0.7354284 \n",
      "\n",
      " Confusion Matrix \n",
      "      1      2     3 class.error\n",
      "1 11109  11014   444   0.5077325\n",
      "2  5182 111685 16633   0.1634082\n",
      "3   544  29953 47976   0.3886305\n",
      "\n",
      " Variables sorted in importance (decreasing)\n",
      "                                       MeanDecreaseGini\n",
      "geo_level_1_id                             16826.543472\n",
      "geo_level_3_id                             13922.620851\n",
      "geo_level_2_id                             13682.425580\n",
      "age                                         9490.914411\n",
      "area_percentage                             9469.047563\n",
      "height_percentage                           5479.170869\n",
      "foundation_type                             2542.438978\n",
      "count_families                              2454.679948\n",
      "ground_floor_type                           2354.130642\n",
      "has_superstructure_mud                      2259.470949\n",
      "other_floor_type                            2206.152172\n",
      "position                                    2105.499618\n",
      "land_surface_condition                      2067.481247\n",
      "count_floors_pre_eq                         1926.937149\n",
      "roof_type                                   1857.325462\n",
      "has_superstructure_stone                    1464.158116\n",
      "plan_configuration                          1073.881978\n",
      "has_secondary_use                            910.589576\n",
      "legal_ownership_status                       870.008037\n",
      "has_superstructure_adobe_mud                 779.422757\n",
      "has_superstructure_mud_mortar_stone          750.607186\n",
      "has_secondary_use_agriculture                606.980966\n",
      "has_superstructure_bamboo                    601.059366\n",
      "has_superstructure_stone_flag                596.778963\n",
      "has_superstructure_cement                    553.036684\n",
      "has_superstructure_tree                      542.593973\n",
      "has_superstructure_brick                     498.923811\n",
      "has_superstructure_cement_mortar_brick       486.778574\n",
      "has_superstructure_concrete                  447.595906\n",
      "has_superstructure_mortar                    441.279106\n",
      "has_secondary_use_hotel                      430.161788\n",
      "has_superstructure_timber                    376.124900\n",
      "has_superstructure_other                     372.855729\n",
      "has_superstructure_mud_mortar_brick          327.402885\n",
      "has_superstructure_rc_non_engineered         323.900985\n",
      "has_superstructure_cement_mortar_stone       207.860676\n",
      "has_superstructure_rc_engineered             155.835257\n",
      "has_secondary_use_rental                     150.590525\n",
      "has_secondary_use_other                      132.784873\n",
      "has_secondary_use_industry                    40.974171\n",
      "has_secondary_use_institution                 27.729096\n",
      "has_secondary_use_school                      14.141681\n",
      "has_secondary_use_health_post                  6.327479\n",
      "has_secondary_use_gov_office                   3.470399\n",
      "has_secondary_use_use_police                   3.375169\n"
     ]
    }
   ],
   "source": [
    "createRandomForest(mtry[2],ntree[2], trainFull, valFull)"
   ]
  },
  {
   "cell_type": "code",
   "execution_count": 16,
   "metadata": {
    "scrolled": true
   },
   "outputs": [
    {
     "name": "stdout",
     "output_type": "stream",
     "text": [
      "RESULTS FOR RANDOM FOREST, with mtry= 15 ntree= 60 \n",
      " \n",
      "The accuracy for this random forest was 0.7325122 \n",
      "\n",
      " Confusion Matrix \n",
      "      1      2     3 class.error\n",
      "1 11522  10521   524   0.4894315\n",
      "2  5818 109620 18062   0.1788764\n",
      "3   667  28691 49115   0.3741159\n",
      "\n",
      " Variables sorted in importance (decreasing)\n",
      "                                       MeanDecreaseGini\n",
      "geo_level_1_id                             17604.238760\n",
      "geo_level_3_id                             16900.788626\n",
      "geo_level_2_id                             15348.600766\n",
      "age                                        12526.516203\n",
      "area_percentage                            12249.825931\n",
      "height_percentage                           6527.203651\n",
      "has_superstructure_mud                      3461.954688\n",
      "count_families                              2985.995536\n",
      "foundation_type                             2941.970284\n",
      "position                                    2543.605053\n",
      "ground_floor_type                           2366.227052\n",
      "land_surface_condition                      2347.090510\n",
      "roof_type                                   2138.720774\n",
      "other_floor_type                            2123.884885\n",
      "count_floors_pre_eq                         2041.311762\n",
      "plan_configuration                          1145.086996\n",
      "has_superstructure_stone                    1069.331445\n",
      "has_secondary_use                           1053.196357\n",
      "legal_ownership_status                       912.636624\n",
      "has_superstructure_adobe_mud                 746.333963\n",
      "has_secondary_use_agriculture                731.446346\n",
      "has_superstructure_stone_flag                717.238844\n",
      "has_superstructure_bamboo                    636.221570\n",
      "has_superstructure_cement                    593.083585\n",
      "has_superstructure_tree                      585.719343\n",
      "has_superstructure_brick                     515.948207\n",
      "has_superstructure_mud_mortar_stone          467.014332\n",
      "has_secondary_use_hotel                      463.870808\n",
      "has_superstructure_cement_mortar_brick       458.491295\n",
      "has_superstructure_timber                    417.544137\n",
      "has_superstructure_mortar                    379.167173\n",
      "has_superstructure_other                     373.314941\n",
      "has_superstructure_concrete                  365.398284\n",
      "has_superstructure_mud_mortar_brick          339.451167\n",
      "has_superstructure_rc_non_engineered         322.445155\n",
      "has_superstructure_cement_mortar_stone       226.819684\n",
      "has_secondary_use_rental                     154.660588\n",
      "has_superstructure_rc_engineered             139.484519\n",
      "has_secondary_use_other                      131.401552\n",
      "has_secondary_use_industry                    40.699533\n",
      "has_secondary_use_institution                 27.716493\n",
      "has_secondary_use_school                      12.684835\n",
      "has_secondary_use_health_post                  5.170333\n",
      "has_secondary_use_use_police                   3.555355\n",
      "has_secondary_use_gov_office                   3.312803\n"
     ]
    }
   ],
   "source": [
    "createRandomForest(mtry[3],ntree[3], trainFull, valFull)"
   ]
  },
  {
   "cell_type": "code",
   "execution_count": 17,
   "metadata": {
    "scrolled": true
   },
   "outputs": [
    {
     "name": "stdout",
     "output_type": "stream",
     "text": [
      "RESULTS FOR RANDOM FOREST, with mtry= 20 ntree= 50 \n",
      " \n",
      "The accuracy for this random forest was 0.7324738 \n",
      "\n",
      " Confusion Matrix \n",
      "      1      2     3 class.error\n",
      "1 11704  10252   611   0.4813666\n",
      "2  6225 108160 19115   0.1898127\n",
      "3   696  28123 49654   0.3672473\n",
      "\n",
      " Variables sorted in importance (decreasing)\n",
      "                                       MeanDecreaseGini\n",
      "geo_level_1_id                             17927.502123\n",
      "geo_level_3_id                             17722.587561\n",
      "geo_level_2_id                             15470.559789\n",
      "age                                        13825.498303\n",
      "area_percentage                            13478.173714\n",
      "height_percentage                           6823.962831\n",
      "has_superstructure_mud                      4247.343935\n",
      "count_families                              3193.416571\n",
      "position                                    2939.566396\n",
      "foundation_type                             2770.141749\n",
      "land_surface_condition                      2368.367962\n",
      "ground_floor_type                           2279.898436\n",
      "roof_type                                   2183.337712\n",
      "count_floors_pre_eq                         2138.042692\n",
      "other_floor_type                            2102.922312\n",
      "plan_configuration                          1135.171964\n",
      "has_secondary_use                           1060.735184\n",
      "has_superstructure_stone                     957.597125\n",
      "legal_ownership_status                       898.859696\n",
      "has_superstructure_stone_flag                760.598016\n",
      "has_secondary_use_agriculture                727.879184\n",
      "has_superstructure_adobe_mud                 712.429056\n",
      "has_superstructure_bamboo                    698.444823\n",
      "has_superstructure_cement                    696.401356\n",
      "has_superstructure_tree                      675.261885\n",
      "has_superstructure_timber                    557.454280\n",
      "has_superstructure_brick                     542.274377\n",
      "has_secondary_use_hotel                      456.120469\n",
      "has_superstructure_mud_mortar_stone          453.602257\n",
      "has_superstructure_cement_mortar_brick       445.467452\n",
      "has_superstructure_mortar                    383.700549\n",
      "has_superstructure_other                     368.630311\n",
      "has_superstructure_concrete                  318.549921\n",
      "has_superstructure_rc_non_engineered         304.897328\n",
      "has_superstructure_mud_mortar_brick          301.800883\n",
      "has_superstructure_cement_mortar_stone       219.779156\n",
      "has_secondary_use_rental                     158.470012\n",
      "has_superstructure_rc_engineered             145.884698\n",
      "has_secondary_use_other                      135.652816\n",
      "has_secondary_use_industry                    43.443494\n",
      "has_secondary_use_institution                 26.899842\n",
      "has_secondary_use_school                      12.446563\n",
      "has_secondary_use_health_post                  5.881093\n",
      "has_secondary_use_use_police                   3.799788\n",
      "has_secondary_use_gov_office                   2.190131\n"
     ]
    }
   ],
   "source": [
    "createRandomForest(mtry[4],ntree[4], trainFull, valFull)"
   ]
  },
  {
   "cell_type": "code",
   "execution_count": 18,
   "metadata": {
    "scrolled": true
   },
   "outputs": [
    {
     "name": "stdout",
     "output_type": "stream",
     "text": [
      "RESULTS FOR RANDOM FOREST, with mtry= 25 ntree= 40 \n",
      " \n",
      "The accuracy for this random forest was 0.7267948 \n",
      "\n",
      " Confusion Matrix \n",
      "      1      2     3 class.error\n",
      "1 11722  10198   647   0.4805690\n",
      "2  6577 107126 19797   0.1975581\n",
      "3   747  28069 49657   0.3672091\n",
      "\n",
      " Variables sorted in importance (decreasing)\n",
      "                                       MeanDecreaseGini\n",
      "geo_level_1_id                             18185.827857\n",
      "geo_level_3_id                             17865.851443\n",
      "geo_level_2_id                             15268.739331\n",
      "age                                        14446.945223\n",
      "area_percentage                            14230.558922\n",
      "height_percentage                           7184.544210\n",
      "has_superstructure_mud                      4156.896931\n",
      "foundation_type                             3516.086029\n",
      "count_families                              3266.517540\n",
      "position                                    3027.209899\n",
      "land_surface_condition                      2345.372841\n",
      "count_floors_pre_eq                         2276.594463\n",
      "roof_type                                   2237.081751\n",
      "other_floor_type                            2168.344674\n",
      "ground_floor_type                           2055.154975\n",
      "plan_configuration                          1130.638670\n",
      "has_secondary_use                           1045.810884\n",
      "legal_ownership_status                       922.414987\n",
      "has_superstructure_stone_flag                788.045374\n",
      "has_superstructure_bamboo                    754.352313\n",
      "has_superstructure_cement                    741.563638\n",
      "has_secondary_use_agriculture                710.046446\n",
      "has_superstructure_tree                      688.817618\n",
      "has_superstructure_adobe_mud                 662.364901\n",
      "has_superstructure_stone                     644.190343\n",
      "has_superstructure_timber                    608.912273\n",
      "has_superstructure_brick                     569.416090\n",
      "has_secondary_use_hotel                      450.605946\n",
      "has_superstructure_cement_mortar_brick       386.599021\n",
      "has_superstructure_mud_mortar_stone          386.591089\n",
      "has_superstructure_mortar                    380.149830\n",
      "has_superstructure_other                     373.660219\n",
      "has_superstructure_concrete                  316.374902\n",
      "has_superstructure_rc_non_engineered         297.849690\n",
      "has_superstructure_mud_mortar_brick          292.436422\n",
      "has_superstructure_cement_mortar_stone       221.068466\n",
      "has_secondary_use_rental                     150.639452\n",
      "has_secondary_use_other                      141.568245\n",
      "has_superstructure_rc_engineered             132.589975\n",
      "has_secondary_use_industry                    44.160616\n",
      "has_secondary_use_institution                 29.091407\n",
      "has_secondary_use_school                      12.796775\n",
      "has_secondary_use_health_post                  5.636981\n",
      "has_secondary_use_gov_office                   3.146910\n",
      "has_secondary_use_use_police                   2.978393\n"
     ]
    }
   ],
   "source": [
    "createRandomForest(mtry[5],ntree[5], trainFull, valFull)"
   ]
  },
  {
   "cell_type": "code",
   "execution_count": 19,
   "metadata": {},
   "outputs": [],
   "source": [
    "#best model based on accuracy of the previous models\n",
    "model.RF <- randomForest(as.factor(damage_grade) ~ ., data=rbind(trainFull,valFull), ntree=ntree[2], mtry=mtry[2], importance=FALSE)\n"
   ]
  },
  {
   "cell_type": "code",
   "execution_count": 20,
   "metadata": {},
   "outputs": [],
   "source": [
    "savePredictions(model.RF)"
   ]
  },
  {
   "cell_type": "markdown",
   "metadata": {},
   "source": [
    "### Support Vector Machines"
   ]
  },
  {
   "cell_type": "code",
   "execution_count": 21,
   "metadata": {},
   "outputs": [],
   "source": [
    "createSVMModel <- function(kernel, cost, trainFull, valFull, gamma=0.1, degree=1) {\n",
    "    if (kernel == \"linear\"){\n",
    "        cat(\"Kernel selected as linear\")\n",
    "        model.SVM <- svm(as.factor(damage_grade) ~., data=trainFull, cost=cost, scale=TRUE, kernel=\"linear\")\n",
    "    }\n",
    "    if (kernel == \"polynomial\") {\n",
    "        cat(\"Kernel selected as polynomial\")\n",
    "        model.SVM  <- svm(as.factor(damage_grade) ~., data=trainFull, cost=cost, degree=degree, scale=TRUE, kernel=\"polynomial\")\n",
    "    }\n",
    "    if (kernel == \"radial\") {\n",
    "        cat(\"Kernel selected as radial\")\n",
    "        model.SVM <- svm(as.factor(damage_grade) ~., data=trainFull, cost=cost,gamma=gamma, scale=TRUE, kernel=\"radial\")\n",
    "    }\n",
    "    preds <- predict(model.SVM, valFull)\n",
    "    acc <- mean(preds == valFull$damage_grade)\n",
    "    cat('The accuracy for this SVM, with kernel', kernel, 'and cost', cost,'\\n\\n')\n",
    "}\n",
    "gammaSearch <- 10^(-9:3)\n",
    "costSearch <- 10^(-3:3)\n",
    "degreeSearch <- 1:5\n"
   ]
  },
  {
   "cell_type": "code",
   "execution_count": null,
   "metadata": {},
   "outputs": [
    {
     "name": "stderr",
     "output_type": "stream",
     "text": [
      "Warning message:\n",
      "\"package 'parallelSVM' was built under R version 3.6.3\""
     ]
    }
   ],
   "source": [
    "library(parallelSVM)\n",
    "model.SVM <- parallelSVM(as.factor(damage_grade) ~., data=trainFull, sampleSize=0.1,kernel=\"linear\", cost=1)"
   ]
  },
  {
   "cell_type": "code",
   "execution_count": null,
   "metadata": {},
   "outputs": [],
   "source": [
    "preds <- predict(model.SVM, valFull)\n",
    "acc <- mean(preds == valFull$damage_grade)\n"
   ]
  },
  {
   "cell_type": "code",
   "execution_count": null,
   "metadata": {},
   "outputs": [],
   "source": [
    "cat('The accuracy for this SVM, with kernel','linear', 'and cost', 0.5,'was',acc,'\\n\\n')"
   ]
  },
  {
   "cell_type": "code",
   "execution_count": null,
   "metadata": {},
   "outputs": [],
   "source": [
    "#linear search\n",
    "for (c in c(0.01, 1, 10)){ \n",
    "    createSVMModel(\"linear\", c, trainFull, valFull) \n",
    "}"
   ]
  },
  {
   "cell_type": "code",
   "execution_count": null,
   "metadata": {},
   "outputs": [],
   "source": [
    "#polynomial\n",
    "polyParams <- expand.grid(costSearch, degreeSearch)\n",
    "ntry <- 10\n",
    "set.seed(5)\n",
    "params <- sample(1:nrow(polyParams) , ntry, replace=FALSE)\n",
    "for (i in params){\n",
    "    c <- polyParams[i,]$cost\n",
    "    deg <- polyParams[i,]$degree\n",
    "    cat('PARAMETERS: COST',c,' DEGREE ',deg, '\\n')\n",
    "    createSVMModel(\"polynomial\", c, trainFull, valFull, degree=deg) \n",
    "}"
   ]
  },
  {
   "cell_type": "code",
   "execution_count": null,
   "metadata": {},
   "outputs": [],
   "source": [
    "#radial\n",
    "radParams <- expand.grid(cost=costSearch, gamme=gammaSearch)\n",
    "ntry <- 10\n",
    "set.seed(5)\n",
    "params <- sample(1:nrow(radParams) , ntry, replace=FALSE)\n",
    "for (i in params){\n",
    "    c <- radParams[i,]$cost\n",
    "    gam <- radParams[i,]$gamma\n",
    "    createSVMModel(\"polynomial\", c, trainFull, valFull, gamma=gam) \n",
    "    cat('PARAMETERS: COST',c,' GAMMA ',gam, '\\n')\n",
    "}"
   ]
  }
 ],
 "metadata": {
  "kernelspec": {
   "display_name": "R",
   "language": "R",
   "name": "ir"
  },
  "language_info": {
   "codemirror_mode": "r",
   "file_extension": ".r",
   "mimetype": "text/x-r-source",
   "name": "R",
   "pygments_lexer": "r",
   "version": "3.6.1"
  }
 },
 "nbformat": 4,
 "nbformat_minor": 4
}
