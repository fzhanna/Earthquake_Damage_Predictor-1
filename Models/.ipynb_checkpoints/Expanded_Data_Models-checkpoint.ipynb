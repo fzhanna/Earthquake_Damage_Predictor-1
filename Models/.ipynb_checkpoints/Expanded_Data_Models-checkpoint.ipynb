{
 "cells": [
  {
   "cell_type": "markdown",
   "metadata": {},
   "source": [
    "We will begin the multinomial log-linear models via a neural networks, then LDA and finally QDA. "
   ]
  },
  {
   "cell_type": "code",
   "execution_count": 1,
   "metadata": {
    "scrolled": true
   },
   "outputs": [
    {
     "name": "stderr",
     "output_type": "stream",
     "text": [
      "Registered S3 methods overwritten by 'ggplot2':\n",
      "  method         from \n",
      "  [.quosures     rlang\n",
      "  c.quosures     rlang\n",
      "  print.quosures rlang\n",
      "Registered S3 method overwritten by 'rvest':\n",
      "  method            from\n",
      "  read_xml.response xml2\n",
      "-- Attaching packages --------------------------------------- tidyverse 1.2.1 --\n",
      "v ggplot2 3.1.1       v purrr   0.3.4  \n",
      "v tibble  2.1.1       v dplyr   0.8.0.1\n",
      "v tidyr   0.8.3       v stringr 1.4.0  \n",
      "v readr   1.3.1       v forcats 0.4.0  \n",
      "Warning message:\n",
      "\"package 'purrr' was built under R version 3.6.3\"-- Conflicts ------------------------------------------ tidyverse_conflicts() --\n",
      "x dplyr::filter() masks stats::filter()\n",
      "x dplyr::lag()    masks stats::lag()\n",
      "Warning message:\n",
      "\"package 'MASS' was built under R version 3.6.3\"\n",
      "Attaching package: 'MASS'\n",
      "\n",
      "The following object is masked from 'package:dplyr':\n",
      "\n",
      "    select\n",
      "\n",
      "Loading required package: lattice\n",
      "\n",
      "Attaching package: 'caret'\n",
      "\n",
      "The following object is masked from 'package:purrr':\n",
      "\n",
      "    lift\n",
      "\n",
      "Warning message:\n",
      "\"package 'randomForest' was built under R version 3.6.3\"randomForest 4.6-14\n",
      "Type rfNews() to see new features/changes/bug fixes.\n",
      "\n",
      "Attaching package: 'randomForest'\n",
      "\n",
      "The following object is masked from 'package:dplyr':\n",
      "\n",
      "    combine\n",
      "\n",
      "The following object is masked from 'package:ggplot2':\n",
      "\n",
      "    margin\n",
      "\n",
      "Warning message:\n",
      "\"package 'e1071' was built under R version 3.6.3\""
     ]
    }
   ],
   "source": [
    "setwd('C:/Users/iceca/Documents/Earthquake_Damage_Predictor')\n",
    "library(tidyverse)\n",
    "library(MASS)\n",
    "library(caret)\n",
    "library(nnet)\n",
    "library(randomForest)\n",
    "library(e1071)"
   ]
  },
  {
   "cell_type": "code",
   "execution_count": 2,
   "metadata": {
    "scrolled": true
   },
   "outputs": [
    {
     "name": "stderr",
     "output_type": "stream",
     "text": [
      "Joining, by = \"building_id\"\n",
      "Joining, by = \"building_id\"\n"
     ]
    }
   ],
   "source": [
    "loadFin<- modules::use('Helpers/Load_Final_Data.R')\n",
    "train <- loadFin$expanded()[[1]]\n",
    "trainLab <- loadFin$expanded()[[2]]\n",
    "val <- loadFin$expanded()[[3]]\n",
    "valLab <- loadFin$expanded()[[4]]\n",
    "test <- loadFin$expanded()[[5]]\n",
    "\n",
    "#when R reads the csv, it thinks damage_grade is an integer, so convert it back to a factor\n",
    "trainLab$damage_grade <- as.factor(trainLab$damage_grade)\n",
    "valLab$damage_grade <- as.factor(valLab$damage_grade)\n",
    "\n",
    "manipulate<- modules::use('Helpers/Manipulate.R')\n",
    "trainFull <- manipulate$combineLab(train, trainLab)\n",
    "valFull <- manipulate$combineLab(val, valLab)\n"
   ]
  },
  {
   "cell_type": "code",
   "execution_count": 3,
   "metadata": {},
   "outputs": [],
   "source": [
    "#saving predictions helper function\n",
    "savePredictions <- function(model) {\n",
    "    preds <- cbind(test$building_id, predict(model, subset(test, select=-c(building_id))))\n",
    "    colnames(preds) <- c(\"building_id\", \"damage_grade\")\n",
    "    write.csv(preds, 'Models/Predictions/Random_Forest.csv', row.names=FALSE)\n",
    "}"
   ]
  },
  {
   "cell_type": "code",
   "execution_count": 4,
   "metadata": {},
   "outputs": [],
   "source": [
    "trainFull$building_id <- NULL\n",
    "valFull$building_id <- NULL"
   ]
  },
  {
   "cell_type": "code",
   "execution_count": 5,
   "metadata": {
    "scrolled": true
   },
   "outputs": [
    {
     "name": "stdout",
     "output_type": "stream",
     "text": [
      "# weights:  189 (124 variable)\n",
      "initial  value 257668.526186 \n",
      "iter  10 value 217464.131283\n",
      "iter  20 value 205705.053699\n",
      "iter  30 value 205003.169849\n",
      "iter  40 value 201945.506402\n",
      "iter  50 value 196033.749889\n",
      "iter  60 value 192966.323094\n",
      "iter  70 value 188748.846870\n",
      "iter  80 value 186924.092821\n",
      "iter  90 value 185842.187192\n",
      "iter 100 value 185290.207974\n",
      "iter 110 value 185071.299722\n",
      "iter 120 value 184981.660105\n",
      "iter 130 value 184969.544471\n",
      "final  value 184969.479414 \n",
      "converged\n"
     ]
    }
   ],
   "source": [
    "model.Multinom <- multinom(as.factor(damage_grade) ~ ., trainFull, maxit=300)"
   ]
  },
  {
   "cell_type": "code",
   "execution_count": 6,
   "metadata": {},
   "outputs": [
    {
     "name": "stdout",
     "output_type": "stream",
     "text": [
      "Accuracy for the neural network was  0.5875062"
     ]
    }
   ],
   "source": [
    "prediction <- predict(model.Multinom, valFull)\n",
    "accuracy <- mean(prediction == valFull$damage_grade)\n",
    "cat('Accuracy for the neural network was ', accuracy)"
   ]
  },
  {
   "cell_type": "markdown",
   "metadata": {},
   "source": [
    "### Linear Discriminant Analysis (LDA)"
   ]
  },
  {
   "cell_type": "code",
   "execution_count": 7,
   "metadata": {},
   "outputs": [
    {
     "name": "stdout",
     "output_type": "stream",
     "text": [
      "Accuracy for the LDA was  0.5797168"
     ]
    }
   ],
   "source": [
    "model.LDA <- lda(as.factor(damage_grade)~., data = trainFull)\n",
    "predictionsVal <- predict(model.LDA, valFull)\n",
    "accuracy <- mean(predictionsVal$class == valFull$damage_grade)\n",
    "cat('Accuracy for the LDA was ', accuracy)"
   ]
  },
  {
   "cell_type": "markdown",
   "metadata": {},
   "source": [
    "### Quadratic Discriminant Analysis (QDA)"
   ]
  },
  {
   "cell_type": "code",
   "execution_count": 8,
   "metadata": {},
   "outputs": [
    {
     "data": {
      "text/html": [
       "0.426230766279114"
      ],
      "text/latex": [
       "0.426230766279114"
      ],
      "text/markdown": [
       "0.426230766279114"
      ],
      "text/plain": [
       "[1] 0.4262308"
      ]
     },
     "metadata": {},
     "output_type": "display_data"
    }
   ],
   "source": [
    "model.QDA <- qda(as.factor(damage_grade)~., \n",
    "                 data = trainFull)\n",
    "predictionsVal <- predict(model.QDA, valFull)\n",
    "accuracy <- mean(predictionsVal$class == valFull$damage_grade)\n",
    "accuracy"
   ]
  },
  {
   "cell_type": "markdown",
   "metadata": {},
   "source": [
    "### Neural Network"
   ]
  },
  {
   "cell_type": "code",
   "execution_count": 48,
   "metadata": {},
   "outputs": [
    {
     "name": "stderr",
     "output_type": "stream",
     "text": [
      "Joining, by = \"building_id\"\n",
      "Joining, by = \"building_id\"\n"
     ]
    }
   ],
   "source": [
    "#Neuralnet preprocessing\n",
    "\n",
    "#one hot encode the label\n",
    "trainLabProcessed <- data.frame(predict(dummyVars(\" ~ .\", data = trainLab), trainLab) )\n",
    "valLabProcessed <- data.frame(predict(dummyVars(\" ~ .\", data = valLab), valLab))\n",
    "\n",
    "#combine test, val, and train to preprocess together\n",
    "ntrain <- nrow(train)\n",
    "nval <- nrow(val)\n",
    "ntest <- nrow(test)\n",
    "X <- rbind(train, val, test)\n",
    "building_id <- X$building_id #extract building_id because it should not be scaled (to assisst in joins)\n",
    "X <- model.matrix(~.-building_id , X)\n",
    "X <- scale(X)\n",
    "X <- data.frame(cbind(X,building_id))\n",
    "X$X.Intercept. <- NULL\n",
    "#trainProcessed <- subset( inner_join(X[1:ntrain,], trainLabProcessed) , select=-c(building_id)) \n",
    "#valProcessed <- subset(inner_join(X[(1:nval) + ntrain ,], valLabProcessed), select=-c(building_id))\n",
    "#testProcessed <- subset(X[(1:ntest) + ntrain + nval,], select=-c(building_id))\n",
    "trainProcessed <- subset(X[1:ntrain,], select=-c(building_id))\n",
    "valProcessed <- subset(X[(1:nval) + ntrain ,], select=-c(building_id))\n",
    "testProcessed <- subset(X[(1:ntest) + ntrain + nval,], select=-c(building_id))\n",
    "trainLab <- subset(trainLab, select=-c(building_id))\n",
    "valLab <- subset(valLab, select=-c(building_id))"
   ]
  },
  {
   "cell_type": "code",
   "execution_count": 7,
   "metadata": {},
   "outputs": [
    {
     "ename": "ERROR",
     "evalue": "Error in .doLoadActions(where, attach): error in load action .__A__.1 for package ANN2: Rcpp::loadModule(module = \"ANN\", what = TRUE, env = ns, loadNow = TRUE): Unable to load module \"ANN\": cannot allocate vector of size 12.3 Gb\n",
     "output_type": "error",
     "traceback": [
      "Error in .doLoadActions(where, attach): error in load action .__A__.1 for package ANN2: Rcpp::loadModule(module = \"ANN\", what = TRUE, env = ns, loadNow = TRUE): Unable to load module \"ANN\": cannot allocate vector of size 12.3 Gb\nTraceback:\n",
      "1. ANN2::neuralnetwork",
      "2. getExportedValue(pkg, name)",
      "3. asNamespace(ns)",
      "4. getNamespace(ns)",
      "5. loadNamespace(name)",
      "6. methods::cacheMetaData(ns, TRUE, ns)",
      "7. .doLoadActions(where, attach)",
      "8. stop(gettextf(\"error in load action %s for package %s: %s: %s\", \n .     aname, getPackageName(where), callString, value$message))"
     ]
    }
   ],
   "source": [
    " model.Neuralnet <- ANN2::neuralnetwork(trainProcessed, trainLab, lossFunction = \"log\",\n",
    "  rectifierLayers = NA, sigmoidLayers = NA, regression = FALSE,\n",
    "  standardize = TRUE, learnRate = 5e-03, maxEpochs = 10,\n",
    "  hiddenLayers = c(5, 5), momentum = 0.9, learnRate = 0.001, verbose = TRUE)\n",
    "\n",
    "#f = as.formula(\"damage_grade.1 + damage_grade.2 + damage_grade.3 ~. -building_id\")\n",
    "#nn <- neuralnet(f,\n",
    "#                data = trainProcessed,\n",
    "#                hidden = c(5, 5, 5), threshold = 0.001,\n",
    "#                act.fct = \"tanh\",\n",
    "#                linear.output = FALSE,\n",
    "#                lifesign = \"minimal\")"
   ]
  },
  {
   "cell_type": "markdown",
   "metadata": {},
   "source": [
    "### Random Forests"
   ]
  },
  {
   "cell_type": "code",
   "execution_count": null,
   "metadata": {},
   "outputs": [],
   "source": []
  },
  {
   "cell_type": "code",
   "execution_count": null,
   "metadata": {
    "scrolled": true
   },
   "outputs": [],
   "source": []
  },
  {
   "cell_type": "code",
   "execution_count": 9,
   "metadata": {},
   "outputs": [],
   "source": [
    "mtry <- c(5,10,15,20,25)\n",
    "ntree <- c(80,70,60,50,40) \n",
    "\n",
    "createRandomForest <- function(mtry_, ntree_, trainFull, valFull){\n",
    "    model.RF <- randomForest(as.factor(damage_grade) ~ ., data=trainFull, ntree=ntree_, mtry=mtry_, importance=TRUE)\n",
    "    #dput(list(model.RF$confusion, modelRF$oob.times, modelRF$, \"Models/Random_Forest_Output.txt\")\n",
    "    cat('RESULTS FOR RANDOM FOREST, with mtry=', mtry_, 'ntree=', ntree_, '\\n \\n')\n",
    "    \n",
    "    predictionsVal <- predict(model.RF, valFull)\n",
    "    accuracy <- mean(predictionsVal == valFull$damage_grade)\n",
    "    cat('The accuracy for this random forest was',accuracy, '\\n')\n",
    "    \n",
    "    cat('\\n Confusion Matrix \\n')\n",
    "    print(model.RF$confusion)\n",
    "    \n",
    "    cat('\\n Variables sorted in importance (decreasing)\\n')\n",
    "    imp <- as.data.frame(importance(model.RF))\n",
    "    print(subset ( imp[order(-imp$MeanDecreaseGini),] ,select=MeanDecreaseGini))\n",
    "}"
   ]
  },
  {
   "cell_type": "code",
   "execution_count": 10,
   "metadata": {
    "scrolled": true
   },
   "outputs": [
    {
     "name": "stdout",
     "output_type": "stream",
     "text": [
      "RESULTS FOR RANDOM FOREST, with mtry= 5 ntree= 80 \n",
      " \n",
      "The accuracy for this random forest was 0.7051149 \n",
      "\n",
      " Confusion Matrix \n",
      "     1      2     3 class.error\n",
      "1 9603  12658   306   0.5744671\n",
      "2 4231 116298 12971   0.1288539\n",
      "3  393  39217 38863   0.5047596\n",
      "\n",
      " Variables sorted in importance (decreasing)\n",
      "                                       MeanDecreaseGini\n",
      "geo_level_1_id                             11025.634787\n",
      "geo_level_2_id                              6139.539214\n",
      "geo_level_3_id                              5333.607816\n",
      "area_percentage                             3579.535633\n",
      "age                                         3539.464603\n",
      "height_percentage                           2586.717870\n",
      "foundation_type                             2091.137481\n",
      "ground_floor_type                           1788.756888\n",
      "has_superstructure_mud                      1684.955306\n",
      "other_floor_type                            1580.177369\n",
      "count_floors_pre_eq                         1375.630010\n",
      "roof_type                                   1375.104776\n",
      "position                                    1153.601328\n",
      "count_families                              1100.450482\n",
      "land_surface_condition                      1011.861394\n",
      "has_superstructure_stone                     880.782992\n",
      "has_superstructure_cement_mortar_brick       738.565054\n",
      "has_superstructure_mud_mortar_stone          703.779971\n",
      "plan_configuration                           669.906332\n",
      "legal_ownership_status                       565.065795\n",
      "has_secondary_use                            509.514777\n",
      "has_superstructure_adobe_mud                 496.572262\n",
      "has_superstructure_stone_flag                461.950612\n",
      "has_superstructure_concrete                  430.480285\n",
      "has_superstructure_tree                      423.418330\n",
      "has_superstructure_bamboo                    421.912922\n",
      "has_superstructure_brick                     419.844394\n",
      "has_superstructure_mortar                    394.029260\n",
      "has_superstructure_cement                    380.149318\n",
      "has_secondary_use_agriculture                328.693684\n",
      "has_superstructure_rc_non_engineered         290.588250\n",
      "has_superstructure_mud_mortar_brick          283.672716\n",
      "has_superstructure_timber                    279.730075\n",
      "has_secondary_use_hotel                      270.376623\n",
      "has_superstructure_other                     269.002529\n",
      "has_superstructure_rc_engineered             221.577187\n",
      "has_superstructure_cement_mortar_stone       184.567298\n",
      "has_secondary_use_rental                     111.270149\n",
      "has_secondary_use_other                       96.095731\n",
      "has_secondary_use_industry                    32.765482\n",
      "has_secondary_use_institution                 23.154542\n",
      "has_secondary_use_school                      12.895622\n",
      "has_secondary_use_health_post                  5.421577\n",
      "has_secondary_use_gov_office                   3.669269\n",
      "has_secondary_use_use_police                   2.626609\n"
     ]
    }
   ],
   "source": [
    "createRandomForest(mtry[1],ntree[1], trainFull, valFull)"
   ]
  },
  {
   "cell_type": "code",
   "execution_count": 11,
   "metadata": {
    "scrolled": true
   },
   "outputs": [
    {
     "name": "stdout",
     "output_type": "stream",
     "text": [
      "RESULTS FOR RANDOM FOREST, with mtry= 10 ntree= 70 \n",
      " \n",
      "The accuracy for this random forest was 0.734354 \n",
      "\n",
      " Confusion Matrix \n",
      "      1      2     3 class.error\n",
      "1 11029  11127   411   0.5112775\n",
      "2  5195 111657 16648   0.1636180\n",
      "3   556  29992 47925   0.3892804\n",
      "\n",
      " Variables sorted in importance (decreasing)\n",
      "                                       MeanDecreaseGini\n",
      "geo_level_1_id                             16833.458490\n",
      "geo_level_3_id                             13917.518158\n",
      "geo_level_2_id                             13573.568947\n",
      "area_percentage                             9424.732436\n",
      "age                                         9364.231696\n",
      "height_percentage                           5533.013554\n",
      "foundation_type                             2709.283724\n",
      "ground_floor_type                           2597.125331\n",
      "count_families                              2462.512847\n",
      "has_superstructure_mud                      2348.775811\n",
      "other_floor_type                            2145.220537\n",
      "position                                    2120.697549\n",
      "land_surface_condition                      2107.869869\n",
      "count_floors_pre_eq                         1960.917494\n",
      "roof_type                                   1955.256986\n",
      "plan_configuration                          1060.863269\n",
      "has_superstructure_stone                    1000.024969\n",
      "has_secondary_use                            894.977728\n",
      "legal_ownership_status                       863.766642\n",
      "has_superstructure_mud_mortar_stone          826.464635\n",
      "has_superstructure_adobe_mud                 714.311319\n",
      "has_superstructure_stone_flag                636.992934\n",
      "has_secondary_use_agriculture                602.041682\n",
      "has_superstructure_bamboo                    580.120065\n",
      "has_superstructure_cement                    530.090333\n",
      "has_superstructure_brick                     528.286707\n",
      "has_superstructure_tree                      508.606585\n",
      "has_superstructure_cement_mortar_brick       484.583986\n",
      "has_superstructure_concrete                  425.321012\n",
      "has_superstructure_mortar                    421.567638\n",
      "has_secondary_use_hotel                      420.765578\n",
      "has_superstructure_timber                    411.993000\n",
      "has_superstructure_other                     367.039361\n",
      "has_superstructure_mud_mortar_brick          351.486022\n",
      "has_superstructure_rc_non_engineered         313.044712\n",
      "has_superstructure_cement_mortar_stone       208.697677\n",
      "has_superstructure_rc_engineered             190.451098\n",
      "has_secondary_use_rental                     150.957992\n",
      "has_secondary_use_other                      128.387726\n",
      "has_secondary_use_industry                    42.002044\n",
      "has_secondary_use_institution                 27.468942\n",
      "has_secondary_use_school                      13.351518\n",
      "has_secondary_use_health_post                  5.715612\n",
      "has_secondary_use_gov_office                   3.167317\n",
      "has_secondary_use_use_police                   2.988332\n"
     ]
    }
   ],
   "source": [
    "createRandomForest(mtry[2],ntree[2], trainFull, valFull)"
   ]
  },
  {
   "cell_type": "code",
   "execution_count": 12,
   "metadata": {
    "scrolled": true
   },
   "outputs": [
    {
     "name": "stdout",
     "output_type": "stream",
     "text": [
      "RESULTS FOR RANDOM FOREST, with mtry= 15 ntree= 60 \n",
      " \n",
      "The accuracy for this random forest was 0.7340087 \n",
      "\n",
      " Confusion Matrix \n",
      "      1      2     3 class.error\n",
      "1 11549  10477   541   0.4882350\n",
      "2  5890 109548 18062   0.1794157\n",
      "3   658  28622 49193   0.3731220\n",
      "\n",
      " Variables sorted in importance (decreasing)\n",
      "                                       MeanDecreaseGini\n",
      "geo_level_1_id                             17708.669392\n",
      "geo_level_3_id                             16789.457469\n",
      "geo_level_2_id                             15218.659404\n",
      "age                                        12388.295598\n",
      "area_percentage                            12344.971073\n",
      "height_percentage                           6533.607806\n",
      "has_superstructure_mud                      3024.745932\n",
      "foundation_type                             2996.167409\n",
      "count_families                              2974.595700\n",
      "position                                    2712.837339\n",
      "ground_floor_type                           2597.392284\n",
      "land_surface_condition                      2328.209773\n",
      "other_floor_type                            2184.081020\n",
      "roof_type                                   2168.418240\n",
      "count_floors_pre_eq                         2062.121253\n",
      "plan_configuration                          1136.049988\n",
      "has_secondary_use                           1037.201796\n",
      "has_superstructure_stone                     999.546038\n",
      "legal_ownership_status                       908.699410\n",
      "has_superstructure_adobe_mud                 728.656695\n",
      "has_secondary_use_agriculture                706.749518\n",
      "has_superstructure_bamboo                    678.100914\n",
      "has_superstructure_mud_mortar_stone          677.827678\n",
      "has_superstructure_stone_flag                636.581121\n",
      "has_superstructure_tree                      625.517019\n",
      "has_superstructure_cement                    617.469573\n",
      "has_superstructure_brick                     501.960235\n",
      "has_superstructure_timber                    469.491410\n",
      "has_secondary_use_hotel                      454.262542\n",
      "has_superstructure_cement_mortar_brick       429.368017\n",
      "has_superstructure_mortar                    406.417858\n",
      "has_superstructure_other                     379.502443\n",
      "has_superstructure_concrete                  371.227500\n",
      "has_superstructure_mud_mortar_brick          322.334105\n",
      "has_superstructure_rc_non_engineered         309.748692\n",
      "has_superstructure_cement_mortar_stone       230.114414\n",
      "has_secondary_use_rental                     153.232047\n",
      "has_superstructure_rc_engineered             146.124382\n",
      "has_secondary_use_other                      132.352552\n",
      "has_secondary_use_industry                    42.119114\n",
      "has_secondary_use_institution                 28.734891\n",
      "has_secondary_use_school                      13.069492\n",
      "has_secondary_use_health_post                  6.068609\n",
      "has_secondary_use_gov_office                   4.133506\n",
      "has_secondary_use_use_police                   3.115167\n"
     ]
    }
   ],
   "source": [
    "createRandomForest(mtry[3],ntree[3], trainFull, valFull)"
   ]
  },
  {
   "cell_type": "code",
   "execution_count": 13,
   "metadata": {
    "scrolled": true
   },
   "outputs": [
    {
     "name": "stdout",
     "output_type": "stream",
     "text": [
      "RESULTS FOR RANDOM FOREST, with mtry= 20 ntree= 50 \n",
      " \n",
      "The accuracy for this random forest was 0.7325506 \n",
      "\n",
      " Confusion Matrix \n",
      "      1      2     3 class.error\n",
      "1 11715  10234   618   0.4808792\n",
      "2  6251 108180 19069   0.1896629\n",
      "3   740  28268 49465   0.3696558\n",
      "\n",
      " Variables sorted in importance (decreasing)\n",
      "                                       MeanDecreaseGini\n",
      "geo_level_1_id                             17812.654326\n",
      "geo_level_3_id                             17812.293320\n",
      "geo_level_2_id                             15510.665866\n",
      "age                                        13769.541892\n",
      "area_percentage                            13539.153474\n",
      "height_percentage                           6926.707603\n",
      "has_superstructure_mud                      3487.358969\n",
      "count_families                              3186.881259\n",
      "position                                    2908.091833\n",
      "foundation_type                             2798.553928\n",
      "ground_floor_type                           2649.960676\n",
      "land_surface_condition                      2388.595047\n",
      "other_floor_type                            2335.645891\n",
      "roof_type                                   2259.522762\n",
      "count_floors_pre_eq                         2082.119331\n",
      "plan_configuration                          1147.687849\n",
      "has_secondary_use                           1046.429510\n",
      "has_superstructure_stone                     996.195021\n",
      "legal_ownership_status                       901.487651\n",
      "has_secondary_use_agriculture                723.179361\n",
      "has_superstructure_stone_flag                707.345574\n",
      "has_superstructure_bamboo                    702.374304\n",
      "has_superstructure_adobe_mud                 690.089792\n",
      "has_superstructure_cement                    673.223338\n",
      "has_superstructure_tree                      663.220816\n",
      "has_superstructure_timber                    552.140157\n",
      "has_superstructure_brick                     533.494126\n",
      "has_superstructure_mud_mortar_stone          526.881340\n",
      "has_secondary_use_hotel                      456.040339\n",
      "has_superstructure_cement_mortar_brick       440.673758\n",
      "has_superstructure_mortar                    392.852109\n",
      "has_superstructure_other                     371.290015\n",
      "has_superstructure_concrete                  326.210102\n",
      "has_superstructure_rc_non_engineered         298.294236\n",
      "has_superstructure_mud_mortar_brick          290.791289\n",
      "has_superstructure_cement_mortar_stone       232.773004\n",
      "has_secondary_use_rental                     156.647321\n",
      "has_superstructure_rc_engineered             137.125503\n",
      "has_secondary_use_other                      135.712137\n",
      "has_secondary_use_industry                    41.390488\n",
      "has_secondary_use_institution                 29.152752\n",
      "has_secondary_use_school                      12.756938\n",
      "has_secondary_use_health_post                  6.128171\n",
      "has_secondary_use_use_police                   3.093206\n",
      "has_secondary_use_gov_office                   2.636117\n"
     ]
    }
   ],
   "source": [
    "createRandomForest(mtry[4],ntree[4], trainFull, valFull)"
   ]
  },
  {
   "cell_type": "code",
   "execution_count": 14,
   "metadata": {
    "scrolled": true
   },
   "outputs": [
    {
     "name": "stdout",
     "output_type": "stream",
     "text": [
      "RESULTS FOR RANDOM FOREST, with mtry= 25 ntree= 40 \n",
      " \n",
      "The accuracy for this random forest was 0.7267948 \n",
      "\n",
      " Confusion Matrix \n",
      "      1      2     3 class.error\n",
      "1 11660  10278   629   0.4833163\n",
      "2  6607 107227 19666   0.1968015\n",
      "3   755  28207 49511   0.3690696\n",
      "\n",
      " Variables sorted in importance (decreasing)\n",
      "                                       MeanDecreaseGini\n",
      "geo_level_1_id                             18001.631452\n",
      "geo_level_3_id                             17987.155632\n",
      "geo_level_2_id                             15515.966511\n",
      "age                                        14537.685081\n",
      "area_percentage                            14287.771799\n",
      "height_percentage                           7143.066021\n",
      "has_superstructure_mud                      4648.828633\n",
      "count_families                              3274.060896\n",
      "position                                    2946.828331\n",
      "foundation_type                             2610.065695\n",
      "ground_floor_type                           2419.318206\n",
      "land_surface_condition                      2361.520622\n",
      "other_floor_type                            2160.444706\n",
      "count_floors_pre_eq                         2158.708275\n",
      "roof_type                                   2148.438888\n",
      "plan_configuration                          1126.078098\n",
      "has_secondary_use                           1055.440283\n",
      "legal_ownership_status                       895.495303\n",
      "has_superstructure_stone                     843.409243\n",
      "has_superstructure_stone_flag                752.769660\n",
      "has_secondary_use_agriculture                731.229135\n",
      "has_superstructure_bamboo                    730.004603\n",
      "has_superstructure_cement                    708.335439\n",
      "has_superstructure_adobe_mud                 682.754382\n",
      "has_superstructure_tree                      649.153876\n",
      "has_superstructure_brick                     589.236217\n",
      "has_superstructure_timber                    527.613123\n",
      "has_secondary_use_hotel                      451.468535\n",
      "has_superstructure_mud_mortar_stone          411.163840\n",
      "has_superstructure_cement_mortar_brick       398.461396\n",
      "has_superstructure_mortar                    389.169144\n",
      "has_superstructure_other                     372.396103\n",
      "has_superstructure_concrete                  288.172894\n",
      "has_superstructure_rc_non_engineered         286.993016\n",
      "has_superstructure_mud_mortar_brick          279.626843\n",
      "has_superstructure_cement_mortar_stone       221.170310\n",
      "has_superstructure_rc_engineered             154.100002\n",
      "has_secondary_use_rental                     153.944520\n",
      "has_secondary_use_other                      142.848106\n",
      "has_secondary_use_industry                    43.544337\n",
      "has_secondary_use_institution                 28.128873\n",
      "has_secondary_use_school                      13.001401\n",
      "has_secondary_use_health_post                  5.209635\n",
      "has_secondary_use_use_police                   3.418823\n",
      "has_secondary_use_gov_office                   2.125770\n"
     ]
    }
   ],
   "source": [
    "createRandomForest(mtry[5],ntree[5], trainFull, valFull)"
   ]
  },
  {
   "cell_type": "code",
   "execution_count": null,
   "metadata": {},
   "outputs": [],
   "source": [
    "#best model based on accuracy of the previous models\n",
    "model.RF <- randomForest(as.factor(damage_grade) ~ ., data=rbind(trainFull,valFull), ntree=ntree[2], mtry=mtry[2], importance=FALSE)\n"
   ]
  },
  {
   "cell_type": "code",
   "execution_count": null,
   "metadata": {},
   "outputs": [],
   "source": [
    "savePredictions(model.RF)"
   ]
  },
  {
   "cell_type": "markdown",
   "metadata": {},
   "source": [
    "### Support Vector Machines"
   ]
  },
  {
   "cell_type": "code",
   "execution_count": 21,
   "metadata": {},
   "outputs": [],
   "source": [
    "createSVMModel <- function(kernel, cost, trainFull, valFull, gamma=0.1, degree=1) {\n",
    "    if (kernel == \"linear\"){\n",
    "        cat(\"Kernel selected as linear\")\n",
    "        model.SVM <- svm(as.factor(damage_grade) ~., data=trainFull, cost=cost, scale=TRUE, kernel=\"linear\")\n",
    "    }\n",
    "    if (kernel == \"polynomial\") {\n",
    "        cat(\"Kernel selected as polynomial\")\n",
    "        model.SVM  <- svm(as.factor(damage_grade) ~., data=trainFull, cost=cost, degree=degree, scale=TRUE, kernel=\"polynomial\")\n",
    "    }\n",
    "    if (kernel == \"radial\") {\n",
    "        cat(\"Kernel selected as radial\")\n",
    "        model.SVM <- svm(as.factor(damage_grade) ~., data=trainFull, cost=cost,gamma=gamma, scale=TRUE, kernel=\"radial\")\n",
    "    }\n",
    "    preds <- predict(model.SVM, valFull)\n",
    "    acc <- mean(preds == valFull$damage_grade)\n",
    "    cat('The accuracy for this SVM, with kernel', kernel, 'and cost', cost,'\\n\\n')\n",
    "}\n",
    "gammaSearch <- 10^(-9:3)\n",
    "costSearch <- 10^(-3:3)\n",
    "degreeSearch <- 1:5\n"
   ]
  },
  {
   "cell_type": "code",
   "execution_count": null,
   "metadata": {},
   "outputs": [
    {
     "name": "stderr",
     "output_type": "stream",
     "text": [
      "Warning message:\n",
      "\"package 'parallelSVM' was built under R version 3.6.3\""
     ]
    }
   ],
   "source": [
    "library(parallelSVM)\n",
    "model.SVM <- parallelSVM(as.factor(damage_grade) ~., data=trainFull, sampleSize=0.1,kernel=\"linear\", cost=1)"
   ]
  },
  {
   "cell_type": "code",
   "execution_count": null,
   "metadata": {},
   "outputs": [],
   "source": [
    "preds <- predict(model.SVM, valFull)\n",
    "acc <- mean(preds == valFull$damage_grade)\n"
   ]
  },
  {
   "cell_type": "code",
   "execution_count": null,
   "metadata": {},
   "outputs": [],
   "source": [
    "cat('The accuracy for this SVM, with kernel','linear', 'and cost', 0.5,'was',acc,'\\n\\n')"
   ]
  },
  {
   "cell_type": "code",
   "execution_count": null,
   "metadata": {},
   "outputs": [],
   "source": [
    "#linear search\n",
    "for (c in c(0.01, 1, 10)){ \n",
    "    createSVMModel(\"linear\", c, trainFull, valFull) \n",
    "}"
   ]
  },
  {
   "cell_type": "code",
   "execution_count": null,
   "metadata": {},
   "outputs": [],
   "source": [
    "#polynomial\n",
    "polyParams <- expand.grid(costSearch, degreeSearch)\n",
    "ntry <- 10\n",
    "set.seed(5)\n",
    "params <- sample(1:nrow(polyParams) , ntry, replace=FALSE)\n",
    "for (i in params){\n",
    "    c <- polyParams[i,]$cost\n",
    "    deg <- polyParams[i,]$degree\n",
    "    cat('PARAMETERS: COST',c,' DEGREE ',deg, '\\n')\n",
    "    createSVMModel(\"polynomial\", c, trainFull, valFull, degree=deg) \n",
    "}"
   ]
  },
  {
   "cell_type": "code",
   "execution_count": null,
   "metadata": {},
   "outputs": [],
   "source": [
    "#radial\n",
    "radParams <- expand.grid(cost=costSearch, gamme=gammaSearch)\n",
    "ntry <- 10\n",
    "set.seed(5)\n",
    "params <- sample(1:nrow(radParams) , ntry, replace=FALSE)\n",
    "for (i in params){\n",
    "    c <- radParams[i,]$cost\n",
    "    gam <- radParams[i,]$gamma\n",
    "    createSVMModel(\"polynomial\", c, trainFull, valFull, gamma=gam) \n",
    "    cat('PARAMETERS: COST',c,' GAMMA ',gam, '\\n')\n",
    "}"
   ]
  }
 ],
 "metadata": {
  "kernelspec": {
   "display_name": "R",
   "language": "R",
   "name": "ir"
  },
  "language_info": {
   "codemirror_mode": "r",
   "file_extension": ".r",
   "mimetype": "text/x-r-source",
   "name": "R",
   "pygments_lexer": "r",
   "version": "3.6.1"
  }
 },
 "nbformat": 4,
 "nbformat_minor": 4
}
