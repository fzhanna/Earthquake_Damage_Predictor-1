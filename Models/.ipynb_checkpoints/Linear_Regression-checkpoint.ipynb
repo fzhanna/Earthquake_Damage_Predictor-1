{
 "cells": [
  {
   "cell_type": "markdown",
   "metadata": {},
   "source": [
    "We will begin the multinomial log-linear models via a neural networks, then LDA and finally QDA. "
   ]
  },
  {
   "cell_type": "code",
   "execution_count": null,
   "metadata": {
    "scrolled": true
   },
   "outputs": [],
   "source": [
    "setwd('C:/Users/iceca/Documents/Earthquake_Damage_Predictor')\n",
    "library(tidyverse)\n",
    "library(MASS)\n",
    "library(caret)\n",
    "library(randomForest)"
   ]
  },
  {
   "cell_type": "code",
   "execution_count": null,
   "metadata": {},
   "outputs": [],
   "source": [
    "loadFin<- modules::use('Helpers/Load_Final_Data.R')\n",
    "train <- loadFin$original()[[1]]\n",
    "trainLab <- loadFin$original()[[2]]\n",
    "val <- loadFin$original()[[3]]\n",
    "valLab <- loadFin$original()[[4]]\n",
    "test <- loadFin$original()[[5]]\n",
    "\n",
    "#when R reads the csv, it thinks damage_grade is an integer, so convert it back to a factor\n",
    "trainLab$damage_grade <- as.factor(trainLab$damage_grade)\n",
    "valLab$damage_grade <- as.factor(valLab$damage_grade)\n",
    "\n",
    "manipulate<- modules::use('Helpers/Manipulate.R')\n",
    "trainFull <- manipulate$combineLab(train, trainLab)\n",
    "valFull <- manipulate$combineLab(val, valLab)\n"
   ]
  },
  {
   "cell_type": "code",
   "execution_count": null,
   "metadata": {},
   "outputs": [],
   "source": [
    "trainFull$building_id <- NULL\n",
    "valFull$building_id <- NULL\n",
    "names(valFull)"
   ]
  },
  {
   "cell_type": "code",
   "execution_count": 11,
   "metadata": {
    "scrolled": true
   },
   "outputs": [
    {
     "name": "stdout",
     "output_type": "stream",
     "text": [
      "# weights:  168 (110 variable)\n",
      "initial  value 257668.526186 \n",
      "iter  10 value 219386.443047\n",
      "iter  20 value 203810.166568\n",
      "iter  30 value 203176.602980\n",
      "iter  40 value 198864.349203\n",
      "iter  50 value 193332.400180\n",
      "iter  60 value 191032.523780\n",
      "iter  70 value 188279.336865\n",
      "iter  80 value 187400.211812\n",
      "iter  90 value 186047.893217\n",
      "iter 100 value 185653.184150\n",
      "iter 110 value 185396.547623\n",
      "final  value 185383.225679 \n",
      "converged\n"
     ]
    }
   ],
   "source": [
    "model.Multinom <- multinom(as.factor(damage_grade) ~ ., trainFull, maxit=300)"
   ]
  },
  {
   "cell_type": "code",
   "execution_count": 13,
   "metadata": {},
   "outputs": [
    {
     "name": "stdout",
     "output_type": "stream",
     "text": [
      "Accuracy for the neural network was  0.5871225"
     ]
    }
   ],
   "source": [
    "prediction <- predict(model.Multinom, valFull)\n",
    "accuracy <- mean(prediction == valFull$damage_grade)\n",
    "cat('Accuracy for the neural network was ', accuracy)"
   ]
  },
  {
   "cell_type": "markdown",
   "metadata": {},
   "source": [
    "### Linear Discriminant Analysis (LDA)"
   ]
  },
  {
   "cell_type": "code",
   "execution_count": 14,
   "metadata": {},
   "outputs": [
    {
     "name": "stdout",
     "output_type": "stream",
     "text": [
      "Accuracy for the LDA was  0.5844749"
     ]
    }
   ],
   "source": [
    "model.LDA <- lda(as.factor(damage_grade)~.as.factor(), data = trainFull)\n",
    "predictionsVal <- predict(model.LDA, valFull)\n",
    "accuracy <- mean(predictionsVal$class == valFull$damage_grade)\n",
    "cat('Accuracy for the LDA was ', accuracy)"
   ]
  },
  {
   "cell_type": "markdown",
   "metadata": {},
   "source": [
    "### Quadratic Discriminant Analysis (QDA)"
   ]
  },
  {
   "cell_type": "code",
   "execution_count": 61,
   "metadata": {},
   "outputs": [],
   "source": [
    "model.QDA <- qda(as.factor(damage_grade)~., \n",
    "                 data = trainFull)\n",
    "predictionsVal <- predict(model.QDA, valFull)\n",
    "accuracy <- mean(predictionsVal$class == valFull$damage_grade)"
   ]
  },
  {
   "cell_type": "markdown",
   "metadata": {},
   "source": [
    "### Neural Network"
   ]
  },
  {
   "cell_type": "code",
   "execution_count": 48,
   "metadata": {},
   "outputs": [
    {
     "name": "stderr",
     "output_type": "stream",
     "text": [
      "Joining, by = \"building_id\"\n",
      "Joining, by = \"building_id\"\n"
     ]
    }
   ],
   "source": [
    "#Neuralnet preprocessing\n",
    "\n",
    "#one hot encode the label\n",
    "trainLabProcessed <- data.frame(predict(dummyVars(\" ~ .\", data = trainLab), trainLab) )\n",
    "valLabProcessed <- data.frame(predict(dummyVars(\" ~ .\", data = valLab), valLab))\n",
    "\n",
    "#combine test, val, and train to preprocess together\n",
    "ntrain <- nrow(train)\n",
    "nval <- nrow(val)\n",
    "ntest <- nrow(test)\n",
    "X <- rbind(train, val, test)\n",
    "building_id <- X$building_id #extract building_id because it should not be scaled (to assisst in joins)\n",
    "X <- model.matrix(~.-building_id , X)\n",
    "X <- scale(X)\n",
    "X <- data.frame(cbind(X,building_id))\n",
    "X$X.Intercept. <- NULL\n",
    "#trainProcessed <- subset( inner_join(X[1:ntrain,], trainLabProcessed) , select=-c(building_id)) \n",
    "#valProcessed <- subset(inner_join(X[(1:nval) + ntrain ,], valLabProcessed), select=-c(building_id))\n",
    "#testProcessed <- subset(X[(1:ntest) + ntrain + nval,], select=-c(building_id))\n",
    "trainProcessed <- subset(X[1:ntrain,], select=-c(building_id))\n",
    "valProcessed <- subset(X[(1:nval) + ntrain ,], select=-c(building_id))\n",
    "testProcessed <- subset(X[(1:ntest) + ntrain + nval,], select=-c(building_id))\n",
    "trainLab <- subset(trainLab, select=-c(building_id))\n",
    "valLab <- subset(valLab, select=-c(building_id))"
   ]
  },
  {
   "cell_type": "code",
   "execution_count": 7,
   "metadata": {},
   "outputs": [
    {
     "ename": "ERROR",
     "evalue": "Error in .doLoadActions(where, attach): error in load action .__A__.1 for package ANN2: Rcpp::loadModule(module = \"ANN\", what = TRUE, env = ns, loadNow = TRUE): Unable to load module \"ANN\": cannot allocate vector of size 12.3 Gb\n",
     "output_type": "error",
     "traceback": [
      "Error in .doLoadActions(where, attach): error in load action .__A__.1 for package ANN2: Rcpp::loadModule(module = \"ANN\", what = TRUE, env = ns, loadNow = TRUE): Unable to load module \"ANN\": cannot allocate vector of size 12.3 Gb\nTraceback:\n",
      "1. ANN2::neuralnetwork",
      "2. getExportedValue(pkg, name)",
      "3. asNamespace(ns)",
      "4. getNamespace(ns)",
      "5. loadNamespace(name)",
      "6. methods::cacheMetaData(ns, TRUE, ns)",
      "7. .doLoadActions(where, attach)",
      "8. stop(gettextf(\"error in load action %s for package %s: %s: %s\", \n .     aname, getPackageName(where), callString, value$message))"
     ]
    }
   ],
   "source": [
    " model.Neuralnet <- ANN2::neuralnetwork(trainProcessed, trainLab, lossFunction = \"log\",\n",
    "  rectifierLayers = NA, sigmoidLayers = NA, regression = FALSE,\n",
    "  standardize = TRUE, learnRate = 5e-03, maxEpochs = 10,\n",
    "  hiddenLayers = c(5, 5), momentum = 0.9, learnRate = 0.001, verbose = TRUE)\n",
    "\n",
    "#f = as.formula(\"damage_grade.1 + damage_grade.2 + damage_grade.3 ~. -building_id\")\n",
    "#nn <- neuralnet(f,\n",
    "#                data = trainProcessed,\n",
    "#                hidden = c(5, 5, 5), threshold = 0.001,\n",
    "#                act.fct = \"tanh\",\n",
    "#                linear.output = FALSE,\n",
    "#                lifesign = \"minimal\")"
   ]
  },
  {
   "cell_type": "markdown",
   "metadata": {},
   "source": [
    "### Random Forests"
   ]
  },
  {
   "cell_type": "code",
   "execution_count": 15,
   "metadata": {},
   "outputs": [
    {
     "data": {
      "text/html": [
       "<table>\n",
       "<thead><tr><th scope=col>Var1</th></tr></thead>\n",
       "<tbody>\n",
       "\t<tr><td>5</td></tr>\n",
       "</tbody>\n",
       "</table>\n"
      ],
      "text/latex": [
       "\\begin{tabular}{r|l}\n",
       " Var1\\\\\n",
       "\\hline\n",
       "\t 5\\\\\n",
       "\\end{tabular}\n"
      ],
      "text/markdown": [
       "\n",
       "| Var1 |\n",
       "|---|\n",
       "| 5 |\n",
       "\n"
      ],
      "text/plain": [
       "  Var1\n",
       "1 5   "
      ]
     },
     "metadata": {},
     "output_type": "display_data"
    }
   ],
   "source": [
    "expand.grid(c(5))\n",
    "model.RF = randomForest(as.factor(damage_grade) ~ ., data=trainFull, ntree=50, mtry=20, importance=TRUE)"
   ]
  },
  {
   "cell_type": "code",
   "execution_count": 63,
   "metadata": {},
   "outputs": [
    {
     "data": {
      "text/html": [
       "<ol class=list-inline>\n",
       "\t<li>1362.51847760796</li>\n",
       "\t<li>1046.91494954342</li>\n",
       "\t<li>1079.22718956635</li>\n",
       "\t<li>218.788520103123</li>\n",
       "\t<li>703.167775637921</li>\n",
       "\t<li>642.729914070142</li>\n",
       "\t<li>453.613455166562</li>\n",
       "\t<li>216.115297751268</li>\n",
       "\t<li>243.137420389046</li>\n",
       "\t<li>316.915306134856</li>\n",
       "\t<li>272.110830611728</li>\n",
       "\t<li>232.97096232446</li>\n",
       "\t<li>239.956740343991</li>\n",
       "\t<li>105.569179493663</li>\n",
       "\t<li>100.749359418698</li>\n",
       "\t<li>359.869244439656</li>\n",
       "\t<li>85.564041141609</li>\n",
       "\t<li>42.0056273177829</li>\n",
       "\t<li>62.4348131532406</li>\n",
       "\t<li>61.1757282570269</li>\n",
       "\t<li>159.458347232784</li>\n",
       "\t<li>46.9396802563447</li>\n",
       "\t<li>62.6797432770739</li>\n",
       "\t<li>11.9754543426696</li>\n",
       "\t<li>56.4211648835691</li>\n",
       "\t<li>86.312513582158</li>\n",
       "\t<li>219.1786184272</li>\n",
       "\t<li>88.0119729777013</li>\n",
       "\t<li>59.7932678558068</li>\n",
       "\t<li>51.2370158736612</li>\n",
       "\t<li>12.4213159528012</li>\n",
       "\t<li>0</li>\n",
       "\t<li>0</li>\n",
       "\t<li>3.93452781920799</li>\n",
       "\t<li>0</li>\n",
       "\t<li>0</li>\n",
       "\t<li>0.926669594135092</li>\n",
       "\t<li>19.2339404285459</li>\n",
       "</ol>\n"
      ],
      "text/latex": [
       "\\begin{enumerate*}\n",
       "\\item 1362.51847760796\n",
       "\\item 1046.91494954342\n",
       "\\item 1079.22718956635\n",
       "\\item 218.788520103123\n",
       "\\item 703.167775637921\n",
       "\\item 642.729914070142\n",
       "\\item 453.613455166562\n",
       "\\item 216.115297751268\n",
       "\\item 243.137420389046\n",
       "\\item 316.915306134856\n",
       "\\item 272.110830611728\n",
       "\\item 232.97096232446\n",
       "\\item 239.956740343991\n",
       "\\item 105.569179493663\n",
       "\\item 100.749359418698\n",
       "\\item 359.869244439656\n",
       "\\item 85.564041141609\n",
       "\\item 42.0056273177829\n",
       "\\item 62.4348131532406\n",
       "\\item 61.1757282570269\n",
       "\\item 159.458347232784\n",
       "\\item 46.9396802563447\n",
       "\\item 62.6797432770739\n",
       "\\item 11.9754543426696\n",
       "\\item 56.4211648835691\n",
       "\\item 86.312513582158\n",
       "\\item 219.1786184272\n",
       "\\item 88.0119729777013\n",
       "\\item 59.7932678558068\n",
       "\\item 51.2370158736612\n",
       "\\item 12.4213159528012\n",
       "\\item 0\n",
       "\\item 0\n",
       "\\item 3.93452781920799\n",
       "\\item 0\n",
       "\\item 0\n",
       "\\item 0.926669594135092\n",
       "\\item 19.2339404285459\n",
       "\\end{enumerate*}\n"
      ],
      "text/markdown": [
       "1. 1362.51847760796\n",
       "2. 1046.91494954342\n",
       "3. 1079.22718956635\n",
       "4. 218.788520103123\n",
       "5. 703.167775637921\n",
       "6. 642.729914070142\n",
       "7. 453.613455166562\n",
       "8. 216.115297751268\n",
       "9. 243.137420389046\n",
       "10. 316.915306134856\n",
       "11. 272.110830611728\n",
       "12. 232.97096232446\n",
       "13. 239.956740343991\n",
       "14. 105.569179493663\n",
       "15. 100.749359418698\n",
       "16. 359.869244439656\n",
       "17. 85.564041141609\n",
       "18. 42.0056273177829\n",
       "19. 62.4348131532406\n",
       "20. 61.1757282570269\n",
       "21. 159.458347232784\n",
       "22. 46.9396802563447\n",
       "23. 62.6797432770739\n",
       "24. 11.9754543426696\n",
       "25. 56.4211648835691\n",
       "26. 86.312513582158\n",
       "27. 219.1786184272\n",
       "28. 88.0119729777013\n",
       "29. 59.7932678558068\n",
       "30. 51.2370158736612\n",
       "31. 12.4213159528012\n",
       "32. 0\n",
       "33. 0\n",
       "34. 3.93452781920799\n",
       "35. 0\n",
       "36. 0\n",
       "37. 0.926669594135092\n",
       "38. 19.2339404285459\n",
       "\n",
       "\n"
      ],
      "text/plain": [
       " [1] 1362.5184776 1046.9149495 1079.2271896  218.7885201  703.1677756\n",
       " [6]  642.7299141  453.6134552  216.1152978  243.1374204  316.9153061\n",
       "[11]  272.1108306  232.9709623  239.9567403  105.5691795  100.7493594\n",
       "[16]  359.8692444   85.5640411   42.0056273   62.4348132   61.1757283\n",
       "[21]  159.4583472   46.9396803   62.6797433   11.9754543   56.4211649\n",
       "[26]   86.3125136  219.1786184   88.0119730   59.7932679   51.2370159\n",
       "[31]   12.4213160    0.0000000    0.0000000    3.9345278    0.0000000\n",
       "[36]    0.0000000    0.9266696   19.2339404"
      ]
     },
     "metadata": {},
     "output_type": "display_data"
    },
    {
     "data": {
      "text/html": [
       "<table>\n",
       "<thead><tr><th></th><th scope=col>MeanDecreaseGini</th></tr></thead>\n",
       "<tbody>\n",
       "\t<tr><th scope=row>geo_level_1_id</th><td>1362.5184776</td></tr>\n",
       "\t<tr><th scope=row>geo_level_3_id</th><td>1079.2271896</td></tr>\n",
       "\t<tr><th scope=row>geo_level_2_id</th><td>1046.9149495</td></tr>\n",
       "\t<tr><th scope=row>age</th><td> 703.1677756</td></tr>\n",
       "\t<tr><th scope=row>area_percentage</th><td> 642.7299141</td></tr>\n",
       "\t<tr><th scope=row>height_percentage</th><td> 453.6134552</td></tr>\n",
       "\t<tr><th scope=row>has_superstructure_mud_mortar_stone</th><td> 359.8692444</td></tr>\n",
       "\t<tr><th scope=row>roof_type</th><td> 316.9153061</td></tr>\n",
       "\t<tr><th scope=row>ground_floor_type</th><td> 272.1108306</td></tr>\n",
       "\t<tr><th scope=row>foundation_type</th><td> 243.1374204</td></tr>\n",
       "\t<tr><th scope=row>position</th><td> 239.9567403</td></tr>\n",
       "\t<tr><th scope=row>other_floor_type</th><td> 232.9709623</td></tr>\n",
       "\t<tr><th scope=row>count_families</th><td> 219.1786184</td></tr>\n",
       "\t<tr><th scope=row>count_floors_pre_eq</th><td> 218.7885201</td></tr>\n",
       "\t<tr><th scope=row>land_surface_condition</th><td> 216.1152978</td></tr>\n",
       "\t<tr><th scope=row>has_superstructure_timber</th><td> 159.4583472</td></tr>\n",
       "\t<tr><th scope=row>plan_configuration</th><td> 105.5691795</td></tr>\n",
       "\t<tr><th scope=row>has_superstructure_adobe_mud</th><td> 100.7493594</td></tr>\n",
       "\t<tr><th scope=row>has_secondary_use</th><td>  88.0119730</td></tr>\n",
       "\t<tr><th scope=row>legal_ownership_status</th><td>  86.3125136</td></tr>\n",
       "\t<tr><th scope=row>has_superstructure_stone_flag</th><td>  85.5640411</td></tr>\n",
       "\t<tr><th scope=row>has_superstructure_rc_non_engineered</th><td>  62.6797433</td></tr>\n",
       "\t<tr><th scope=row>has_superstructure_mud_mortar_brick</th><td>  62.4348132</td></tr>\n",
       "\t<tr><th scope=row>has_superstructure_cement_mortar_brick</th><td>  61.1757283</td></tr>\n",
       "\t<tr><th scope=row>has_secondary_use_agriculture</th><td>  59.7932679</td></tr>\n",
       "\t<tr><th scope=row>has_superstructure_other</th><td>  56.4211649</td></tr>\n",
       "\t<tr><th scope=row>has_secondary_use_hotel</th><td>  51.2370159</td></tr>\n",
       "\t<tr><th scope=row>has_superstructure_bamboo</th><td>  46.9396803</td></tr>\n",
       "\t<tr><th scope=row>has_superstructure_cement_mortar_stone</th><td>  42.0056273</td></tr>\n",
       "\t<tr><th scope=row>has_secondary_use_other</th><td>  19.2339404</td></tr>\n",
       "\t<tr><th scope=row>has_secondary_use_rental</th><td>  12.4213160</td></tr>\n",
       "\t<tr><th scope=row>has_superstructure_rc_engineered</th><td>  11.9754543</td></tr>\n",
       "\t<tr><th scope=row>has_secondary_use_industry</th><td>   3.9345278</td></tr>\n",
       "\t<tr><th scope=row>has_secondary_use_use_police</th><td>   0.9266696</td></tr>\n",
       "\t<tr><th scope=row>has_secondary_use_institution</th><td>   0.0000000</td></tr>\n",
       "\t<tr><th scope=row>has_secondary_use_school</th><td>   0.0000000</td></tr>\n",
       "\t<tr><th scope=row>has_secondary_use_health_post</th><td>   0.0000000</td></tr>\n",
       "\t<tr><th scope=row>has_secondary_use_gov_office</th><td>   0.0000000</td></tr>\n",
       "</tbody>\n",
       "</table>\n"
      ],
      "text/latex": [
       "\\begin{tabular}{r|l}\n",
       "  & MeanDecreaseGini\\\\\n",
       "\\hline\n",
       "\tgeo\\_level\\_1\\_id & 1362.5184776\\\\\n",
       "\tgeo\\_level\\_3\\_id & 1079.2271896\\\\\n",
       "\tgeo\\_level\\_2\\_id & 1046.9149495\\\\\n",
       "\tage &  703.1677756\\\\\n",
       "\tarea\\_percentage &  642.7299141\\\\\n",
       "\theight\\_percentage &  453.6134552\\\\\n",
       "\thas\\_superstructure\\_mud\\_mortar\\_stone &  359.8692444\\\\\n",
       "\troof\\_type &  316.9153061\\\\\n",
       "\tground\\_floor\\_type &  272.1108306\\\\\n",
       "\tfoundation\\_type &  243.1374204\\\\\n",
       "\tposition &  239.9567403\\\\\n",
       "\tother\\_floor\\_type &  232.9709623\\\\\n",
       "\tcount\\_families &  219.1786184\\\\\n",
       "\tcount\\_floors\\_pre\\_eq &  218.7885201\\\\\n",
       "\tland\\_surface\\_condition &  216.1152978\\\\\n",
       "\thas\\_superstructure\\_timber &  159.4583472\\\\\n",
       "\tplan\\_configuration &  105.5691795\\\\\n",
       "\thas\\_superstructure\\_adobe\\_mud &  100.7493594\\\\\n",
       "\thas\\_secondary\\_use &   88.0119730\\\\\n",
       "\tlegal\\_ownership\\_status &   86.3125136\\\\\n",
       "\thas\\_superstructure\\_stone\\_flag &   85.5640411\\\\\n",
       "\thas\\_superstructure\\_rc\\_non\\_engineered &   62.6797433\\\\\n",
       "\thas\\_superstructure\\_mud\\_mortar\\_brick &   62.4348132\\\\\n",
       "\thas\\_superstructure\\_cement\\_mortar\\_brick &   61.1757283\\\\\n",
       "\thas\\_secondary\\_use\\_agriculture &   59.7932679\\\\\n",
       "\thas\\_superstructure\\_other &   56.4211649\\\\\n",
       "\thas\\_secondary\\_use\\_hotel &   51.2370159\\\\\n",
       "\thas\\_superstructure\\_bamboo &   46.9396803\\\\\n",
       "\thas\\_superstructure\\_cement\\_mortar\\_stone &   42.0056273\\\\\n",
       "\thas\\_secondary\\_use\\_other &   19.2339404\\\\\n",
       "\thas\\_secondary\\_use\\_rental &   12.4213160\\\\\n",
       "\thas\\_superstructure\\_rc\\_engineered &   11.9754543\\\\\n",
       "\thas\\_secondary\\_use\\_industry &    3.9345278\\\\\n",
       "\thas\\_secondary\\_use\\_use\\_police &    0.9266696\\\\\n",
       "\thas\\_secondary\\_use\\_institution &    0.0000000\\\\\n",
       "\thas\\_secondary\\_use\\_school &    0.0000000\\\\\n",
       "\thas\\_secondary\\_use\\_health\\_post &    0.0000000\\\\\n",
       "\thas\\_secondary\\_use\\_gov\\_office &    0.0000000\\\\\n",
       "\\end{tabular}\n"
      ],
      "text/markdown": [
       "\n",
       "| <!--/--> | MeanDecreaseGini |\n",
       "|---|---|\n",
       "| geo_level_1_id | 1362.5184776 |\n",
       "| geo_level_3_id | 1079.2271896 |\n",
       "| geo_level_2_id | 1046.9149495 |\n",
       "| age |  703.1677756 |\n",
       "| area_percentage |  642.7299141 |\n",
       "| height_percentage |  453.6134552 |\n",
       "| has_superstructure_mud_mortar_stone |  359.8692444 |\n",
       "| roof_type |  316.9153061 |\n",
       "| ground_floor_type |  272.1108306 |\n",
       "| foundation_type |  243.1374204 |\n",
       "| position |  239.9567403 |\n",
       "| other_floor_type |  232.9709623 |\n",
       "| count_families |  219.1786184 |\n",
       "| count_floors_pre_eq |  218.7885201 |\n",
       "| land_surface_condition |  216.1152978 |\n",
       "| has_superstructure_timber |  159.4583472 |\n",
       "| plan_configuration |  105.5691795 |\n",
       "| has_superstructure_adobe_mud |  100.7493594 |\n",
       "| has_secondary_use |   88.0119730 |\n",
       "| legal_ownership_status |   86.3125136 |\n",
       "| has_superstructure_stone_flag |   85.5640411 |\n",
       "| has_superstructure_rc_non_engineered |   62.6797433 |\n",
       "| has_superstructure_mud_mortar_brick |   62.4348132 |\n",
       "| has_superstructure_cement_mortar_brick |   61.1757283 |\n",
       "| has_secondary_use_agriculture |   59.7932679 |\n",
       "| has_superstructure_other |   56.4211649 |\n",
       "| has_secondary_use_hotel |   51.2370159 |\n",
       "| has_superstructure_bamboo |   46.9396803 |\n",
       "| has_superstructure_cement_mortar_stone |   42.0056273 |\n",
       "| has_secondary_use_other |   19.2339404 |\n",
       "| has_secondary_use_rental |   12.4213160 |\n",
       "| has_superstructure_rc_engineered |   11.9754543 |\n",
       "| has_secondary_use_industry |    3.9345278 |\n",
       "| has_secondary_use_use_police |    0.9266696 |\n",
       "| has_secondary_use_institution |    0.0000000 |\n",
       "| has_secondary_use_school |    0.0000000 |\n",
       "| has_secondary_use_health_post |    0.0000000 |\n",
       "| has_secondary_use_gov_office |    0.0000000 |\n",
       "\n"
      ],
      "text/plain": [
       "                                       MeanDecreaseGini\n",
       "geo_level_1_id                         1362.5184776    \n",
       "geo_level_3_id                         1079.2271896    \n",
       "geo_level_2_id                         1046.9149495    \n",
       "age                                     703.1677756    \n",
       "area_percentage                         642.7299141    \n",
       "height_percentage                       453.6134552    \n",
       "has_superstructure_mud_mortar_stone     359.8692444    \n",
       "roof_type                               316.9153061    \n",
       "ground_floor_type                       272.1108306    \n",
       "foundation_type                         243.1374204    \n",
       "position                                239.9567403    \n",
       "other_floor_type                        232.9709623    \n",
       "count_families                          219.1786184    \n",
       "count_floors_pre_eq                     218.7885201    \n",
       "land_surface_condition                  216.1152978    \n",
       "has_superstructure_timber               159.4583472    \n",
       "plan_configuration                      105.5691795    \n",
       "has_superstructure_adobe_mud            100.7493594    \n",
       "has_secondary_use                        88.0119730    \n",
       "legal_ownership_status                   86.3125136    \n",
       "has_superstructure_stone_flag            85.5640411    \n",
       "has_superstructure_rc_non_engineered     62.6797433    \n",
       "has_superstructure_mud_mortar_brick      62.4348132    \n",
       "has_superstructure_cement_mortar_brick   61.1757283    \n",
       "has_secondary_use_agriculture            59.7932679    \n",
       "has_superstructure_other                 56.4211649    \n",
       "has_secondary_use_hotel                  51.2370159    \n",
       "has_superstructure_bamboo                46.9396803    \n",
       "has_superstructure_cement_mortar_stone   42.0056273    \n",
       "has_secondary_use_other                  19.2339404    \n",
       "has_secondary_use_rental                 12.4213160    \n",
       "has_superstructure_rc_engineered         11.9754543    \n",
       "has_secondary_use_industry                3.9345278    \n",
       "has_secondary_use_use_police              0.9266696    \n",
       "has_secondary_use_institution             0.0000000    \n",
       "has_secondary_use_school                  0.0000000    \n",
       "has_secondary_use_health_post             0.0000000    \n",
       "has_secondary_use_gov_office              0.0000000    "
      ]
     },
     "metadata": {},
     "output_type": "display_data"
    },
    {
     "data": {
      "text/html": [
       "<ol class=list-inline>\n",
       "\t<li>'call'</li>\n",
       "\t<li>'type'</li>\n",
       "\t<li>'predicted'</li>\n",
       "\t<li>'err.rate'</li>\n",
       "\t<li>'confusion'</li>\n",
       "\t<li>'votes'</li>\n",
       "\t<li>'oob.times'</li>\n",
       "\t<li>'classes'</li>\n",
       "\t<li>'importance'</li>\n",
       "\t<li>'importanceSD'</li>\n",
       "\t<li>'localImportance'</li>\n",
       "\t<li>'proximity'</li>\n",
       "\t<li>'ntree'</li>\n",
       "\t<li>'mtry'</li>\n",
       "\t<li>'forest'</li>\n",
       "\t<li>'y'</li>\n",
       "\t<li>'test'</li>\n",
       "\t<li>'inbag'</li>\n",
       "\t<li>'terms'</li>\n",
       "\t<li>'predictionsVal'</li>\n",
       "</ol>\n"
      ],
      "text/latex": [
       "\\begin{enumerate*}\n",
       "\\item 'call'\n",
       "\\item 'type'\n",
       "\\item 'predicted'\n",
       "\\item 'err.rate'\n",
       "\\item 'confusion'\n",
       "\\item 'votes'\n",
       "\\item 'oob.times'\n",
       "\\item 'classes'\n",
       "\\item 'importance'\n",
       "\\item 'importanceSD'\n",
       "\\item 'localImportance'\n",
       "\\item 'proximity'\n",
       "\\item 'ntree'\n",
       "\\item 'mtry'\n",
       "\\item 'forest'\n",
       "\\item 'y'\n",
       "\\item 'test'\n",
       "\\item 'inbag'\n",
       "\\item 'terms'\n",
       "\\item 'predictionsVal'\n",
       "\\end{enumerate*}\n"
      ],
      "text/markdown": [
       "1. 'call'\n",
       "2. 'type'\n",
       "3. 'predicted'\n",
       "4. 'err.rate'\n",
       "5. 'confusion'\n",
       "6. 'votes'\n",
       "7. 'oob.times'\n",
       "8. 'classes'\n",
       "9. 'importance'\n",
       "10. 'importanceSD'\n",
       "11. 'localImportance'\n",
       "12. 'proximity'\n",
       "13. 'ntree'\n",
       "14. 'mtry'\n",
       "15. 'forest'\n",
       "16. 'y'\n",
       "17. 'test'\n",
       "18. 'inbag'\n",
       "19. 'terms'\n",
       "20. 'predictionsVal'\n",
       "\n",
       "\n"
      ],
      "text/plain": [
       " [1] \"call\"            \"type\"            \"predicted\"       \"err.rate\"       \n",
       " [5] \"confusion\"       \"votes\"           \"oob.times\"       \"classes\"        \n",
       " [9] \"importance\"      \"importanceSD\"    \"localImportance\" \"proximity\"      \n",
       "[13] \"ntree\"           \"mtry\"            \"forest\"          \"y\"              \n",
       "[17] \"test\"            \"inbag\"           \"terms\"           \"predictionsVal\" "
      ]
     },
     "metadata": {},
     "output_type": "display_data"
    },
    {
     "data": {
      "text/html": [
       "<table>\n",
       "<thead><tr><th scope=col>1</th><th scope=col>2</th><th scope=col>3</th><th scope=col>class.error</th></tr></thead>\n",
       "<tbody>\n",
       "\t<tr><td>377      </td><td> 502     </td><td>  92     </td><td>0.6117405</td></tr>\n",
       "\t<tr><td>400      </td><td>3647     </td><td>1294     </td><td>0.3171691</td></tr>\n",
       "\t<tr><td> 80      </td><td>1607     </td><td>1518     </td><td>0.5263651</td></tr>\n",
       "</tbody>\n",
       "</table>\n"
      ],
      "text/latex": [
       "\\begin{tabular}{r|llll}\n",
       " 1 & 2 & 3 & class.error\\\\\n",
       "\\hline\n",
       "\t 377       &  502      &   92      & 0.6117405\\\\\n",
       "\t 400       & 3647      & 1294      & 0.3171691\\\\\n",
       "\t  80       & 1607      & 1518      & 0.5263651\\\\\n",
       "\\end{tabular}\n"
      ],
      "text/markdown": [
       "\n",
       "| 1 | 2 | 3 | class.error |\n",
       "|---|---|---|---|\n",
       "| 377       |  502      |   92      | 0.6117405 |\n",
       "| 400       | 3647      | 1294      | 0.3171691 |\n",
       "|  80       | 1607      | 1518      | 0.5263651 |\n",
       "\n"
      ],
      "text/plain": [
       "  1   2    3    class.error\n",
       "1 377  502   92 0.6117405  \n",
       "2 400 3647 1294 0.3171691  \n",
       "3  80 1607 1518 0.5263651  "
      ]
     },
     "metadata": {},
     "output_type": "display_data"
    },
    {
     "data": {
      "text/plain": [
       "              \n",
       "predictionsVal     1     2     3\n",
       "             1  1564   611   128\n",
       "             2   839 11865  3055\n",
       "             3   154  2283  5562"
      ]
     },
     "metadata": {},
     "output_type": "display_data"
    },
    {
     "name": "stdout",
     "output_type": "stream",
     "text": [
      "The accuracy for this random forest was 0.7287134"
     ]
    }
   ],
   "source": [
    "as.data.frame(importance(model.RF))$MeanDecreaseGini \n",
    "imp <- as.data.frame(importance(model.RF))\n",
    "subset ( imp[order(-imp$MeanDecreaseGini),] ,select=MeanDecreaseGini)\n",
    "\n",
    "names(model.RF)\n",
    "\n",
    "predictionsVal <- predict(model.RF, valFull)\n",
    "table(predictionsVal, valFull$damage_grade)\n",
    "accuracy <- mean(predictionsVal == valFull$damage_grade)\n",
    "cat('The accuracy for this random forest was',accuracy)"
   ]
  },
  {
   "cell_type": "code",
   "execution_count": null,
   "metadata": {},
   "outputs": [],
   "source": [
    "mtry <- c(5,10,15,20,25)\n",
    "ntree <- c(80,70,60,50,40) \n",
    "\n",
    "createRandomForest <- function(mtry_, ntree_, trainFull, valFull){\n",
    "    model.RF <- randomForest(as.factor(damage_grade) ~ ., data=trainFull, ntree=ntree_, mtry=mtry_, importance=TRUE)\n",
    "    #dput(list(model.RF$confusion, modelRF$oob.times, modelRF$, \"Models/Random_Forest_Output.txt\")\n",
    "    cat('RESULTS FOR RANDOM FOREST, with mtry=', mtry_, 'ntree=', ntree_, '\\n \\n')\n",
    "    \n",
    "    predictionsVal <- predict(model.RF, valFull)\n",
    "    accuracy <- mean(predictionsVal == valFull$damage_grade)\n",
    "    cat('The accuracy for this random forest was',accuracy, '\\n \\n')\n",
    "    \n",
    "    cat('Confusion Matrix \\n')\n",
    "    print(model.RF$confusion)\n",
    "    \n",
    "    cat('Variables sorted in importance (decreasing)')\n",
    "    imp <- as.data.frame(importance(model.RF))\n",
    "    print(subset ( imp[order(-imp$MeanDecreaseGini),] ,select=MeanDecreaseGini))\n",
    "}"
   ]
  },
  {
   "cell_type": "code",
   "execution_count": null,
   "metadata": {},
   "outputs": [],
   "source": [
    "createRandomForest(3,1, trainFull, valFull)"
   ]
  },
  {
   "cell_type": "code",
   "execution_count": null,
   "metadata": {},
   "outputs": [],
   "source": [
    "for (i in 1:length(mtry)) {\n",
    "    createRandomForest(mtree[i], ntree[i], trainFull, valFull)\n",
    "    #model.RF <- randomForest(as.factor(damage_grade) ~ ., data=trainFull, ntree=ntree_, mtry=mtry_, importance=TRUE)\n",
    "    #dput(list(model.RF$confusion, modelRF$oob.times, modelRF$, \"Models/Random_Forest_Output.txt\")\n",
    "    #cat('RESULTS FOR RANDOM FOREST, with mtry=', mtry_, 'ntree=', ntree_, '\\n \\n')\n",
    "    \n",
    "    #predictionsVal <- predict(model.RF, valFull)\n",
    "    #accuracy <- mean(predictionsVal == valFull$damage_grade)\n",
    "    #cat('The accuracy for this random forest was',accuracy, '\\n \\n')\n",
    "    \n",
    "    #cat('Confusion Matrix \\n')\n",
    "    #print(model.RF$confusion)\n",
    "    \n",
    "    #cat('Variables sorted in importance (decreasing)')\n",
    "    #imp <- as.data.frame(importance(model.RF))\n",
    "    #print(subset ( imp[order(-imp$MeanDecreaseGini),] ,select=MeanDecreaseGini))\n",
    "}"
   ]
  },
  {
   "cell_type": "code",
   "execution_count": null,
   "metadata": {},
   "outputs": [],
   "source": [
    "names(test)\n",
    "savePredictions <- function(model) {\n",
    "    preds <- cbind(test$building_id, predict(model, subset(test, select=-c(building_id))))\n",
    "    write.csv(preds, 'Models/Predictions/Random_Forest.csv')\n",
    "}\n",
    "model.RF <- randomForest(as.factor(damage_grade) ~ ., data=rbind(trainFull,valFull), ntree=1, mtry=3, importance=FALSE)\n",
    "savePredictions(model.RF)"
   ]
  }
 ],
 "metadata": {
  "kernelspec": {
   "display_name": "R",
   "language": "R",
   "name": "ir"
  },
  "language_info": {
   "codemirror_mode": "r",
   "file_extension": ".r",
   "mimetype": "text/x-r-source",
   "name": "R",
   "pygments_lexer": "r",
   "version": "3.6.1"
  }
 },
 "nbformat": 4,
 "nbformat_minor": 4
}
