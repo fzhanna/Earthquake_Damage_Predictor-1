{
 "cells": [
  {
   "cell_type": "markdown",
   "metadata": {},
   "source": [
    "We will begin the multinomial log-linear models via a neural networks, then LDA and finally QDA. "
   ]
  },
  {
   "cell_type": "code",
   "execution_count": 2,
   "metadata": {},
   "outputs": [],
   "source": [
    "setwd('C:/Users/iceca/Documents/Earthquake_Damage_Predictor')\n",
    "library(tidyverse)\n",
    "library(MASS)\n",
    "library(caret)\n",
    "library(randomForest)\n",
    "library(e1071)"
   ]
  },
  {
   "cell_type": "code",
   "execution_count": 3,
   "metadata": {
    "scrolled": true
   },
   "outputs": [
    {
     "name": "stderr",
     "output_type": "stream",
     "text": [
      "Joining, by = \"building_id\"\n",
      "Joining, by = \"building_id\"\n"
     ]
    }
   ],
   "source": [
    "loadFin<- modules::use('Helpers/Load_Final_Data.R')\n",
    "train <- loadFin$original()[[1]]\n",
    "trainLab <- loadFin$original()[[2]]\n",
    "val <- loadFin$original()[[3]]\n",
    "valLab <- loadFin$original()[[4]]\n",
    "test <- loadFin$original()[[5]]\n",
    "\n",
    "#when R reads the csv, it thinks damage_grade is an integer, so convert it back to a factor\n",
    "trainLab$damage_grade <- as.factor(trainLab$damage_grade)\n",
    "valLab$damage_grade <- as.factor(valLab$damage_grade)\n",
    "\n",
    "manipulate<- modules::use('Helpers/Manipulate.R')\n",
    "trainFull <- manipulate$combineLab(train, trainLab)\n",
    "valFull <- manipulate$combineLab(val, valLab)\n"
   ]
  },
  {
   "cell_type": "code",
   "execution_count": 4,
   "metadata": {},
   "outputs": [],
   "source": [
    "#saving predictions helper function\n",
    "savePredictions <- function(model) {\n",
    "    preds <- cbind(test$building_id, predict(model, subset(test, select=-c(building_id))))\n",
    "    colnames(preds) <- c(\"building_id\", \"damage_grade\")\n",
    "    write.csv(preds, 'Models/Predictions/Random_Forest.csv', row.names=FALSE)\n",
    "}"
   ]
  },
  {
   "cell_type": "code",
   "execution_count": 5,
   "metadata": {},
   "outputs": [],
   "source": [
    "trainFull$building_id <- NULL\n",
    "valFull$building_id <- NULL"
   ]
  },
  {
   "cell_type": "code",
   "execution_count": 11,
   "metadata": {
    "scrolled": true
   },
   "outputs": [
    {
     "name": "stdout",
     "output_type": "stream",
     "text": [
      "# weights:  168 (110 variable)\n",
      "initial  value 257668.526186 \n",
      "iter  10 value 219386.443047\n",
      "iter  20 value 203810.166568\n",
      "iter  30 value 203176.602980\n",
      "iter  40 value 198864.349203\n",
      "iter  50 value 193332.400180\n",
      "iter  60 value 191032.523780\n",
      "iter  70 value 188279.336865\n",
      "iter  80 value 187400.211812\n",
      "iter  90 value 186047.893217\n",
      "iter 100 value 185653.184150\n",
      "iter 110 value 185396.547623\n",
      "final  value 185383.225679 \n",
      "converged\n"
     ]
    }
   ],
   "source": [
    "model.Multinom <- multinom(as.factor(damage_grade) ~ ., trainFull, maxit=300)"
   ]
  },
  {
   "cell_type": "code",
   "execution_count": 13,
   "metadata": {},
   "outputs": [
    {
     "name": "stdout",
     "output_type": "stream",
     "text": [
      "Accuracy for the neural network was  0.5871225"
     ]
    }
   ],
   "source": [
    "prediction <- predict(model.Multinom, valFull)\n",
    "accuracy <- mean(prediction == valFull$damage_grade)\n",
    "cat('Accuracy for the neural network was ', accuracy)"
   ]
  },
  {
   "cell_type": "markdown",
   "metadata": {},
   "source": [
    "### Linear Discriminant Analysis (LDA)"
   ]
  },
  {
   "cell_type": "code",
   "execution_count": 14,
   "metadata": {},
   "outputs": [
    {
     "name": "stdout",
     "output_type": "stream",
     "text": [
      "Accuracy for the LDA was  0.5844749"
     ]
    }
   ],
   "source": [
    "model.LDA <- lda(as.factor(damage_grade)~., data = trainFull)\n",
    "predictionsVal <- predict(model.LDA, valFull)\n",
    "accuracy <- mean(predictionsVal$class == valFull$damage_grade)\n",
    "cat('Accuracy for the LDA was ', accuracy)"
   ]
  },
  {
   "cell_type": "markdown",
   "metadata": {},
   "source": [
    "### Quadratic Discriminant Analysis (QDA)"
   ]
  },
  {
   "cell_type": "code",
   "execution_count": 61,
   "metadata": {},
   "outputs": [],
   "source": [
    "model.QDA <- qda(as.factor(damage_grade)~., \n",
    "                 data = trainFull)\n",
    "predictionsVal <- predict(model.QDA, valFull)\n",
    "accuracy <- mean(predictionsVal$class == valFull$damage_grade)"
   ]
  },
  {
   "cell_type": "markdown",
   "metadata": {},
   "source": [
    "### Neural Network"
   ]
  },
  {
   "cell_type": "code",
   "execution_count": 48,
   "metadata": {},
   "outputs": [
    {
     "name": "stderr",
     "output_type": "stream",
     "text": [
      "Joining, by = \"building_id\"\n",
      "Joining, by = \"building_id\"\n"
     ]
    }
   ],
   "source": [
    "#Neuralnet preprocessing\n",
    "\n",
    "#one hot encode the label\n",
    "trainLabProcessed <- data.frame(predict(dummyVars(\" ~ .\", data = trainLab), trainLab) )\n",
    "valLabProcessed <- data.frame(predict(dummyVars(\" ~ .\", data = valLab), valLab))\n",
    "\n",
    "#combine test, val, and train to preprocess together\n",
    "ntrain <- nrow(train)\n",
    "nval <- nrow(val)\n",
    "ntest <- nrow(test)\n",
    "X <- rbind(train, val, test)\n",
    "building_id <- X$building_id #extract building_id because it should not be scaled (to assisst in joins)\n",
    "X <- model.matrix(~.-building_id , X)\n",
    "X <- scale(X)\n",
    "X <- data.frame(cbind(X,building_id))\n",
    "X$X.Intercept. <- NULL\n",
    "#trainProcessed <- subset( inner_join(X[1:ntrain,], trainLabProcessed) , select=-c(building_id)) \n",
    "#valProcessed <- subset(inner_join(X[(1:nval) + ntrain ,], valLabProcessed), select=-c(building_id))\n",
    "#testProcessed <- subset(X[(1:ntest) + ntrain + nval,], select=-c(building_id))\n",
    "trainProcessed <- subset(X[1:ntrain,], select=-c(building_id))\n",
    "valProcessed <- subset(X[(1:nval) + ntrain ,], select=-c(building_id))\n",
    "testProcessed <- subset(X[(1:ntest) + ntrain + nval,], select=-c(building_id))\n",
    "trainLab <- subset(trainLab, select=-c(building_id))\n",
    "valLab <- subset(valLab, select=-c(building_id))"
   ]
  },
  {
   "cell_type": "code",
   "execution_count": 7,
   "metadata": {},
   "outputs": [
    {
     "ename": "ERROR",
     "evalue": "Error in .doLoadActions(where, attach): error in load action .__A__.1 for package ANN2: Rcpp::loadModule(module = \"ANN\", what = TRUE, env = ns, loadNow = TRUE): Unable to load module \"ANN\": cannot allocate vector of size 12.3 Gb\n",
     "output_type": "error",
     "traceback": [
      "Error in .doLoadActions(where, attach): error in load action .__A__.1 for package ANN2: Rcpp::loadModule(module = \"ANN\", what = TRUE, env = ns, loadNow = TRUE): Unable to load module \"ANN\": cannot allocate vector of size 12.3 Gb\nTraceback:\n",
      "1. ANN2::neuralnetwork",
      "2. getExportedValue(pkg, name)",
      "3. asNamespace(ns)",
      "4. getNamespace(ns)",
      "5. loadNamespace(name)",
      "6. methods::cacheMetaData(ns, TRUE, ns)",
      "7. .doLoadActions(where, attach)",
      "8. stop(gettextf(\"error in load action %s for package %s: %s: %s\", \n .     aname, getPackageName(where), callString, value$message))"
     ]
    }
   ],
   "source": [
    " model.Neuralnet <- ANN2::neuralnetwork(trainProcessed, trainLab, lossFunction = \"log\",\n",
    "  rectifierLayers = NA, sigmoidLayers = NA, regression = FALSE,\n",
    "  standardize = TRUE, learnRate = 5e-03, maxEpochs = 10,\n",
    "  hiddenLayers = c(5, 5), momentum = 0.9, learnRate = 0.001, verbose = TRUE)\n",
    "\n",
    "#f = as.formula(\"damage_grade.1 + damage_grade.2 + damage_grade.3 ~. -building_id\")\n",
    "#nn <- neuralnet(f,\n",
    "#                data = trainProcessed,\n",
    "#                hidden = c(5, 5, 5), threshold = 0.001,\n",
    "#                act.fct = \"tanh\",\n",
    "#                linear.output = FALSE,\n",
    "#                lifesign = \"minimal\")"
   ]
  },
  {
   "cell_type": "markdown",
   "metadata": {},
   "source": [
    "### Random Forests"
   ]
  },
  {
   "cell_type": "code",
   "execution_count": null,
   "metadata": {},
   "outputs": [],
   "source": []
  },
  {
   "cell_type": "code",
   "execution_count": null,
   "metadata": {
    "scrolled": true
   },
   "outputs": [],
   "source": []
  },
  {
   "cell_type": "code",
   "execution_count": 9,
   "metadata": {},
   "outputs": [],
   "source": [
    "mtry <- c(5,10,15,20,25)\n",
    "ntree <- c(80,70,60,50,40) \n",
    "\n",
    "createRandomForest <- function(mtry_, ntree_, trainFull, valFull){\n",
    "    model.RF <- randomForest(as.factor(damage_grade) ~ ., data=trainFull, ntree=ntree_, mtry=mtry_, importance=TRUE)\n",
    "    #dput(list(model.RF$confusion, modelRF$oob.times, modelRF$, \"Models/Random_Forest_Output.txt\")\n",
    "    cat('RESULTS FOR RANDOM FOREST, with mtry=', mtry_, 'ntree=', ntree_, '\\n \\n')\n",
    "    \n",
    "    predictionsVal <- predict(model.RF, valFull)\n",
    "    accuracy <- mean(predictionsVal == valFull$damage_grade)\n",
    "    cat('The accuracy for this random forest was',accuracy, '\\n')\n",
    "    \n",
    "    cat('\\n Confusion Matrix \\n')\n",
    "    print(model.RF$confusion)\n",
    "    \n",
    "    cat('\\n Variables sorted in importance (decreasing)\\n')\n",
    "    imp <- as.data.frame(importance(model.RF))\n",
    "    print(subset ( imp[order(-imp$MeanDecreaseGini),] ,select=MeanDecreaseGini))\n",
    "}"
   ]
  },
  {
   "cell_type": "code",
   "execution_count": 21,
   "metadata": {
    "scrolled": true
   },
   "outputs": [
    {
     "name": "stdout",
     "output_type": "stream",
     "text": [
      "RESULTS FOR RANDOM FOREST, with mtry= 5 ntree= 80 \n",
      " \n",
      "The accuracy for this random forest was 0.7160892 \n",
      "\n",
      " Confusion Matrix \n",
      "     1      2     3 class.error\n",
      "1 9854  12405   308   0.5633447\n",
      "2 4190 115681 13629   0.1334757\n",
      "3  372  35952 42149   0.4628853\n",
      "\n",
      " Variables sorted in importance (decreasing)\n",
      "                                       MeanDecreaseGini\n",
      "geo_level_1_id                             13247.724170\n",
      "geo_level_2_id                              8583.600638\n",
      "geo_level_3_id                              7744.380835\n",
      "area_percentage                             5089.503050\n",
      "age                                         5029.338502\n",
      "height_percentage                           3439.643680\n",
      "foundation_type                             2882.829252\n",
      "ground_floor_type                           2362.502506\n",
      "roof_type                                   1951.913894\n",
      "other_floor_type                            1817.359378\n",
      "has_superstructure_mud_mortar_stone         1647.466606\n",
      "count_floors_pre_eq                         1637.270855\n",
      "count_families                              1480.131159\n",
      "position                                    1421.491492\n",
      "land_surface_condition                      1364.286439\n",
      "has_superstructure_timber                    974.639767\n",
      "has_superstructure_cement_mortar_brick       951.815569\n",
      "plan_configuration                           833.884782\n",
      "legal_ownership_status                       700.176465\n",
      "has_superstructure_adobe_mud                 667.768998\n",
      "has_secondary_use                            616.822999\n",
      "has_superstructure_mud_mortar_brick          604.522849\n",
      "has_superstructure_bamboo                    588.775617\n",
      "has_superstructure_stone_flag                535.162216\n",
      "has_superstructure_rc_non_engineered         476.737882\n",
      "has_secondary_use_agriculture                410.640194\n",
      "has_secondary_use_hotel                      336.594383\n",
      "has_superstructure_rc_engineered             334.922703\n",
      "has_superstructure_other                     330.361168\n",
      "has_superstructure_cement_mortar_stone       329.074195\n",
      "has_secondary_use_rental                     133.249722\n",
      "has_secondary_use_other                      117.838925\n",
      "has_secondary_use_industry                    38.914155\n",
      "has_secondary_use_institution                 26.555399\n",
      "has_secondary_use_school                      14.605905\n",
      "has_secondary_use_health_post                  6.560168\n",
      "has_secondary_use_use_police                   3.936306\n",
      "has_secondary_use_gov_office                   3.610195\n"
     ]
    }
   ],
   "source": [
    "createRandomForest(mtry[1],ntree[1], trainFull, valFull)"
   ]
  },
  {
   "cell_type": "code",
   "execution_count": 16,
   "metadata": {
    "scrolled": true
   },
   "outputs": [
    {
     "name": "stdout",
     "output_type": "stream",
     "text": [
      "RESULTS FOR RANDOM FOREST, with mtry= 10 ntree= 70 \n",
      " \n",
      "The accuracy for this random forest was 0.7360424 \n",
      "\n",
      " Confusion Matrix \n",
      "      1      2     3 class.error\n",
      "1 11212  10895   460   0.5031683\n",
      "2  5360 110948 17192   0.1689288\n",
      "3   556  29431 48486   0.3821314\n",
      "\n",
      " Variables sorted in importance (decreasing)\n",
      "                                       MeanDecreaseGini\n",
      "geo_level_1_id                             17512.481446\n",
      "geo_level_3_id                             15717.605192\n",
      "geo_level_2_id                             14849.713222\n",
      "age                                        10987.224798\n",
      "area_percentage                            10888.104181\n",
      "height_percentage                           6015.740978\n",
      "foundation_type                             3826.092972\n",
      "ground_floor_type                           2766.206073\n",
      "count_families                              2752.024618\n",
      "position                                    2376.952291\n",
      "other_floor_type                            2311.352692\n",
      "land_surface_condition                      2257.203312\n",
      "roof_type                                   2128.908751\n",
      "has_superstructure_mud_mortar_stone         2060.915600\n",
      "count_floors_pre_eq                         2008.392745\n",
      "has_superstructure_timber                   1297.800931\n",
      "plan_configuration                          1136.265282\n",
      "has_secondary_use                            992.039124\n",
      "has_superstructure_cement_mortar_brick       920.391552\n",
      "legal_ownership_status                       902.729108\n",
      "has_superstructure_adobe_mud                 898.321761\n",
      "has_superstructure_bamboo                    793.319993\n",
      "has_superstructure_mud_mortar_brick          738.500468\n",
      "has_secondary_use_agriculture                654.473885\n",
      "has_superstructure_stone_flag                609.164804\n",
      "has_superstructure_rc_non_engineered         512.322905\n",
      "has_secondary_use_hotel                      447.826590\n",
      "has_superstructure_other                     411.947694\n",
      "has_superstructure_cement_mortar_stone       384.716137\n",
      "has_superstructure_rc_engineered             258.544790\n",
      "has_secondary_use_rental                     161.152311\n",
      "has_secondary_use_other                      132.691413\n",
      "has_secondary_use_industry                    42.900368\n",
      "has_secondary_use_institution                 30.030310\n",
      "has_secondary_use_school                      13.426633\n",
      "has_secondary_use_health_post                  6.335522\n",
      "has_secondary_use_use_police                   3.899527\n",
      "has_secondary_use_gov_office                   3.655510\n"
     ]
    }
   ],
   "source": [
    "createRandomForest(mtry[2],ntree[2], trainFull, valFull)"
   ]
  },
  {
   "cell_type": "code",
   "execution_count": 17,
   "metadata": {
    "scrolled": true
   },
   "outputs": [
    {
     "name": "stdout",
     "output_type": "stream",
     "text": [
      "RESULTS FOR RANDOM FOREST, with mtry= 15 ntree= 60 \n",
      " \n",
      "The accuracy for this random forest was 0.7323203 \n",
      "\n",
      " Confusion Matrix \n",
      "      1      2     3 class.error\n",
      "1 11574  10448   545   0.4871272\n",
      "2  6033 108961 18506   0.1838127\n",
      "3   677  28415 49381   0.3707262\n",
      "\n",
      " Variables sorted in importance (decreasing)\n",
      "                                       MeanDecreaseGini\n",
      "geo_level_1_id                             18200.029837\n",
      "geo_level_3_id                             17845.781777\n",
      "geo_level_2_id                             15815.425520\n",
      "age                                        13472.115730\n",
      "area_percentage                            13220.391449\n",
      "height_percentage                           6736.546276\n",
      "foundation_type                             4125.490333\n",
      "count_families                              3125.958841\n",
      "ground_floor_type                           2829.767346\n",
      "position                                    2608.487741\n",
      "other_floor_type                            2447.602847\n",
      "land_surface_condition                      2422.037600\n",
      "roof_type                                   2417.263377\n",
      "count_floors_pre_eq                         2108.477296\n",
      "has_superstructure_mud_mortar_stone         1934.622569\n",
      "has_superstructure_timber                   1396.730435\n",
      "plan_configuration                          1152.156092\n",
      "has_secondary_use                           1058.461472\n",
      "legal_ownership_status                       923.876547\n",
      "has_superstructure_cement_mortar_brick       895.347352\n",
      "has_superstructure_adobe_mud                 866.697107\n",
      "has_superstructure_bamboo                    865.014956\n",
      "has_secondary_use_agriculture                733.071954\n",
      "has_superstructure_mud_mortar_brick          709.864011\n",
      "has_superstructure_stone_flag                588.101252\n",
      "has_superstructure_rc_non_engineered         490.677069\n",
      "has_secondary_use_hotel                      462.485349\n",
      "has_superstructure_other                     418.454749\n",
      "has_superstructure_cement_mortar_stone       386.985184\n",
      "has_superstructure_rc_engineered             180.132078\n",
      "has_secondary_use_rental                     156.185964\n",
      "has_secondary_use_other                      138.462180\n",
      "has_secondary_use_industry                    44.425039\n",
      "has_secondary_use_institution                 29.734349\n",
      "has_secondary_use_school                      13.416812\n",
      "has_secondary_use_health_post                  6.024271\n",
      "has_secondary_use_use_police                   3.961193\n",
      "has_secondary_use_gov_office                   3.074169\n"
     ]
    }
   ],
   "source": [
    "createRandomForest(mtry[3],ntree[3], trainFull, valFull)"
   ]
  },
  {
   "cell_type": "code",
   "execution_count": 18,
   "metadata": {
    "scrolled": true
   },
   "outputs": [
    {
     "name": "stdout",
     "output_type": "stream",
     "text": [
      "RESULTS FOR RANDOM FOREST, with mtry= 20 ntree= 50 \n",
      " \n",
      "The accuracy for this random forest was 0.7284832 \n",
      "\n",
      " Confusion Matrix \n",
      "      1      2     3 class.error\n",
      "1 11710  10230   627   0.4811007\n",
      "2  6449 107776 19275   0.1926891\n",
      "3   675  28213 49585   0.3681266\n",
      "\n",
      " Variables sorted in importance (decreasing)\n",
      "                                       MeanDecreaseGini\n",
      "geo_level_1_id                             18575.344512\n",
      "geo_level_3_id                             18273.089688\n",
      "geo_level_2_id                             15620.605744\n",
      "age                                        14535.069093\n",
      "area_percentage                            14222.250212\n",
      "height_percentage                           7143.867729\n",
      "foundation_type                             4475.125087\n",
      "count_families                              3252.533151\n",
      "ground_floor_type                           3101.585018\n",
      "position                                    2881.483991\n",
      "roof_type                                   2469.100442\n",
      "land_surface_condition                      2400.615455\n",
      "other_floor_type                            2329.673180\n",
      "count_floors_pre_eq                         2207.929294\n",
      "has_superstructure_mud_mortar_stone         1640.141596\n",
      "has_superstructure_timber                   1494.686659\n",
      "plan_configuration                          1149.422208\n",
      "has_secondary_use                           1073.014539\n",
      "legal_ownership_status                       909.905490\n",
      "has_superstructure_bamboo                    893.491535\n",
      "has_superstructure_cement_mortar_brick       868.849521\n",
      "has_superstructure_adobe_mud                 865.090723\n",
      "has_secondary_use_agriculture                737.852249\n",
      "has_superstructure_mud_mortar_brick          723.663080\n",
      "has_superstructure_stone_flag                547.057612\n",
      "has_superstructure_rc_non_engineered         475.812594\n",
      "has_secondary_use_hotel                      463.918842\n",
      "has_superstructure_other                     408.057298\n",
      "has_superstructure_cement_mortar_stone       375.450035\n",
      "has_superstructure_rc_engineered             191.572296\n",
      "has_secondary_use_rental                     156.215441\n",
      "has_secondary_use_other                      134.717942\n",
      "has_secondary_use_industry                    43.931233\n",
      "has_secondary_use_institution                 28.686025\n",
      "has_secondary_use_school                      12.667047\n",
      "has_secondary_use_health_post                  6.350636\n",
      "has_secondary_use_use_police                   4.520379\n",
      "has_secondary_use_gov_office                   3.092916\n"
     ]
    }
   ],
   "source": [
    "createRandomForest(mtry[4],ntree[4], trainFull, valFull)"
   ]
  },
  {
   "cell_type": "code",
   "execution_count": 19,
   "metadata": {
    "scrolled": true
   },
   "outputs": [
    {
     "name": "stdout",
     "output_type": "stream",
     "text": [
      "RESULTS FOR RANDOM FOREST, with mtry= 25 ntree= 40 \n",
      " \n",
      "The accuracy for this random forest was 0.7253367 \n",
      "\n",
      " Confusion Matrix \n",
      "      1      2     3 class.error\n",
      "1 11720  10179   668   0.4806576\n",
      "2  6737 106958 19805   0.1988165\n",
      "3   753  28101 49619   0.3676933\n",
      "\n",
      " Variables sorted in importance (decreasing)\n",
      "                                       MeanDecreaseGini\n",
      "geo_level_1_id                             18448.147364\n",
      "geo_level_3_id                             18206.990595\n",
      "geo_level_2_id                             15598.700475\n",
      "age                                        15081.231753\n",
      "area_percentage                            14674.576608\n",
      "height_percentage                           7339.407441\n",
      "foundation_type                             4896.984481\n",
      "count_families                              3314.751558\n",
      "position                                    3016.606694\n",
      "ground_floor_type                           2734.461655\n",
      "other_floor_type                            2495.779592\n",
      "roof_type                                   2399.046320\n",
      "count_floors_pre_eq                         2382.620402\n",
      "land_surface_condition                      2334.119921\n",
      "has_superstructure_mud_mortar_stone         1791.474541\n",
      "has_superstructure_timber                   1629.484738\n",
      "plan_configuration                          1126.877855\n",
      "has_secondary_use                           1066.826771\n",
      "has_superstructure_bamboo                    914.817202\n",
      "legal_ownership_status                       913.461914\n",
      "has_superstructure_cement_mortar_brick       884.596030\n",
      "has_superstructure_adobe_mud                 810.249344\n",
      "has_superstructure_mud_mortar_brick          732.562578\n",
      "has_secondary_use_agriculture                721.227228\n",
      "has_superstructure_stone_flag                510.315163\n",
      "has_superstructure_rc_non_engineered         459.144939\n",
      "has_secondary_use_hotel                      442.171472\n",
      "has_superstructure_other                     413.158140\n",
      "has_superstructure_cement_mortar_stone       375.798021\n",
      "has_superstructure_rc_engineered             162.036150\n",
      "has_secondary_use_rental                     157.601892\n",
      "has_secondary_use_other                      142.648337\n",
      "has_secondary_use_industry                    45.793551\n",
      "has_secondary_use_institution                 29.845902\n",
      "has_secondary_use_school                      13.104065\n",
      "has_secondary_use_health_post                  6.477424\n",
      "has_secondary_use_use_police                   3.538464\n",
      "has_secondary_use_gov_office                   3.093207\n"
     ]
    }
   ],
   "source": [
    "createRandomForest(mtry[5],ntree[5], trainFull, valFull)"
   ]
  },
  {
   "cell_type": "code",
   "execution_count": null,
   "metadata": {},
   "outputs": [],
   "source": [
    "#best model based on accuracy of the previous models\n",
    "model.RF <- randomForest(as.factor(damage_grade) ~ ., data=rbind(trainFull,valFull), ntree=ntree[1], mtry=mtry[1], importance=FALSE)\n"
   ]
  },
  {
   "cell_type": "code",
   "execution_count": 29,
   "metadata": {},
   "outputs": [],
   "source": [
    "savePredictions(model.RF)"
   ]
  },
  {
   "cell_type": "markdown",
   "metadata": {},
   "source": [
    "### Support Vector Machines"
   ]
  },
  {
   "cell_type": "code",
   "execution_count": 32,
   "metadata": {},
   "outputs": [],
   "source": [
    "createSVMModel <- function(kernel, cost, trainFull, valFull, gamma=0.1, degree=1) {\n",
    "    if (kernel == \"linear\"){\n",
    "        cat(\"Kernel selected as linear\")\n",
    "        model.SVM <- svm(as.factor(damage_grade) ~., data=trainFull, cost=cost, scale=TRUE, kernel=\"linear\")\n",
    "    }\n",
    "    if (kernel == \"polynomial\") {\n",
    "        cat(\"Kernel selected as polynomial\")\n",
    "        model.SVM  <- svm(as.factor(damage_grade) ~., data=trainFull, cost=cost, degree=degree, scale=TRUE, kernel=\"polynomial\")\n",
    "    }\n",
    "    if (kernel == \"radial\") {\n",
    "        cat(\"Kernel selected as radial\")\n",
    "        model.SVM <- svm(as.factor(damage_grade) ~., data=trainFull, cost=cost,gamma=gamma, scale=TRUE, kernel=\"radial\")\n",
    "    }\n",
    "    preds <- predict(model.SVM, valFull)\n",
    "    acc <- mean(preds == valFull$damage_grade)\n",
    "    cat('The accuracy for this SVM, with kernel', kernel, 'and cost', cost,'\\n\\n')\n",
    "}\n",
    "gammaSearch <- 10^(-9:3)\n",
    "costSearch <- 10^(-3:3)\n",
    "degreeSearch <- 1:5\n"
   ]
  },
  {
   "cell_type": "code",
   "execution_count": 9,
   "metadata": {},
   "outputs": [],
   "source": [
    "library(parallelSVM)\n",
    "model.SVM <- parallelSVM(as.factor(damage_grade) ~., data=trainFull, sampleSize=0.1,kernel=\"linear\", cost=0.5)"
   ]
  },
  {
   "cell_type": "code",
   "execution_count": 10,
   "metadata": {},
   "outputs": [
    {
     "name": "stdout",
     "output_type": "stream",
     "text": [
      "The accuracy for this SVM, with kernel linear and cost 0.5 \n",
      "\n"
     ]
    }
   ],
   "source": [
    "preds <- predict(model.SVM, valFull)\n",
    "acc <- mean(preds == valFull$damage_grade)\n"
   ]
  },
  {
   "cell_type": "code",
   "execution_count": 12,
   "metadata": {},
   "outputs": [
    {
     "name": "stdout",
     "output_type": "stream",
     "text": [
      "The accuracy for this SVM, with kernel linear and cost 0.5 was 0.5717739 \n",
      "\n"
     ]
    }
   ],
   "source": [
    "cat('The accuracy for this SVM, with kernel','linear', 'and cost', 0.5,'was',acc,'\\n\\n')"
   ]
  },
  {
   "cell_type": "code",
   "execution_count": null,
   "metadata": {},
   "outputs": [],
   "source": [
    "#linear search\n",
    "for (c in c(0.01, 1, 10)){ \n",
    "    createSVMModel(\"linear\", c, trainFull, valFull) \n",
    "}"
   ]
  },
  {
   "cell_type": "code",
   "execution_count": null,
   "metadata": {},
   "outputs": [],
   "source": [
    "#polynomial\n",
    "polyParams <- expand.grid(costSearch, degreeSearch)\n",
    "ntry <- 10\n",
    "set.seed(5)\n",
    "params <- sample(1:nrow(polyParams) , ntry, replace=FALSE)\n",
    "for (i in params){\n",
    "    c <- polyParams[i,]$cost\n",
    "    deg <- polyParams[i,]$degree\n",
    "    cat('PARAMETERS: COST',c,' DEGREE ',deg, '\\n')\n",
    "    createSVMModel(\"polynomial\", c, trainFull, valFull, degree=deg) \n",
    "}"
   ]
  },
  {
   "cell_type": "code",
   "execution_count": null,
   "metadata": {},
   "outputs": [],
   "source": [
    "#radial\n",
    "radParams <- expand.grid(cost=costSearch, gamme=gammaSearch)\n",
    "ntry <- 10\n",
    "set.seed(5)\n",
    "params <- sample(1:nrow(radParams) , ntry, replace=FALSE)\n",
    "for (i in params){\n",
    "    c <- radParams[i,]$cost\n",
    "    gam <- radParams[i,]$gamma\n",
    "    createSVMModel(\"polynomial\", c, trainFull, valFull, gamma=gam) \n",
    "    cat('PARAMETERS: COST',c,' GAMMA ',gam, '\\n')\n",
    "}"
   ]
  }
 ],
 "metadata": {
  "kernelspec": {
   "display_name": "R",
   "language": "R",
   "name": "ir"
  },
  "language_info": {
   "codemirror_mode": "r",
   "file_extension": ".r",
   "mimetype": "text/x-r-source",
   "name": "R",
   "pygments_lexer": "r",
   "version": "3.6.1"
  }
 },
 "nbformat": 4,
 "nbformat_minor": 4
}
