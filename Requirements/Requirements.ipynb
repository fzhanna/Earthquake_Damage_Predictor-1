{
 "cells": [
  {
   "cell_type": "code",
   "execution_count": 3,
   "metadata": {},
   "outputs": [
    {
     "name": "stdout",
     "output_type": "stream",
     "text": [
      "package 'modules' successfully unpacked and MD5 sums checked\n",
      "\n",
      "The downloaded binary packages are in\n",
      "\tC:\\Users\\iceca\\AppData\\Local\\Temp\\RtmpOiVUXn\\downloaded_packages\n",
      "package 'corrplot' successfully unpacked and MD5 sums checked\n",
      "\n",
      "The downloaded binary packages are in\n",
      "\tC:\\Users\\iceca\\AppData\\Local\\Temp\\RtmpOiVUXn\\downloaded_packages\n",
      "package 'boot' successfully unpacked and MD5 sums checked\n",
      "\n",
      "The downloaded binary packages are in\n",
      "\tC:\\Users\\iceca\\AppData\\Local\\Temp\\RtmpOiVUXn\\downloaded_packages\n",
      "package 'gridExtra' successfully unpacked and MD5 sums checked\n",
      "\n",
      "The downloaded binary packages are in\n",
      "\tC:\\Users\\iceca\\AppData\\Local\\Temp\\RtmpOiVUXn\\downloaded_packages\n"
     ]
    },
    {
     "name": "stderr",
     "output_type": "stream",
     "text": [
      "Warning message:\n",
      "\"package 'glm' is not available (for R version 3.6.1)\""
     ]
    }
   ],
   "source": [
    "setwd('C:/Users/iceca/Documents/Earthquake_Damage_Predictor')\n",
    "# Requirements for the development\n",
    "install.packages(\"modules\")\n",
    "\n",
    "# Requirements for analysis\n",
    "install.packages(\"corrplot\")\n",
    "install.packages(\"boot\")\n",
    "install.packages(\"gridExtra\")\n",
    "install.packages(\"MASS\")\n",
    "install.packages(\"speedglm\")\n",
    "install.packages(\"readr\")\n",
    "install.packages(\"ANN2\")\n",
    "install.packages(\"randomForest\")\n",
    "install.packages(\"e1071\")\n",
    "install.packages(\"parallelSVM\")\n"
   ]
  },
  {
   "cell_type": "code",
   "execution_count": 4,
   "metadata": {
    "scrolled": true
   },
   "outputs": [
    {
     "name": "stderr",
     "output_type": "stream",
     "text": [
      "also installing the dependency 'RcppArmadillo'\n",
      "\n"
     ]
    },
    {
     "name": "stdout",
     "output_type": "stream",
     "text": [
      "package 'RcppArmadillo' successfully unpacked and MD5 sums checked\n",
      "package 'ANN2' successfully unpacked and MD5 sums checked\n",
      "\n",
      "The downloaded binary packages are in\n",
      "\tC:\\Users\\iceca\\AppData\\Local\\Temp\\RtmpIdMCUQ\\downloaded_packages\n"
     ]
    }
   ],
   "source": []
  },
  {
   "cell_type": "code",
   "execution_count": 57,
   "metadata": {},
   "outputs": [
    {
     "data": {
      "text/html": [
       "<ol class=list-inline>\n",
       "\t<li>1e-09</li>\n",
       "\t<li>1e-08</li>\n",
       "\t<li>1e-07</li>\n",
       "\t<li>1e-06</li>\n",
       "\t<li>1e-05</li>\n",
       "\t<li>1e-04</li>\n",
       "\t<li>0.001</li>\n",
       "\t<li>0.01</li>\n",
       "\t<li>0.1</li>\n",
       "\t<li>1</li>\n",
       "\t<li>10</li>\n",
       "\t<li>100</li>\n",
       "\t<li>1000</li>\n",
       "</ol>\n"
      ],
      "text/latex": [
       "\\begin{enumerate*}\n",
       "\\item 1e-09\n",
       "\\item 1e-08\n",
       "\\item 1e-07\n",
       "\\item 1e-06\n",
       "\\item 1e-05\n",
       "\\item 1e-04\n",
       "\\item 0.001\n",
       "\\item 0.01\n",
       "\\item 0.1\n",
       "\\item 1\n",
       "\\item 10\n",
       "\\item 100\n",
       "\\item 1000\n",
       "\\end{enumerate*}\n"
      ],
      "text/markdown": [
       "1. 1e-09\n",
       "2. 1e-08\n",
       "3. 1e-07\n",
       "4. 1e-06\n",
       "5. 1e-05\n",
       "6. 1e-04\n",
       "7. 0.001\n",
       "8. 0.01\n",
       "9. 0.1\n",
       "10. 1\n",
       "11. 10\n",
       "12. 100\n",
       "13. 1000\n",
       "\n",
       "\n"
      ],
      "text/plain": [
       " [1] 1e-09 1e-08 1e-07 1e-06 1e-05 1e-04 1e-03 1e-02 1e-01 1e+00 1e+01 1e+02\n",
       "[13] 1e+03"
      ]
     },
     "metadata": {},
     "output_type": "display_data"
    }
   ],
   "source": [
    "10^(-9:3)\n",
    "\n",
    "#expand.grid()\n",
    "costSearch <- 10^(-2:3)\n",
    "gammaSearch <- 10^(-9:3)\n",
    "radParams <- expand.grid(cost=costSearch, gamma=gammaSearch)\n",
    "rows <- 1:nrow(polyParams)\n",
    "r <- sample(rows,1) "
   ]
  },
  {
   "cell_type": "code",
   "execution_count": 63,
   "metadata": {},
   "outputs": [
    {
     "name": "stdout",
     "output_type": "stream",
     "text": [
      "1000   10 \n",
      "1   1 \n",
      "1   1000 \n",
      "100   0.001 \n",
      "100   100 \n",
      "0.01   1e-06 \n",
      "1   1e-09 \n",
      "0.1   0.001 \n",
      "10   1 \n",
      "100   0.01 \n"
     ]
    }
   ],
   "source": [
    "ntry <- 10\n",
    "set.seed(5)\n",
    "params <- sample(1:nrow(radParams) , ntry, replace=FALSE)\n",
    "for (i in params){\n",
    "    c <- radParams[i,]$cost\n",
    "    gam <- radParams[i,]$gamma\n",
    "    cat(c,' ',gam, '\\n')\n",
    "}"
   ]
  },
  {
   "cell_type": "code",
   "execution_count": null,
   "metadata": {},
   "outputs": [],
   "source": []
  }
 ],
 "metadata": {
  "kernelspec": {
   "display_name": "R",
   "language": "R",
   "name": "ir"
  },
  "language_info": {
   "codemirror_mode": "r",
   "file_extension": ".r",
   "mimetype": "text/x-r-source",
   "name": "R",
   "pygments_lexer": "r",
   "version": "3.6.1"
  }
 },
 "nbformat": 4,
 "nbformat_minor": 4
}
