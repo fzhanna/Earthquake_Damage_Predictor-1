{
 "cells": [
  {
   "cell_type": "code",
   "execution_count": 29,
   "metadata": {},
   "outputs": [],
   "source": [
    "setwd('C:/Users/iceca/Documents/Earthquake_Damage_Predictor/')\n",
    "library(tidyverse)\n",
    "library(ggplot2)\n",
    "library(boot)\n",
    "library(gridExtra)\n"
   ]
  },
  {
   "cell_type": "code",
   "execution_count": 30,
   "metadata": {
    "scrolled": true
   },
   "outputs": [
    {
     "name": "stderr",
     "output_type": "stream",
     "text": [
      "Joining, by = c(\"X\", \"building_id\")\n",
      "Joining, by = \"X\"\n"
     ]
    }
   ],
   "source": [
    "loadNF <- modules::use('Helpers/Load_Num_Factor.R')\n",
    "manipulate <- modules::use('Helpers/Manipulate.R')\n",
    "numTrain <- loadNF$num()[[1]]\n",
    "factorTrain <- loadNF$factor()[[1]]\n",
    "labels <- loadNF$factor()[[2]] #num and factor features have the same labels\n",
    "numTrain <- manipulate$combineLab(numTrain, labels)\n",
    "factorTrain <- manipulate$combineLab(factorTrain, labels)"
   ]
  },
  {
   "cell_type": "code",
   "execution_count": 31,
   "metadata": {},
   "outputs": [
    {
     "data": {
      "text/html": [
       "<table>\n",
       "<thead><tr><th scope=col>X</th><th scope=col>building_id</th><th scope=col>geo_level_1_id</th><th scope=col>geo_level_2_id</th><th scope=col>geo_level_3_id</th><th scope=col>count_floors_pre_eq</th><th scope=col>age</th><th scope=col>area_percentage</th><th scope=col>height_percentage</th><th scope=col>has_superstructure_adobe_mud</th><th scope=col>...</th><th scope=col>has_secondary_use_hotel</th><th scope=col>has_secondary_use_rental</th><th scope=col>has_secondary_use_institution</th><th scope=col>has_secondary_use_school</th><th scope=col>has_secondary_use_industry</th><th scope=col>has_secondary_use_health_post</th><th scope=col>has_secondary_use_gov_office</th><th scope=col>has_secondary_use_use_police</th><th scope=col>has_secondary_use_other</th><th scope=col>damage_grade</th></tr></thead>\n",
       "<tbody>\n",
       "\t<tr><td>1     </td><td>802906</td><td>6     </td><td>487   </td><td>12198 </td><td>2     </td><td>30    </td><td>6     </td><td>5     </td><td>1     </td><td>...   </td><td>0     </td><td>0     </td><td>0     </td><td>0     </td><td>0     </td><td>0     </td><td>0     </td><td>0     </td><td>0     </td><td>3     </td></tr>\n",
       "</tbody>\n",
       "</table>\n"
      ],
      "text/latex": [
       "\\begin{tabular}{r|lllllllllllllllllllllllllllllllll}\n",
       " X & building\\_id & geo\\_level\\_1\\_id & geo\\_level\\_2\\_id & geo\\_level\\_3\\_id & count\\_floors\\_pre\\_eq & age & area\\_percentage & height\\_percentage & has\\_superstructure\\_adobe\\_mud & ... & has\\_secondary\\_use\\_hotel & has\\_secondary\\_use\\_rental & has\\_secondary\\_use\\_institution & has\\_secondary\\_use\\_school & has\\_secondary\\_use\\_industry & has\\_secondary\\_use\\_health\\_post & has\\_secondary\\_use\\_gov\\_office & has\\_secondary\\_use\\_use\\_police & has\\_secondary\\_use\\_other & damage\\_grade\\\\\n",
       "\\hline\n",
       "\t 1      & 802906 & 6      & 487    & 12198  & 2      & 30     & 6      & 5      & 1      & ...    & 0      & 0      & 0      & 0      & 0      & 0      & 0      & 0      & 0      & 3     \\\\\n",
       "\\end{tabular}\n"
      ],
      "text/markdown": [
       "\n",
       "| X | building_id | geo_level_1_id | geo_level_2_id | geo_level_3_id | count_floors_pre_eq | age | area_percentage | height_percentage | has_superstructure_adobe_mud | ... | has_secondary_use_hotel | has_secondary_use_rental | has_secondary_use_institution | has_secondary_use_school | has_secondary_use_industry | has_secondary_use_health_post | has_secondary_use_gov_office | has_secondary_use_use_police | has_secondary_use_other | damage_grade |\n",
       "|---|---|---|---|---|---|---|---|---|---|---|---|---|---|---|---|---|---|---|---|---|\n",
       "| 1      | 802906 | 6      | 487    | 12198  | 2      | 30     | 6      | 5      | 1      | ...    | 0      | 0      | 0      | 0      | 0      | 0      | 0      | 0      | 0      | 3      |\n",
       "\n"
      ],
      "text/plain": [
       "  X building_id geo_level_1_id geo_level_2_id geo_level_3_id\n",
       "1 1 802906      6              487            12198         \n",
       "  count_floors_pre_eq age area_percentage height_percentage\n",
       "1 2                   30  6               5                \n",
       "  has_superstructure_adobe_mud ... has_secondary_use_hotel\n",
       "1 1                            ... 0                      \n",
       "  has_secondary_use_rental has_secondary_use_institution\n",
       "1 0                        0                            \n",
       "  has_secondary_use_school has_secondary_use_industry\n",
       "1 0                        0                         \n",
       "  has_secondary_use_health_post has_secondary_use_gov_office\n",
       "1 0                             0                           \n",
       "  has_secondary_use_use_police has_secondary_use_other damage_grade\n",
       "1 0                            0                       3           "
      ]
     },
     "metadata": {},
     "output_type": "display_data"
    },
    {
     "data": {
      "text/html": [
       "<table>\n",
       "<thead><tr><th scope=col>X</th><th scope=col>land_surface_condition</th><th scope=col>foundation_type</th><th scope=col>roof_type</th><th scope=col>ground_floor_type</th><th scope=col>other_floor_type</th><th scope=col>position</th><th scope=col>plan_configuration</th><th scope=col>legal_ownership_status</th><th scope=col>building_id</th><th scope=col>damage_grade</th></tr></thead>\n",
       "<tbody>\n",
       "\t<tr><td>1     </td><td>t     </td><td>r     </td><td>n     </td><td>f     </td><td>q     </td><td>t     </td><td>d     </td><td>v     </td><td>802906</td><td>3     </td></tr>\n",
       "</tbody>\n",
       "</table>\n"
      ],
      "text/latex": [
       "\\begin{tabular}{r|lllllllllll}\n",
       " X & land\\_surface\\_condition & foundation\\_type & roof\\_type & ground\\_floor\\_type & other\\_floor\\_type & position & plan\\_configuration & legal\\_ownership\\_status & building\\_id & damage\\_grade\\\\\n",
       "\\hline\n",
       "\t 1      & t      & r      & n      & f      & q      & t      & d      & v      & 802906 & 3     \\\\\n",
       "\\end{tabular}\n"
      ],
      "text/markdown": [
       "\n",
       "| X | land_surface_condition | foundation_type | roof_type | ground_floor_type | other_floor_type | position | plan_configuration | legal_ownership_status | building_id | damage_grade |\n",
       "|---|---|---|---|---|---|---|---|---|---|---|\n",
       "| 1      | t      | r      | n      | f      | q      | t      | d      | v      | 802906 | 3      |\n",
       "\n"
      ],
      "text/plain": [
       "  X land_surface_condition foundation_type roof_type ground_floor_type\n",
       "1 1 t                      r               n         f                \n",
       "  other_floor_type position plan_configuration legal_ownership_status\n",
       "1 q                t        d                  v                     \n",
       "  building_id damage_grade\n",
       "1 802906      3           "
      ]
     },
     "metadata": {},
     "output_type": "display_data"
    }
   ],
   "source": [
    "numTrain[1,]\n",
    "factorTrain[1,]"
   ]
  },
  {
   "cell_type": "markdown",
   "metadata": {},
   "source": [
    "### Corrplots, to find the relationship between numerical features (treating label like numerical feature)\n"
   ]
  },
  {
   "cell_type": "code",
   "execution_count": 32,
   "metadata": {},
   "outputs": [
    {
     "name": "stdout",
     "output_type": "stream",
     "text": [
      "\n",
      " Features that show greatest corrrlation with each other \n",
      " \n",
      "height_percentage count_floors_pre_eq 0.7715583 \n",
      "has_superstructure_mud_mortar_stone has_superstructure_adobe_mud -0.3071836 \n",
      "has_superstructure_mud_mortar_brick has_superstructure_adobe_mud 0.3172745 \n",
      "has_superstructure_mud_mortar_brick has_superstructure_mud_mortar_stone -0.3758007 \n",
      "has_superstructure_cement_mortar_brick has_superstructure_mud_mortar_stone -0.4712676 \n",
      "has_superstructure_bamboo has_superstructure_timber 0.4395434 \n",
      "has_secondary_use_agriculture has_secondary_use 0.7388177 \n",
      "has_secondary_use_hotel has_secondary_use 0.5256072 \n",
      "\n",
      " Features that show greatest corrrlation with the label "
     ]
    },
    {
     "data": {
      "text/html": [
       "<ol class=list-inline>\n",
       "\t<li>'has_superstructure_cement_mortar_brick'</li>\n",
       "\t<li>'has_superstructure_rc_engineered'</li>\n",
       "\t<li>'has_superstructure_rc_non_engineered'</li>\n",
       "\t<li>'area_percentage'</li>\n",
       "\t<li>'count_floors_pre_eq'</li>\n",
       "\t<li>'has_superstructure_mud_mortar_stone'</li>\n",
       "\t<li>'damage_grade'</li>\n",
       "</ol>\n"
      ],
      "text/latex": [
       "\\begin{enumerate*}\n",
       "\\item 'has\\_superstructure\\_cement\\_mortar\\_brick'\n",
       "\\item 'has\\_superstructure\\_rc\\_engineered'\n",
       "\\item 'has\\_superstructure\\_rc\\_non\\_engineered'\n",
       "\\item 'area\\_percentage'\n",
       "\\item 'count\\_floors\\_pre\\_eq'\n",
       "\\item 'has\\_superstructure\\_mud\\_mortar\\_stone'\n",
       "\\item 'damage\\_grade'\n",
       "\\end{enumerate*}\n"
      ],
      "text/markdown": [
       "1. 'has_superstructure_cement_mortar_brick'\n",
       "2. 'has_superstructure_rc_engineered'\n",
       "3. 'has_superstructure_rc_non_engineered'\n",
       "4. 'area_percentage'\n",
       "5. 'count_floors_pre_eq'\n",
       "6. 'has_superstructure_mud_mortar_stone'\n",
       "7. 'damage_grade'\n",
       "\n",
       "\n"
      ],
      "text/plain": [
       "[1] \"has_superstructure_cement_mortar_brick\"\n",
       "[2] \"has_superstructure_rc_engineered\"      \n",
       "[3] \"has_superstructure_rc_non_engineered\"  \n",
       "[4] \"area_percentage\"                       \n",
       "[5] \"count_floors_pre_eq\"                   \n",
       "[6] \"has_superstructure_mud_mortar_stone\"   \n",
       "[7] \"damage_grade\"                          "
      ]
     },
     "metadata": {},
     "output_type": "display_data"
    },
    {
     "name": "stdout",
     "output_type": "stream",
     "text": [
      "-0.2543188 -0.1794018 -0.1580555 -0.1252037 0.1224673 0.2909351 1"
     ]
    }
   ],
   "source": [
    "corNumTrain <- cor(numTrain)\n",
    "cat('\\n Features that show greatest corrrlation with each other \\n \\n')\n",
    "for (i in 1:length(names(numTrain))) {\n",
    "    for (j in 1:length(names(numTrain))) {\n",
    "        \n",
    "        if (abs(corNumTrain[i,j]) >0.3 && abs(corNumTrain[i,j]) <1.0 && i>=j) {\n",
    "            cat(names(numTrain)[i] , names(numTrain)[j], corNumTrain[i,j], '\\n')\n",
    "        }\n",
    "    }\n",
    "}\n",
    "labColNumber = 33\n",
    "thr = 0.1\n",
    "releventFeat <- sort( corNumTrain[,labColNumber][abs(corNumTrain[,labColNumber])>thr])\n",
    "cat('\\n Features that show greatest corrrlation with the label ')\n",
    "names(releventFeat)\n",
    "cat(releventFeat)"
   ]
  },
  {
   "cell_type": "markdown",
   "metadata": {},
   "source": [
    "#### Key findings between numerical features:\n",
    "* Building height and area are heavily correlated\n",
    "* has_superstructure_mud_mortar_brick , has_superstructure_mud_mortar_stone , has_superstructure_adobe_mud ; these 3 variables correlate very heavily\n",
    "* A building that is used for agriculture or as a hotel has high chance of having a secondary use. Probably because these buildings have different seasonal uses. \n",
    "\n",
    "#### Key findings with regard to label:\n",
    "* The more floors a home has the more likely it is to be damaged. This goes against the conventional belief that morefloors means greater flexibility/greater safety. \n",
    "* The more area a home has the safer it is\n",
    "* Superstructure is a valuable variable, it shows that rc, mud mortar stone and cement mortar correlate heavily with label\n",
    "* None of the features that had to do with building purpose/use were helpful in determing the label\n",
    "* Having a cement mortar and mud mortar are significantly different, as such should be seperate variables"
   ]
  },
  {
   "cell_type": "code",
   "execution_count": 33,
   "metadata": {},
   "outputs": [
    {
     "name": "stdout",
     "output_type": "stream",
     "text": [
      "   \n",
      "              0           1\n",
      "  0 0.367568432 0.005011938\n",
      "  1 0.089820500 0.037599130\n"
     ]
    }
   ],
   "source": [
    "print( table(numTrain$has_superstructure_timber , numTrain$has_superstructure_bamboo)/(\n",
    "    length(numTrain$has_superstructure_timber)+length(numTrain$has_superstructure_bamboo)) )"
   ]
  },
  {
   "cell_type": "markdown",
   "metadata": {},
   "source": [
    "It looks like a building is rarely just bamboo, hence bamboo does not provide significant information, remove it."
   ]
  },
  {
   "cell_type": "markdown",
   "metadata": {},
   "source": [
    "### Distribution of numerical buildings check"
   ]
  },
  {
   "cell_type": "code",
   "execution_count": 34,
   "metadata": {
    "scrolled": true
   },
   "outputs": [
    {
     "data": {
      "text/html": [
       "<ol class=list-inline>\n",
       "\t<li>'X'</li>\n",
       "\t<li>'building_id'</li>\n",
       "\t<li>'geo_level_1_id'</li>\n",
       "\t<li>'geo_level_2_id'</li>\n",
       "\t<li>'geo_level_3_id'</li>\n",
       "\t<li>'count_floors_pre_eq'</li>\n",
       "\t<li>'age'</li>\n",
       "\t<li>'area_percentage'</li>\n",
       "\t<li>'height_percentage'</li>\n",
       "\t<li>'has_superstructure_adobe_mud'</li>\n",
       "\t<li>'has_superstructure_mud_mortar_stone'</li>\n",
       "\t<li>'has_superstructure_stone_flag'</li>\n",
       "\t<li>'has_superstructure_cement_mortar_stone'</li>\n",
       "\t<li>'has_superstructure_mud_mortar_brick'</li>\n",
       "\t<li>'has_superstructure_cement_mortar_brick'</li>\n",
       "\t<li>'has_superstructure_timber'</li>\n",
       "\t<li>'has_superstructure_bamboo'</li>\n",
       "\t<li>'has_superstructure_rc_non_engineered'</li>\n",
       "\t<li>'has_superstructure_rc_engineered'</li>\n",
       "\t<li>'has_superstructure_other'</li>\n",
       "\t<li>'count_families'</li>\n",
       "\t<li>'has_secondary_use'</li>\n",
       "\t<li>'has_secondary_use_agriculture'</li>\n",
       "\t<li>'has_secondary_use_hotel'</li>\n",
       "\t<li>'has_secondary_use_rental'</li>\n",
       "\t<li>'has_secondary_use_institution'</li>\n",
       "\t<li>'has_secondary_use_school'</li>\n",
       "\t<li>'has_secondary_use_industry'</li>\n",
       "\t<li>'has_secondary_use_health_post'</li>\n",
       "\t<li>'has_secondary_use_gov_office'</li>\n",
       "\t<li>'has_secondary_use_use_police'</li>\n",
       "\t<li>'has_secondary_use_other'</li>\n",
       "\t<li>'damage_grade'</li>\n",
       "</ol>\n"
      ],
      "text/latex": [
       "\\begin{enumerate*}\n",
       "\\item 'X'\n",
       "\\item 'building\\_id'\n",
       "\\item 'geo\\_level\\_1\\_id'\n",
       "\\item 'geo\\_level\\_2\\_id'\n",
       "\\item 'geo\\_level\\_3\\_id'\n",
       "\\item 'count\\_floors\\_pre\\_eq'\n",
       "\\item 'age'\n",
       "\\item 'area\\_percentage'\n",
       "\\item 'height\\_percentage'\n",
       "\\item 'has\\_superstructure\\_adobe\\_mud'\n",
       "\\item 'has\\_superstructure\\_mud\\_mortar\\_stone'\n",
       "\\item 'has\\_superstructure\\_stone\\_flag'\n",
       "\\item 'has\\_superstructure\\_cement\\_mortar\\_stone'\n",
       "\\item 'has\\_superstructure\\_mud\\_mortar\\_brick'\n",
       "\\item 'has\\_superstructure\\_cement\\_mortar\\_brick'\n",
       "\\item 'has\\_superstructure\\_timber'\n",
       "\\item 'has\\_superstructure\\_bamboo'\n",
       "\\item 'has\\_superstructure\\_rc\\_non\\_engineered'\n",
       "\\item 'has\\_superstructure\\_rc\\_engineered'\n",
       "\\item 'has\\_superstructure\\_other'\n",
       "\\item 'count\\_families'\n",
       "\\item 'has\\_secondary\\_use'\n",
       "\\item 'has\\_secondary\\_use\\_agriculture'\n",
       "\\item 'has\\_secondary\\_use\\_hotel'\n",
       "\\item 'has\\_secondary\\_use\\_rental'\n",
       "\\item 'has\\_secondary\\_use\\_institution'\n",
       "\\item 'has\\_secondary\\_use\\_school'\n",
       "\\item 'has\\_secondary\\_use\\_industry'\n",
       "\\item 'has\\_secondary\\_use\\_health\\_post'\n",
       "\\item 'has\\_secondary\\_use\\_gov\\_office'\n",
       "\\item 'has\\_secondary\\_use\\_use\\_police'\n",
       "\\item 'has\\_secondary\\_use\\_other'\n",
       "\\item 'damage\\_grade'\n",
       "\\end{enumerate*}\n"
      ],
      "text/markdown": [
       "1. 'X'\n",
       "2. 'building_id'\n",
       "3. 'geo_level_1_id'\n",
       "4. 'geo_level_2_id'\n",
       "5. 'geo_level_3_id'\n",
       "6. 'count_floors_pre_eq'\n",
       "7. 'age'\n",
       "8. 'area_percentage'\n",
       "9. 'height_percentage'\n",
       "10. 'has_superstructure_adobe_mud'\n",
       "11. 'has_superstructure_mud_mortar_stone'\n",
       "12. 'has_superstructure_stone_flag'\n",
       "13. 'has_superstructure_cement_mortar_stone'\n",
       "14. 'has_superstructure_mud_mortar_brick'\n",
       "15. 'has_superstructure_cement_mortar_brick'\n",
       "16. 'has_superstructure_timber'\n",
       "17. 'has_superstructure_bamboo'\n",
       "18. 'has_superstructure_rc_non_engineered'\n",
       "19. 'has_superstructure_rc_engineered'\n",
       "20. 'has_superstructure_other'\n",
       "21. 'count_families'\n",
       "22. 'has_secondary_use'\n",
       "23. 'has_secondary_use_agriculture'\n",
       "24. 'has_secondary_use_hotel'\n",
       "25. 'has_secondary_use_rental'\n",
       "26. 'has_secondary_use_institution'\n",
       "27. 'has_secondary_use_school'\n",
       "28. 'has_secondary_use_industry'\n",
       "29. 'has_secondary_use_health_post'\n",
       "30. 'has_secondary_use_gov_office'\n",
       "31. 'has_secondary_use_use_police'\n",
       "32. 'has_secondary_use_other'\n",
       "33. 'damage_grade'\n",
       "\n",
       "\n"
      ],
      "text/plain": [
       " [1] \"X\"                                     \n",
       " [2] \"building_id\"                           \n",
       " [3] \"geo_level_1_id\"                        \n",
       " [4] \"geo_level_2_id\"                        \n",
       " [5] \"geo_level_3_id\"                        \n",
       " [6] \"count_floors_pre_eq\"                   \n",
       " [7] \"age\"                                   \n",
       " [8] \"area_percentage\"                       \n",
       " [9] \"height_percentage\"                     \n",
       "[10] \"has_superstructure_adobe_mud\"          \n",
       "[11] \"has_superstructure_mud_mortar_stone\"   \n",
       "[12] \"has_superstructure_stone_flag\"         \n",
       "[13] \"has_superstructure_cement_mortar_stone\"\n",
       "[14] \"has_superstructure_mud_mortar_brick\"   \n",
       "[15] \"has_superstructure_cement_mortar_brick\"\n",
       "[16] \"has_superstructure_timber\"             \n",
       "[17] \"has_superstructure_bamboo\"             \n",
       "[18] \"has_superstructure_rc_non_engineered\"  \n",
       "[19] \"has_superstructure_rc_engineered\"      \n",
       "[20] \"has_superstructure_other\"              \n",
       "[21] \"count_families\"                        \n",
       "[22] \"has_secondary_use\"                     \n",
       "[23] \"has_secondary_use_agriculture\"         \n",
       "[24] \"has_secondary_use_hotel\"               \n",
       "[25] \"has_secondary_use_rental\"              \n",
       "[26] \"has_secondary_use_institution\"         \n",
       "[27] \"has_secondary_use_school\"              \n",
       "[28] \"has_secondary_use_industry\"            \n",
       "[29] \"has_secondary_use_health_post\"         \n",
       "[30] \"has_secondary_use_gov_office\"          \n",
       "[31] \"has_secondary_use_use_police\"          \n",
       "[32] \"has_secondary_use_other\"               \n",
       "[33] \"damage_grade\"                          "
      ]
     },
     "metadata": {},
     "output_type": "display_data"
    },
    {
     "data": {
      "image/png": "[encoded data removed]",
      "text/plain": [
       "plot without title"
      ]
     },
     "metadata": {},
     "output_type": "display_data"
    }
   ],
   "source": [
    "names(numTrain)\n",
    "\n",
    "numTrain %>% ggplot(aes(count_floors_pre_eq)) +\n",
    "    geom_density(fill = 'red',alpha=0.8,adjust=4) +\n",
    "    ggtitle('Floors is right skewed')"
   ]
  },
  {
   "cell_type": "code",
   "execution_count": 35,
   "metadata": {
    "scrolled": true
   },
   "outputs": [
    {
     "data": {
      "image/png": "[encoded data removed]",
      "text/plain": [
       "plot without title"
      ]
     },
     "metadata": {},
     "output_type": "display_data"
    }
   ],
   "source": [
    "numTrain %>% ggplot(aes(area_percentage)) + geom_density(fill = 'red',alpha=0.8, adjust=2) +  ggtitle('Area follows a normal distribution')"
   ]
  },
  {
   "cell_type": "code",
   "execution_count": 36,
   "metadata": {
    "scrolled": true
   },
   "outputs": [
    {
     "data": {
      "image/png": "[encoded data removed]",
      "text/plain": [
       "plot without title"
      ]
     },
     "metadata": {},
     "output_type": "display_data"
    }
   ],
   "source": [
    "numTrain %>% ggplot(aes(age)) + geom_density(fill = 'red',alpha=0.8, adjust=3) +  ggtitle('Age follows a normal distribution')"
   ]
  },
  {
   "cell_type": "code",
   "execution_count": 37,
   "metadata": {
    "scrolled": true
   },
   "outputs": [
    {
     "data": {
      "image/png": "[encoded data removed]",
      "text/plain": [
       "plot without title"
      ]
     },
     "metadata": {},
     "output_type": "display_data"
    }
   ],
   "source": [
    "numTrain %>% ggplot(aes(height_percentage)) + geom_density(fill = 'red',alpha=0.8, adjust=2) +  ggtitle('Height percentage follows a normal distribution')"
   ]
  },
  {
   "cell_type": "code",
   "execution_count": 38,
   "metadata": {},
   "outputs": [
    {
     "data": {
      "image/png": "[encoded data removed]",
      "text/plain": [
       "plot without title"
      ]
     },
     "metadata": {},
     "output_type": "display_data"
    }
   ],
   "source": [
    "numTrain %>% ggplot(aes(count_families)) + geom_density(fill = 'red',alpha=0.8, adjust=2) +  ggtitle('Family follows a normal distribution')"
   ]
  },
  {
   "cell_type": "markdown",
   "metadata": {},
   "source": [
    "### Analysing Binary Featurures"
   ]
  },
  {
   "cell_type": "code",
   "execution_count": 39,
   "metadata": {},
   "outputs": [
    {
     "data": {
      "text/html": [
       "<table>\n",
       "<thead><tr><th scope=col>has_superstructure_adobe_mud</th><th scope=col>has_superstructure_mud_mortar_stone</th><th scope=col>has_superstructure_stone_flag</th><th scope=col>has_superstructure_cement_mortar_stone</th><th scope=col>has_superstructure_mud_mortar_brick</th><th scope=col>has_superstructure_cement_mortar_brick</th><th scope=col>has_superstructure_timber</th><th scope=col>has_superstructure_bamboo</th><th scope=col>has_superstructure_rc_non_engineered</th><th scope=col>has_superstructure_rc_engineered</th><th scope=col>...</th><th scope=col>has_secondary_use_agriculture</th><th scope=col>has_secondary_use_hotel</th><th scope=col>has_secondary_use_rental</th><th scope=col>has_secondary_use_institution</th><th scope=col>has_secondary_use_school</th><th scope=col>has_secondary_use_industry</th><th scope=col>has_secondary_use_health_post</th><th scope=col>has_secondary_use_gov_office</th><th scope=col>has_secondary_use_use_police</th><th scope=col>has_secondary_use_other</th></tr></thead>\n",
       "<tbody>\n",
       "\t<tr><td>1  </td><td>1  </td><td>0  </td><td>0  </td><td>0  </td><td>0  </td><td>0  </td><td>0  </td><td>0  </td><td>0  </td><td>...</td><td>0  </td><td>0  </td><td>0  </td><td>0  </td><td>0  </td><td>0  </td><td>0  </td><td>0  </td><td>0  </td><td>0  </td></tr>\n",
       "\t<tr><td>0  </td><td>1  </td><td>0  </td><td>0  </td><td>0  </td><td>0  </td><td>0  </td><td>0  </td><td>0  </td><td>0  </td><td>...</td><td>0  </td><td>0  </td><td>0  </td><td>0  </td><td>0  </td><td>0  </td><td>0  </td><td>0  </td><td>0  </td><td>0  </td></tr>\n",
       "\t<tr><td>0  </td><td>1  </td><td>0  </td><td>0  </td><td>0  </td><td>0  </td><td>0  </td><td>0  </td><td>0  </td><td>0  </td><td>...</td><td>0  </td><td>0  </td><td>0  </td><td>0  </td><td>0  </td><td>0  </td><td>0  </td><td>0  </td><td>0  </td><td>0  </td></tr>\n",
       "\t<tr><td>0  </td><td>1  </td><td>0  </td><td>0  </td><td>0  </td><td>0  </td><td>1  </td><td>1  </td><td>0  </td><td>0  </td><td>...</td><td>0  </td><td>0  </td><td>0  </td><td>0  </td><td>0  </td><td>0  </td><td>0  </td><td>0  </td><td>0  </td><td>0  </td></tr>\n",
       "\t<tr><td>1  </td><td>0  </td><td>0  </td><td>0  </td><td>0  </td><td>0  </td><td>0  </td><td>0  </td><td>0  </td><td>0  </td><td>...</td><td>0  </td><td>0  </td><td>0  </td><td>0  </td><td>0  </td><td>0  </td><td>0  </td><td>0  </td><td>0  </td><td>0  </td></tr>\n",
       "\t<tr><td>0  </td><td>1  </td><td>0  </td><td>0  </td><td>0  </td><td>0  </td><td>0  </td><td>0  </td><td>0  </td><td>0  </td><td>...</td><td>1  </td><td>0  </td><td>0  </td><td>0  </td><td>0  </td><td>0  </td><td>0  </td><td>0  </td><td>0  </td><td>0  </td></tr>\n",
       "</tbody>\n",
       "</table>\n"
      ],
      "text/latex": [
       "\\begin{tabular}{r|llllllllllllllllllllll}\n",
       " has\\_superstructure\\_adobe\\_mud & has\\_superstructure\\_mud\\_mortar\\_stone & has\\_superstructure\\_stone\\_flag & has\\_superstructure\\_cement\\_mortar\\_stone & has\\_superstructure\\_mud\\_mortar\\_brick & has\\_superstructure\\_cement\\_mortar\\_brick & has\\_superstructure\\_timber & has\\_superstructure\\_bamboo & has\\_superstructure\\_rc\\_non\\_engineered & has\\_superstructure\\_rc\\_engineered & ... & has\\_secondary\\_use\\_agriculture & has\\_secondary\\_use\\_hotel & has\\_secondary\\_use\\_rental & has\\_secondary\\_use\\_institution & has\\_secondary\\_use\\_school & has\\_secondary\\_use\\_industry & has\\_secondary\\_use\\_health\\_post & has\\_secondary\\_use\\_gov\\_office & has\\_secondary\\_use\\_use\\_police & has\\_secondary\\_use\\_other\\\\\n",
       "\\hline\n",
       "\t 1   & 1   & 0   & 0   & 0   & 0   & 0   & 0   & 0   & 0   & ... & 0   & 0   & 0   & 0   & 0   & 0   & 0   & 0   & 0   & 0  \\\\\n",
       "\t 0   & 1   & 0   & 0   & 0   & 0   & 0   & 0   & 0   & 0   & ... & 0   & 0   & 0   & 0   & 0   & 0   & 0   & 0   & 0   & 0  \\\\\n",
       "\t 0   & 1   & 0   & 0   & 0   & 0   & 0   & 0   & 0   & 0   & ... & 0   & 0   & 0   & 0   & 0   & 0   & 0   & 0   & 0   & 0  \\\\\n",
       "\t 0   & 1   & 0   & 0   & 0   & 0   & 1   & 1   & 0   & 0   & ... & 0   & 0   & 0   & 0   & 0   & 0   & 0   & 0   & 0   & 0  \\\\\n",
       "\t 1   & 0   & 0   & 0   & 0   & 0   & 0   & 0   & 0   & 0   & ... & 0   & 0   & 0   & 0   & 0   & 0   & 0   & 0   & 0   & 0  \\\\\n",
       "\t 0   & 1   & 0   & 0   & 0   & 0   & 0   & 0   & 0   & 0   & ... & 1   & 0   & 0   & 0   & 0   & 0   & 0   & 0   & 0   & 0  \\\\\n",
       "\\end{tabular}\n"
      ],
      "text/markdown": [
       "\n",
       "| has_superstructure_adobe_mud | has_superstructure_mud_mortar_stone | has_superstructure_stone_flag | has_superstructure_cement_mortar_stone | has_superstructure_mud_mortar_brick | has_superstructure_cement_mortar_brick | has_superstructure_timber | has_superstructure_bamboo | has_superstructure_rc_non_engineered | has_superstructure_rc_engineered | ... | has_secondary_use_agriculture | has_secondary_use_hotel | has_secondary_use_rental | has_secondary_use_institution | has_secondary_use_school | has_secondary_use_industry | has_secondary_use_health_post | has_secondary_use_gov_office | has_secondary_use_use_police | has_secondary_use_other |\n",
       "|---|---|---|---|---|---|---|---|---|---|---|---|---|---|---|---|---|---|---|---|---|\n",
       "| 1   | 1   | 0   | 0   | 0   | 0   | 0   | 0   | 0   | 0   | ... | 0   | 0   | 0   | 0   | 0   | 0   | 0   | 0   | 0   | 0   |\n",
       "| 0   | 1   | 0   | 0   | 0   | 0   | 0   | 0   | 0   | 0   | ... | 0   | 0   | 0   | 0   | 0   | 0   | 0   | 0   | 0   | 0   |\n",
       "| 0   | 1   | 0   | 0   | 0   | 0   | 0   | 0   | 0   | 0   | ... | 0   | 0   | 0   | 0   | 0   | 0   | 0   | 0   | 0   | 0   |\n",
       "| 0   | 1   | 0   | 0   | 0   | 0   | 1   | 1   | 0   | 0   | ... | 0   | 0   | 0   | 0   | 0   | 0   | 0   | 0   | 0   | 0   |\n",
       "| 1   | 0   | 0   | 0   | 0   | 0   | 0   | 0   | 0   | 0   | ... | 0   | 0   | 0   | 0   | 0   | 0   | 0   | 0   | 0   | 0   |\n",
       "| 0   | 1   | 0   | 0   | 0   | 0   | 0   | 0   | 0   | 0   | ... | 1   | 0   | 0   | 0   | 0   | 0   | 0   | 0   | 0   | 0   |\n",
       "\n"
      ],
      "text/plain": [
       "  has_superstructure_adobe_mud has_superstructure_mud_mortar_stone\n",
       "1 1                            1                                  \n",
       "2 0                            1                                  \n",
       "3 0                            1                                  \n",
       "4 0                            1                                  \n",
       "5 1                            0                                  \n",
       "6 0                            1                                  \n",
       "  has_superstructure_stone_flag has_superstructure_cement_mortar_stone\n",
       "1 0                             0                                     \n",
       "2 0                             0                                     \n",
       "3 0                             0                                     \n",
       "4 0                             0                                     \n",
       "5 0                             0                                     \n",
       "6 0                             0                                     \n",
       "  has_superstructure_mud_mortar_brick has_superstructure_cement_mortar_brick\n",
       "1 0                                   0                                     \n",
       "2 0                                   0                                     \n",
       "3 0                                   0                                     \n",
       "4 0                                   0                                     \n",
       "5 0                                   0                                     \n",
       "6 0                                   0                                     \n",
       "  has_superstructure_timber has_superstructure_bamboo\n",
       "1 0                         0                        \n",
       "2 0                         0                        \n",
       "3 0                         0                        \n",
       "4 1                         1                        \n",
       "5 0                         0                        \n",
       "6 0                         0                        \n",
       "  has_superstructure_rc_non_engineered has_superstructure_rc_engineered ...\n",
       "1 0                                    0                                ...\n",
       "2 0                                    0                                ...\n",
       "3 0                                    0                                ...\n",
       "4 0                                    0                                ...\n",
       "5 0                                    0                                ...\n",
       "6 0                                    0                                ...\n",
       "  has_secondary_use_agriculture has_secondary_use_hotel\n",
       "1 0                             0                      \n",
       "2 0                             0                      \n",
       "3 0                             0                      \n",
       "4 0                             0                      \n",
       "5 0                             0                      \n",
       "6 1                             0                      \n",
       "  has_secondary_use_rental has_secondary_use_institution\n",
       "1 0                        0                            \n",
       "2 0                        0                            \n",
       "3 0                        0                            \n",
       "4 0                        0                            \n",
       "5 0                        0                            \n",
       "6 0                        0                            \n",
       "  has_secondary_use_school has_secondary_use_industry\n",
       "1 0                        0                         \n",
       "2 0                        0                         \n",
       "3 0                        0                         \n",
       "4 0                        0                         \n",
       "5 0                        0                         \n",
       "6 0                        0                         \n",
       "  has_secondary_use_health_post has_secondary_use_gov_office\n",
       "1 0                             0                           \n",
       "2 0                             0                           \n",
       "3 0                             0                           \n",
       "4 0                             0                           \n",
       "5 0                             0                           \n",
       "6 0                             0                           \n",
       "  has_secondary_use_use_police has_secondary_use_other\n",
       "1 0                            0                      \n",
       "2 0                            0                      \n",
       "3 0                            0                      \n",
       "4 0                            0                      \n",
       "5 0                            0                      \n",
       "6 0                            0                      "
      ]
     },
     "metadata": {},
     "output_type": "display_data"
    },
    {
     "data": {
      "text/html": [
       "22"
      ],
      "text/latex": [
       "22"
      ],
      "text/markdown": [
       "22"
      ],
      "text/plain": [
       "[1] 22"
      ]
     },
     "metadata": {},
     "output_type": "display_data"
    }
   ],
   "source": [
    "binaryFeat <- apply(numTrain,2,function(x) { all(x %in% 0:1) })\n",
    "binTrain <- numTrain[,binaryFeat]\n",
    "head(binTrain)\n",
    "length(names(binTrain))"
   ]
  },
  {
   "cell_type": "code",
   "execution_count": 40,
   "metadata": {},
   "outputs": [
    {
     "name": "stdout",
     "output_type": "stream",
     "text": [
      "How many buildings have these features?"
     ]
    },
    {
     "data": {
      "text/html": [
       "<dl class=dl-horizontal>\n",
       "\t<dt>has_superstructure_adobe_mud</dt>\n",
       "\t\t<dd>20842</dd>\n",
       "\t<dt>has_superstructure_mud_mortar_stone</dt>\n",
       "\t\t<dd>178711</dd>\n",
       "\t<dt>has_superstructure_stone_flag</dt>\n",
       "\t\t<dd>8002</dd>\n",
       "\t<dt>has_superstructure_cement_mortar_stone</dt>\n",
       "\t\t<dd>4311</dd>\n",
       "\t<dt>has_superstructure_mud_mortar_brick</dt>\n",
       "\t\t<dd>15999</dd>\n",
       "\t<dt>has_superstructure_cement_mortar_brick</dt>\n",
       "\t\t<dd>17687</dd>\n",
       "\t<dt>has_superstructure_timber</dt>\n",
       "\t\t<dd>59770</dd>\n",
       "\t<dt>has_superstructure_bamboo</dt>\n",
       "\t\t<dd>19988</dd>\n",
       "\t<dt>has_superstructure_rc_non_engineered</dt>\n",
       "\t\t<dd>9976</dd>\n",
       "\t<dt>has_superstructure_rc_engineered</dt>\n",
       "\t\t<dd>3730</dd>\n",
       "\t<dt>has_superstructure_other</dt>\n",
       "\t\t<dd>3530</dd>\n",
       "\t<dt>has_secondary_use</dt>\n",
       "\t\t<dd>26265</dd>\n",
       "\t<dt>has_secondary_use_agriculture</dt>\n",
       "\t\t<dd>15105</dd>\n",
       "\t<dt>has_secondary_use_hotel</dt>\n",
       "\t\t<dd>7896</dd>\n",
       "\t<dt>has_secondary_use_rental</dt>\n",
       "\t\t<dd>1900</dd>\n",
       "\t<dt>has_secondary_use_institution</dt>\n",
       "\t\t<dd>229</dd>\n",
       "\t<dt>has_secondary_use_school</dt>\n",
       "\t\t<dd>89</dd>\n",
       "\t<dt>has_secondary_use_industry</dt>\n",
       "\t\t<dd>254</dd>\n",
       "\t<dt>has_secondary_use_health_post</dt>\n",
       "\t\t<dd>42</dd>\n",
       "\t<dt>has_secondary_use_gov_office</dt>\n",
       "\t\t<dd>35</dd>\n",
       "\t<dt>has_secondary_use_use_police</dt>\n",
       "\t\t<dd>20</dd>\n",
       "\t<dt>has_secondary_use_other</dt>\n",
       "\t\t<dd>1202</dd>\n",
       "</dl>\n"
      ],
      "text/latex": [
       "\\begin{description*}\n",
       "\\item[has\\textbackslash{}\\_superstructure\\textbackslash{}\\_adobe\\textbackslash{}\\_mud] 20842\n",
       "\\item[has\\textbackslash{}\\_superstructure\\textbackslash{}\\_mud\\textbackslash{}\\_mortar\\textbackslash{}\\_stone] 178711\n",
       "\\item[has\\textbackslash{}\\_superstructure\\textbackslash{}\\_stone\\textbackslash{}\\_flag] 8002\n",
       "\\item[has\\textbackslash{}\\_superstructure\\textbackslash{}\\_cement\\textbackslash{}\\_mortar\\textbackslash{}\\_stone] 4311\n",
       "\\item[has\\textbackslash{}\\_superstructure\\textbackslash{}\\_mud\\textbackslash{}\\_mortar\\textbackslash{}\\_brick] 15999\n",
       "\\item[has\\textbackslash{}\\_superstructure\\textbackslash{}\\_cement\\textbackslash{}\\_mortar\\textbackslash{}\\_brick] 17687\n",
       "\\item[has\\textbackslash{}\\_superstructure\\textbackslash{}\\_timber] 59770\n",
       "\\item[has\\textbackslash{}\\_superstructure\\textbackslash{}\\_bamboo] 19988\n",
       "\\item[has\\textbackslash{}\\_superstructure\\textbackslash{}\\_rc\\textbackslash{}\\_non\\textbackslash{}\\_engineered] 9976\n",
       "\\item[has\\textbackslash{}\\_superstructure\\textbackslash{}\\_rc\\textbackslash{}\\_engineered] 3730\n",
       "\\item[has\\textbackslash{}\\_superstructure\\textbackslash{}\\_other] 3530\n",
       "\\item[has\\textbackslash{}\\_secondary\\textbackslash{}\\_use] 26265\n",
       "\\item[has\\textbackslash{}\\_secondary\\textbackslash{}\\_use\\textbackslash{}\\_agriculture] 15105\n",
       "\\item[has\\textbackslash{}\\_secondary\\textbackslash{}\\_use\\textbackslash{}\\_hotel] 7896\n",
       "\\item[has\\textbackslash{}\\_secondary\\textbackslash{}\\_use\\textbackslash{}\\_rental] 1900\n",
       "\\item[has\\textbackslash{}\\_secondary\\textbackslash{}\\_use\\textbackslash{}\\_institution] 229\n",
       "\\item[has\\textbackslash{}\\_secondary\\textbackslash{}\\_use\\textbackslash{}\\_school] 89\n",
       "\\item[has\\textbackslash{}\\_secondary\\textbackslash{}\\_use\\textbackslash{}\\_industry] 254\n",
       "\\item[has\\textbackslash{}\\_secondary\\textbackslash{}\\_use\\textbackslash{}\\_health\\textbackslash{}\\_post] 42\n",
       "\\item[has\\textbackslash{}\\_secondary\\textbackslash{}\\_use\\textbackslash{}\\_gov\\textbackslash{}\\_office] 35\n",
       "\\item[has\\textbackslash{}\\_secondary\\textbackslash{}\\_use\\textbackslash{}\\_use\\textbackslash{}\\_police] 20\n",
       "\\item[has\\textbackslash{}\\_secondary\\textbackslash{}\\_use\\textbackslash{}\\_other] 1202\n",
       "\\end{description*}\n"
      ],
      "text/markdown": [
       "has_superstructure_adobe_mud\n",
       ":   20842has_superstructure_mud_mortar_stone\n",
       ":   178711has_superstructure_stone_flag\n",
       ":   8002has_superstructure_cement_mortar_stone\n",
       ":   4311has_superstructure_mud_mortar_brick\n",
       ":   15999has_superstructure_cement_mortar_brick\n",
       ":   17687has_superstructure_timber\n",
       ":   59770has_superstructure_bamboo\n",
       ":   19988has_superstructure_rc_non_engineered\n",
       ":   9976has_superstructure_rc_engineered\n",
       ":   3730has_superstructure_other\n",
       ":   3530has_secondary_use\n",
       ":   26265has_secondary_use_agriculture\n",
       ":   15105has_secondary_use_hotel\n",
       ":   7896has_secondary_use_rental\n",
       ":   1900has_secondary_use_institution\n",
       ":   229has_secondary_use_school\n",
       ":   89has_secondary_use_industry\n",
       ":   254has_secondary_use_health_post\n",
       ":   42has_secondary_use_gov_office\n",
       ":   35has_secondary_use_use_police\n",
       ":   20has_secondary_use_other\n",
       ":   1202\n",
       "\n"
      ],
      "text/plain": [
       "          has_superstructure_adobe_mud    has_superstructure_mud_mortar_stone \n",
       "                                 20842                                 178711 \n",
       "         has_superstructure_stone_flag has_superstructure_cement_mortar_stone \n",
       "                                  8002                                   4311 \n",
       "   has_superstructure_mud_mortar_brick has_superstructure_cement_mortar_brick \n",
       "                                 15999                                  17687 \n",
       "             has_superstructure_timber              has_superstructure_bamboo \n",
       "                                 59770                                  19988 \n",
       "  has_superstructure_rc_non_engineered       has_superstructure_rc_engineered \n",
       "                                  9976                                   3730 \n",
       "              has_superstructure_other                      has_secondary_use \n",
       "                                  3530                                  26265 \n",
       "         has_secondary_use_agriculture                has_secondary_use_hotel \n",
       "                                 15105                                   7896 \n",
       "              has_secondary_use_rental          has_secondary_use_institution \n",
       "                                  1900                                    229 \n",
       "              has_secondary_use_school             has_secondary_use_industry \n",
       "                                    89                                    254 \n",
       "         has_secondary_use_health_post           has_secondary_use_gov_office \n",
       "                                    42                                     35 \n",
       "          has_secondary_use_use_police                has_secondary_use_other \n",
       "                                    20                                   1202 "
      ]
     },
     "metadata": {},
     "output_type": "display_data"
    }
   ],
   "source": [
    "cat('How many buildings have these features?')\n",
    "apply(binTrain, 2, sum)#/nrow(binTrain)"
   ]
  },
  {
   "cell_type": "code",
   "execution_count": 41,
   "metadata": {},
   "outputs": [],
   "source": [
    "#Investigating the interaction between binary features\n",
    "x <- matrix(1:9, nrow = 3, dimnames = list(c(\"X\",\"Y\",\"Z\"), c(\"A\",\"B\",\"C\")))\n",
    "nbin <- ncol(binTrain)\n",
    "nameBin <- names(binTrain)\n",
    "#interactionPval <- matrix(1:nbin^2, nrow=nbin, dimnames=list(nameBin,nameBin))\n",
    "#interaction <- matrix(1:nbin^2, nrow=nbin, dimnames=list(nameBin,nameBin))\n",
    "propInteraction <- matrix(1:nbin^2, nrow=nbin, dimnames=list(nameBin,nameBin))\n",
    "\n",
    "for (i in 1:length(names(binTrain))) {\n",
    "    for (j in 1:length(names(binTrain))) {\n",
    "        freq <- prop.table(table(binTrain[,i], binTrain[,j]))\n",
    "        propInteraction[i,j] = freq[2,2]/(freq[1,2]+freq[2,1])\n",
    "        #interactionPval[i,j] =  summary(freq)$p.value\n",
    "    }\n",
    "}"
   ]
  },
  {
   "cell_type": "code",
   "execution_count": 42,
   "metadata": {},
   "outputs": [
    {
     "data": {
      "image/png": "[encoded data removed]",
      "text/plain": [
       "Plot with title \"Histogram of as.vector(propInteraction)\""
      ]
     },
     "metadata": {},
     "output_type": "display_data"
    }
   ],
   "source": [
    "hist(as.vector(propInteraction), breaks=100)\n"
   ]
  },
  {
   "cell_type": "markdown",
   "metadata": {},
   "source": [
    "Within the binary variables, they are fairly exclusive. In other words a building is not very likely to be of 2 categories. Models that do not investigate interactions, such as basic linear regression with no basis expansion, are likely to do well. "
   ]
  },
  {
   "cell_type": "code",
   "execution_count": 43,
   "metadata": {},
   "outputs": [
    {
     "name": "stdout",
     "output_type": "stream",
     "text": [
      "Table for variable  has_superstructure_adobe_mud   \n",
      "              1           2           3\n",
      "  0 0.093941332 0.515660442 0.301534919\n",
      "  1 0.002276797 0.053538842 0.033047668\n",
      "\n",
      "Table for variable  has_superstructure_mud_mortar_stone   \n",
      "             1          2          3\n",
      "  0 0.06268440 0.13170035 0.04365140\n",
      "  1 0.03353373 0.43749893 0.29093118\n",
      "\n",
      "Table for variable  has_superstructure_stone_flag   \n",
      "               1            2            3\n",
      "  0 0.0955359427 0.5519015946 0.3184446150\n",
      "  1 0.0006821864 0.0172976891 0.0161379722\n",
      "\n",
      "Table for variable  has_superstructure_cement_mortar_stone   \n",
      "              1           2           3\n",
      "  0 0.092994798 0.556612944 0.332011597\n",
      "  1 0.003223331 0.012586339 0.002570990\n",
      "\n",
      "Table for variable  has_superstructure_mud_mortar_brick   \n",
      "              1           2           3\n",
      "  0 0.093868850 0.524298627 0.313618146\n",
      "  1 0.002349279 0.044900657 0.020964441\n",
      "\n",
      "Table for variable  has_superstructure_cement_mortar_brick   \n",
      "              1           2           3\n",
      "  0 0.068930673 0.525270743 0.330387141\n",
      "  1 0.027287456 0.043928541 0.004195446\n",
      "\n",
      "Table for variable  has_superstructure_timber   \n",
      "             1          2          3\n",
      "  0 0.06696512 0.41480345 0.26339217\n",
      "  1 0.02925301 0.15439584 0.07119042\n",
      "\n",
      "Table for variable  has_superstructure_bamboo   \n",
      "             1          2          3\n",
      "  0 0.08528183 0.51531082 0.31418521\n",
      "  1 0.01093630 0.05388846 0.02039737\n",
      "\n",
      "Table for variable  has_superstructure_rc_non_engineered   \n",
      "              1           2           3\n",
      "  0 0.081436002 0.546861943 0.329167733\n",
      "  1 0.014782127 0.022337341 0.005414855\n",
      "\n",
      "Table for variable  has_superstructure_rc_engineered   \n",
      "               1            2            3\n",
      "  0 0.0859853330 0.5638270657 0.3342841306\n",
      "  1 0.0102327961 0.0053722180 0.0002984566\n",
      "\n",
      "Table for variable  has_superstructure_other   \n",
      "              1           2           3\n",
      "  0 0.093702567 0.560556835 0.330689861\n",
      "  1 0.002515562 0.008642449 0.003892726\n",
      "\n",
      "Table for variable  has_secondary_use   \n",
      "             1          2          3\n",
      "  0 0.07990108 0.50103607 0.30707768\n",
      "  1 0.01631705 0.06816321 0.02750490\n",
      "\n",
      "Table for variable  has_secondary_use_agriculture   \n",
      "              1           2           3\n",
      "  0 0.093045962 0.528084762 0.314466616\n",
      "  1 0.003172167 0.041114522 0.020115972\n",
      "\n",
      "Table for variable  has_secondary_use_hotel   \n",
      "              1           2           3\n",
      "  0 0.087682272 0.549791080 0.328860749\n",
      "  1 0.008535857 0.019408203 0.005721838\n",
      "\n",
      "Table for variable  has_secondary_use_rental   \n",
      "               1            2            3\n",
      "  0 0.0928754157 0.5651658566 0.3338577641\n",
      "  1 0.0033427134 0.0040334271 0.0007248231\n",
      "\n",
      "Table for variable  has_secondary_use_institution   \n",
      "               1            2            3\n",
      "  0 9.582587e-02 5.686876e-01 3.345101e-01\n",
      "  1 3.922572e-04 5.116398e-04 7.248231e-05\n",
      "\n",
      "Table for variable  has_secondary_use_school   \n",
      "               1            2            3\n",
      "  0 9.609448e-02 5.690159e-01 3.345101e-01\n",
      "  1 1.236463e-04 1.833376e-04 7.248231e-05\n",
      "\n",
      "Table for variable  has_secondary_use_industry   \n",
      "               1            2            3\n",
      "  0 0.0959793639 0.5686066343 0.3343310310\n",
      "  1 0.0002387652 0.0005926494 0.0002515562\n",
      "\n",
      "Table for variable  has_secondary_use_health_post   \n",
      "               1            2            3\n",
      "  0 9.617123e-02 5.690884e-01 3.345613e-01\n",
      "  1 4.690032e-05 1.108553e-04 2.131833e-05\n",
      "\n",
      "Table for variable  has_secondary_use_gov_office   \n",
      "               1            2            3\n",
      "  0 9.616270e-02 5.691225e-01 3.345655e-01\n",
      "  1 5.542765e-05 7.674597e-05 1.705466e-05\n",
      "\n",
      "Table for variable  has_secondary_use_use_police   \n",
      "               1            2            3\n",
      "  0 9.620534e-02 5.691524e-01 3.345570e-01\n",
      "  1 1.279100e-05 4.690032e-05 2.558199e-05\n",
      "\n",
      "Table for variable  has_secondary_use_other   \n",
      "               1            2            3\n",
      "  0 0.0955700520 0.5658608340 0.3334441886\n",
      "  1 0.0006480771 0.0033384497 0.0011383986\n",
      "\n"
     ]
    },
    {
     "data": {
      "text/html": [
       "<dl class=dl-horizontal>\n",
       "\t<dt>has_superstructure_adobe_mud</dt>\n",
       "\t\t<dd>2.36737772567474e-288</dd>\n",
       "\t<dt>has_superstructure_mud_mortar_stone</dt>\n",
       "\t\t<dd>0</dd>\n",
       "\t<dt>has_superstructure_stone_flag</dt>\n",
       "\t\t<dd>1.30748030727525e-224</dd>\n",
       "\t<dt>has_superstructure_cement_mortar_stone</dt>\n",
       "\t\t<dd>3.03074596532744e-193</dd>\n",
       "\t<dt>has_superstructure_mud_mortar_brick</dt>\n",
       "\t\t<dd>8.15507607289929e-209</dd>\n",
       "\t<dt>has_superstructure_cement_mortar_brick</dt>\n",
       "\t\t<dd>0</dd>\n",
       "\t<dt>has_superstructure_timber</dt>\n",
       "\t\t<dd>4.5769902565371e-263</dd>\n",
       "\t<dt>has_superstructure_bamboo</dt>\n",
       "\t\t<dd>2.04933405319482e-213</dd>\n",
       "\t<dt>has_superstructure_rc_non_engineered</dt>\n",
       "\t\t<dd>0</dd>\n",
       "\t<dt>has_superstructure_rc_engineered</dt>\n",
       "\t\t<dd>0</dd>\n",
       "\t<dt>has_superstructure_other</dt>\n",
       "\t\t<dd>7.39071807617561e-55</dd>\n",
       "\t<dt>has_secondary_use</dt>\n",
       "\t\t<dd>0</dd>\n",
       "\t<dt>has_secondary_use_agriculture</dt>\n",
       "\t\t<dd>9.26104076956169e-116</dd>\n",
       "\t<dt>has_secondary_use_hotel</dt>\n",
       "\t\t<dd>0</dd>\n",
       "\t<dt>has_secondary_use_rental</dt>\n",
       "\t\t<dd>0</dd>\n",
       "\t<dt>has_secondary_use_institution</dt>\n",
       "\t\t<dd>2.80213318705374e-59</dd>\n",
       "\t<dt>has_secondary_use_school</dt>\n",
       "\t\t<dd>9.17673156151428e-13</dd>\n",
       "\t<dt>has_secondary_use_industry</dt>\n",
       "\t\t<dd>2.32487141377776e-11</dd>\n",
       "\t<dt>has_secondary_use_health_post</dt>\n",
       "\t\t<dd>0.000123339477269662</dd>\n",
       "\t<dt>has_secondary_use_gov_office</dt>\n",
       "\t\t<dd>7.47495159067351e-08</dd>\n",
       "\t<dt>has_secondary_use_use_police</dt>\n",
       "\t\t<dd>0.709731986213334</dd>\n",
       "\t<dt>has_secondary_use_other</dt>\n",
       "\t\t<dd>2.98979105571248e-16</dd>\n",
       "</dl>\n"
      ],
      "text/latex": [
       "\\begin{description*}\n",
       "\\item[has\\textbackslash{}\\_superstructure\\textbackslash{}\\_adobe\\textbackslash{}\\_mud] 2.36737772567474e-288\n",
       "\\item[has\\textbackslash{}\\_superstructure\\textbackslash{}\\_mud\\textbackslash{}\\_mortar\\textbackslash{}\\_stone] 0\n",
       "\\item[has\\textbackslash{}\\_superstructure\\textbackslash{}\\_stone\\textbackslash{}\\_flag] 1.30748030727525e-224\n",
       "\\item[has\\textbackslash{}\\_superstructure\\textbackslash{}\\_cement\\textbackslash{}\\_mortar\\textbackslash{}\\_stone] 3.03074596532744e-193\n",
       "\\item[has\\textbackslash{}\\_superstructure\\textbackslash{}\\_mud\\textbackslash{}\\_mortar\\textbackslash{}\\_brick] 8.15507607289929e-209\n",
       "\\item[has\\textbackslash{}\\_superstructure\\textbackslash{}\\_cement\\textbackslash{}\\_mortar\\textbackslash{}\\_brick] 0\n",
       "\\item[has\\textbackslash{}\\_superstructure\\textbackslash{}\\_timber] 4.5769902565371e-263\n",
       "\\item[has\\textbackslash{}\\_superstructure\\textbackslash{}\\_bamboo] 2.04933405319482e-213\n",
       "\\item[has\\textbackslash{}\\_superstructure\\textbackslash{}\\_rc\\textbackslash{}\\_non\\textbackslash{}\\_engineered] 0\n",
       "\\item[has\\textbackslash{}\\_superstructure\\textbackslash{}\\_rc\\textbackslash{}\\_engineered] 0\n",
       "\\item[has\\textbackslash{}\\_superstructure\\textbackslash{}\\_other] 7.39071807617561e-55\n",
       "\\item[has\\textbackslash{}\\_secondary\\textbackslash{}\\_use] 0\n",
       "\\item[has\\textbackslash{}\\_secondary\\textbackslash{}\\_use\\textbackslash{}\\_agriculture] 9.26104076956169e-116\n",
       "\\item[has\\textbackslash{}\\_secondary\\textbackslash{}\\_use\\textbackslash{}\\_hotel] 0\n",
       "\\item[has\\textbackslash{}\\_secondary\\textbackslash{}\\_use\\textbackslash{}\\_rental] 0\n",
       "\\item[has\\textbackslash{}\\_secondary\\textbackslash{}\\_use\\textbackslash{}\\_institution] 2.80213318705374e-59\n",
       "\\item[has\\textbackslash{}\\_secondary\\textbackslash{}\\_use\\textbackslash{}\\_school] 9.17673156151428e-13\n",
       "\\item[has\\textbackslash{}\\_secondary\\textbackslash{}\\_use\\textbackslash{}\\_industry] 2.32487141377776e-11\n",
       "\\item[has\\textbackslash{}\\_secondary\\textbackslash{}\\_use\\textbackslash{}\\_health\\textbackslash{}\\_post] 0.000123339477269662\n",
       "\\item[has\\textbackslash{}\\_secondary\\textbackslash{}\\_use\\textbackslash{}\\_gov\\textbackslash{}\\_office] 7.47495159067351e-08\n",
       "\\item[has\\textbackslash{}\\_secondary\\textbackslash{}\\_use\\textbackslash{}\\_use\\textbackslash{}\\_police] 0.709731986213334\n",
       "\\item[has\\textbackslash{}\\_secondary\\textbackslash{}\\_use\\textbackslash{}\\_other] 2.98979105571248e-16\n",
       "\\end{description*}\n"
      ],
      "text/markdown": [
       "has_superstructure_adobe_mud\n",
       ":   2.36737772567474e-288has_superstructure_mud_mortar_stone\n",
       ":   0has_superstructure_stone_flag\n",
       ":   1.30748030727525e-224has_superstructure_cement_mortar_stone\n",
       ":   3.03074596532744e-193has_superstructure_mud_mortar_brick\n",
       ":   8.15507607289929e-209has_superstructure_cement_mortar_brick\n",
       ":   0has_superstructure_timber\n",
       ":   4.5769902565371e-263has_superstructure_bamboo\n",
       ":   2.04933405319482e-213has_superstructure_rc_non_engineered\n",
       ":   0has_superstructure_rc_engineered\n",
       ":   0has_superstructure_other\n",
       ":   7.39071807617561e-55has_secondary_use\n",
       ":   0has_secondary_use_agriculture\n",
       ":   9.26104076956169e-116has_secondary_use_hotel\n",
       ":   0has_secondary_use_rental\n",
       ":   0has_secondary_use_institution\n",
       ":   2.80213318705374e-59has_secondary_use_school\n",
       ":   9.17673156151428e-13has_secondary_use_industry\n",
       ":   2.32487141377776e-11has_secondary_use_health_post\n",
       ":   0.000123339477269662has_secondary_use_gov_office\n",
       ":   7.47495159067351e-08has_secondary_use_use_police\n",
       ":   0.709731986213334has_secondary_use_other\n",
       ":   2.98979105571248e-16\n",
       "\n"
      ],
      "text/plain": [
       "          has_superstructure_adobe_mud    has_superstructure_mud_mortar_stone \n",
       "                         2.367378e-288                           0.000000e+00 \n",
       "         has_superstructure_stone_flag has_superstructure_cement_mortar_stone \n",
       "                         1.307480e-224                          3.030746e-193 \n",
       "   has_superstructure_mud_mortar_brick has_superstructure_cement_mortar_brick \n",
       "                         8.155076e-209                           0.000000e+00 \n",
       "             has_superstructure_timber              has_superstructure_bamboo \n",
       "                         4.576990e-263                          2.049334e-213 \n",
       "  has_superstructure_rc_non_engineered       has_superstructure_rc_engineered \n",
       "                          0.000000e+00                           0.000000e+00 \n",
       "              has_superstructure_other                      has_secondary_use \n",
       "                          7.390718e-55                           0.000000e+00 \n",
       "         has_secondary_use_agriculture                has_secondary_use_hotel \n",
       "                         9.261041e-116                           0.000000e+00 \n",
       "              has_secondary_use_rental          has_secondary_use_institution \n",
       "                          0.000000e+00                           2.802133e-59 \n",
       "              has_secondary_use_school             has_secondary_use_industry \n",
       "                          9.176732e-13                           2.324871e-11 \n",
       "         has_secondary_use_health_post           has_secondary_use_gov_office \n",
       "                          1.233395e-04                           7.474952e-08 \n",
       "          has_secondary_use_use_police                has_secondary_use_other \n",
       "                          7.097320e-01                           2.989791e-16 "
      ]
     },
     "metadata": {},
     "output_type": "display_data"
    }
   ],
   "source": [
    "#Investigating the relationship between binary variables and the label\n",
    "x <- matrix(1:9, nrow = 3, dimnames = list(c(\"X\",\"Y\",\"Z\"), c(\"A\",\"B\",\"C\")))\n",
    "interactionPval <- 1:nbin\n",
    "\n",
    "names(interactionPval) <- nameBin\n",
    "for (i in 1:length(names(binTrain))) {\n",
    "    freq <- table(binTrain[,i], numTrain$damage_grade)\n",
    "    cat('Table for variable ', nameBin[i])\n",
    "    print(prop.table(freq))    \n",
    "    cat('\\n')\n",
    "    interactionPval[i] =  summary(freq)$p.value\n",
    "}\n",
    "interactionPval"
   ]
  },
  {
   "cell_type": "markdown",
   "metadata": {},
   "source": [
    "A lot of the binary variables have a low pvalue compared with the label, so according to the pvalue atleast they are good predictors. However, when looking closer at the tables, these results are because most buildings are of damage_grade 2, making the tables look like as though they are discriminating among the data well. "
   ]
  },
  {
   "cell_type": "code",
   "execution_count": 114,
   "metadata": {
    "scrolled": true
   },
   "outputs": [],
   "source": [
    "binTrain %>% \n",
    "    mutate(damage_grade =labels$damage_grade) ->\n",
    "    binTrain2\n",
    "nameBin2 <- names(binTrain2)\n",
    "numFeat <- length(nameBin2)\n",
    "plotBinLab <- function(start,end, nameBin2, binTrain2) {\n",
    "    n <- floor(sqrt(end-start+1))\n",
    "    par(mfrow = c(n,n))\n",
    "    for (i in start:end) {\n",
    "        freqFeat <- prop.table(table(binTrain2[,nameBin2[i]], numTrain$damage_grade), 1)\n",
    "        freqData <- prop.table(table(binTrain2$damage_grade))\n",
    "        freq <- rbind(freqFeat[2,],freqData)\n",
    "        barplot( freq , beside=TRUE, main = nameBin2[i] )\n",
    "    }\n",
    "}\n"
   ]
  },
  {
   "cell_type": "code",
   "execution_count": 116,
   "metadata": {},
   "outputs": [
    {
     "name": "stdout",
     "output_type": "stream",
     "text": [
      "The purpose of these figures is to compare the distribution of damage_grade among those that have a\n",
      "    particular feature and that of the whole data. Hence to determine if a feature is a good predictor, look for\n",
      "    diffferences among the colors"
     ]
    },
    {
     "data": {
      "image/png": "[encoded data removed]",
      "text/plain": [
       "Plot with title \"has_superstructure_cement_mortar_stone\""
      ]
     },
     "metadata": {},
     "output_type": "display_data"
    },
    {
     "data": {
      "image/png": "[encoded data removed]",
      "text/plain": [
       "Plot with title \"has_superstructure_bamboo\""
      ]
     },
     "metadata": {},
     "output_type": "display_data"
    },
    {
     "data": {
      "image/png": "[encoded data removed]",
      "text/plain": [
       "Plot with title \"has_secondary_use\""
      ]
     },
     "metadata": {},
     "output_type": "display_data"
    },
    {
     "data": {
      "image/png": "[encoded data removed]",
      "text/plain": [
       "Plot with title \"has_secondary_use_institution\""
      ]
     },
     "metadata": {},
     "output_type": "display_data"
    },
    {
     "data": {
      "image/png": "[encoded data removed]",
      "text/plain": [
       "Plot with title \"has_secondary_use_gov_office\""
      ]
     },
     "metadata": {},
     "output_type": "display_data"
    },
    {
     "data": {
      "image/png": "[encoded data removed]",
      "text/plain": [
       "Plot with title \"has_secondary_use_other\""
      ]
     },
     "metadata": {},
     "output_type": "display_data"
    }
   ],
   "source": [
    "cat('The purpose of these figures is to compare the distribution of damage_grade among those that have a\n",
    "    particular feature and that of the whole data. Hence to determine if a feature is a good predictor, look for\n",
    "    diffferences among the colors')\n",
    "plotBinLab(1,8, nameBin2, binTrain2)\n",
    "plotBinLab(9,16, nameBin2, binTrain2)\n",
    "plotBinLab(17,22, nameBin2, binTrain2)"
   ]
  },
  {
   "cell_type": "markdown",
   "metadata": {},
   "source": [
    "#### Key Points\n",
    "Which binary features had great influence on the label?\n",
    "* has_superstructure_stone_flag\n",
    "* has_superstructure_cement_mortar_stone\n",
    "* has_superstructure_cement_mortar_brick\n",
    "* has_superstructure_rc_non_engineered\n",
    "* has_superstructure_rc_engineered\n",
    "* has_secondary_use_hotel\n",
    "* has_secondary_use_rental\n",
    "* has_secondary_use_institution\n",
    "* has_secondary_use_school\n",
    "* has_secondary_use_industry\n",
    "* has_secondary_use_gov_office"
   ]
  },
  {
   "cell_type": "markdown",
   "metadata": {},
   "source": [
    "## Anlayzing factor variables"
   ]
  },
  {
   "cell_type": "code",
   "execution_count": 151,
   "metadata": {},
   "outputs": [
    {
     "name": "stdout",
     "output_type": "stream",
     "text": [
      "Analyzing land_surface_condition \n",
      "feature\n",
      "     n      o      t \n",
      " 31916   7474 195150 \n",
      "\n",
      " Distribution of feature among buildings of the same damage grade (marginal percentage taken along column)       \n",
      "feature  1  2  3\n",
      "      n 10 14 13\n",
      "      o  2  3  3\n",
      "      t 87 82 83\n",
      "\n",
      " Distribution of buliding with the same feature value (marginal percentage taken along rows)       \n",
      "feature  1  2  3\n",
      "      n  7 60 32\n",
      "      o  7 57 36\n",
      "      t 10 56 34\n",
      "\n",
      " \n",
      "Analyzing foundation_type \n",
      "feature\n",
      "     h      i      r      u      w \n",
      "  1308   9525 197246  12882  13579 \n",
      "\n",
      " Distribution of feature among buildings of the same damage grade (marginal percentage taken along column)       \n",
      "feature  1  2  3\n",
      "      h  1  0  1\n",
      "      i 24  3  0\n",
      "      r 43 85 95\n",
      "      u 15  6  2\n",
      "      w 17  6  2\n",
      "\n",
      " Distribution of buliding with the same feature value (marginal percentage taken along rows)       \n",
      "feature  1  2  3\n",
      "      h 24 41 35\n",
      "      i 57 41  2\n",
      "      r  5 57 38\n",
      "      u 26 60 14\n",
      "      w 29 61 10\n",
      "\n",
      " \n",
      "Analyzing roof_type \n",
      "feature\n",
      "     n      q      x \n",
      "164557  55433  14550 \n",
      "\n",
      " Distribution of feature among buildings of the same damage grade (marginal percentage taken along column)       \n",
      "feature  1  2  3\n",
      "      n 54 72 72\n",
      "      q 16 23 27\n",
      "      x 31  5  1\n",
      "\n",
      " Distribution of buliding with the same feature value (marginal percentage taken along rows)       \n",
      "feature  1  2  3\n",
      "      n  7 58 34\n",
      "      q  6 55 38\n",
      "      x 47 48  5\n",
      "\n",
      " \n",
      "Analyzing ground_floor_type \n",
      "feature\n",
      "     f      m      v      x      z \n",
      "188540    450  22131  22513    906 \n",
      "\n",
      " Distribution of feature among buildings of the same damage grade (marginal percentage taken along column)       \n",
      "feature  1  2  3\n",
      "      f 50 81 89\n",
      "      m  0  0  0\n",
      "      v 41  9  2\n",
      "      x  8 10 10\n",
      "      z  1  0  0\n",
      "\n",
      " Distribution of buliding with the same feature value (marginal percentage taken along rows)       \n",
      "feature  1  2  3\n",
      "      f  6 57 37\n",
      "      m 18 68 14\n",
      "      v 42 53  5\n",
      "      x  8 58 33\n",
      "      z 20 52 28\n",
      "\n",
      " \n",
      "Analyzing other_floor_type \n",
      "feature\n",
      "     j      q      s      x \n",
      " 35878 148704  10817  39141 \n",
      "\n",
      " Distribution of feature among buildings of the same damage grade (marginal percentage taken along column)       \n",
      "feature  1  2  3\n",
      "      j 35 14 12\n",
      "      q 29 66 68\n",
      "      s 22  4  1\n",
      "      x 14 16 19\n",
      "\n",
      " Distribution of buliding with the same feature value (marginal percentage taken along rows)       \n",
      "feature  1  2  3\n",
      "      j 22 51 27\n",
      "      q  4 60 36\n",
      "      s 45 49  6\n",
      "      x  8 54 38\n",
      "\n",
      " \n",
      "Analyzing position \n",
      "feature\n",
      "     j      o      s      t \n",
      " 11939   2095 181892  38614 \n",
      "\n",
      " Distribution of feature among buildings of the same damage grade (marginal percentage taken along column)       \n",
      "feature  1  2  3\n",
      "      j  7  5  4\n",
      "      o  0  1  1\n",
      "      s 79 78 76\n",
      "      t 14 15 19\n",
      "\n",
      " Distribution of buliding with the same feature value (marginal percentage taken along rows)       \n",
      "feature  1  2  3\n",
      "      j 13 60 28\n",
      "      o  5 69 26\n",
      "      s 10 57 33\n",
      "      t  8 53 39\n",
      "\n",
      " \n",
      "Analyzing plan_configuration \n",
      "feature\n",
      "     a      c      d      f      m      n      o      q      s      u \n",
      "   225    306 225001     21     42     37    143   5181    317   3267 \n",
      "\n",
      " Distribution of feature among buildings of the same damage grade (marginal percentage taken along column)       \n",
      "feature  1  2  3\n",
      "      a  0  0  0\n",
      "      c  0  0  0\n",
      "      d 93 96 97\n",
      "      f  0  0  0\n",
      "      m  0  0  0\n",
      "      n  0  0  0\n",
      "      o  0  0  0\n",
      "      q  3  2  3\n",
      "      s  0  0  0\n",
      "      u  3  2  1\n",
      "\n",
      " Distribution of buliding with the same feature value (marginal percentage taken along rows)       \n",
      "feature  1  2  3\n",
      "      a 26 61 12\n",
      "      c 27 62 11\n",
      "      d  9 57 34\n",
      "      f  0 76 24\n",
      "      m 14 76 10\n",
      "      n 14 54 32\n",
      "      o 27 58 15\n",
      "      q 14 45 41\n",
      "      s 15 66 19\n",
      "      u 21 66 13\n",
      "\n",
      " \n",
      "Analyzing legal_ownership_status \n",
      "feature\n",
      "     a      r      v      w \n",
      "  5000   1306 225842   2392 \n",
      "\n",
      " Distribution of feature among buildings of the same damage grade (marginal percentage taken along column)       \n",
      "feature  1  2  3\n",
      "      a  6  2  1\n",
      "      r  1  0  1\n",
      "      v 93 97 97\n",
      "      w  1  1  1\n",
      "\n",
      " Distribution of buliding with the same feature value (marginal percentage taken along rows)       \n",
      "feature  1  2  3\n",
      "      a 27 56 17\n",
      "      r 15 49 36\n",
      "      v  9 57 34\n",
      "      w  5 48 47\n",
      "\n",
      " \n"
     ]
    }
   ],
   "source": [
    "factorTrain$X <- NULL\n",
    "factorTrain$building_id <- NULL\n",
    "\n",
    "facs <- names(factorTrain)\n",
    "facs <- setdiff(facs, c('damage_grade')) \n",
    "\n",
    "for (name in facs) {\n",
    "    cat('Analyzing' , name, '\\n')\n",
    "    feature <- factorTrain[,name]\n",
    "    print(table(feature))\n",
    "    cat('\\n Distribution of feature among buildings of the same damage grade (marginal percentage taken along column)')\n",
    "    tab <-round(prop.table(table(feature,factorTrain$damage_grade),2)*100,0)\n",
    "    print(tab)\n",
    "    cat('\\n Distribution of buliding with the same feature value (marginal percentage taken along rows)')\n",
    "    tab <-round(prop.table(table(feature,factorTrain$damage_grade),1)*100,0)\n",
    "    print(tab)\n",
    "    cat('\\n \\n')\n",
    "}\n"
   ]
  },
  {
   "cell_type": "markdown",
   "metadata": {},
   "source": [
    "#### Key Points\n",
    "Factor features that had showed an influence on the label were\n",
    "* foundation_type (however 'u' and 'w' show very similar influences)\n",
    "* roof_type (however 'n' and 'q' show very similar influences)\n",
    "* ground_floor_type \n",
    "* other_floor_type\n",
    "* legal_ownership_status\n",
    "\n",
    "Levels that did not contained very few data points:\n",
    "* 'm' (450) and 'z' (906) in ground_floor_type \n",
    "* 'a' (225), 'c' (306), 'f' (21), 'm' (42), 'n' (37), 'o' (143), 's' (317) in plan_configuration"
   ]
  },
  {
   "cell_type": "code",
   "execution_count": null,
   "metadata": {},
   "outputs": [],
   "source": []
  },
  {
   "cell_type": "code",
   "execution_count": null,
   "metadata": {},
   "outputs": [],
   "source": []
  }
 ],
 "metadata": {
  "kernelspec": {
   "display_name": "R",
   "language": "R",
   "name": "ir"
  },
  "language_info": {
   "codemirror_mode": "r",
   "file_extension": ".r",
   "mimetype": "text/x-r-source",
   "name": "R",
   "pygments_lexer": "r",
   "version": "3.6.1"
  }
 },
 "nbformat": 4,
 "nbformat_minor": 4
}
