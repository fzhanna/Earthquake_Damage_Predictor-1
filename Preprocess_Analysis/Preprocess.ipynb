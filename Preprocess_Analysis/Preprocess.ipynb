{
 "cells": [
  {
   "cell_type": "code",
   "execution_count": null,
   "metadata": {},
   "outputs": [],
   "source": [
    "library(tidyverse)"
   ]
  },
  {
   "cell_type": "code",
   "execution_count": null,
   "metadata": {},
   "outputs": [],
   "source": [
    "#Load Data\n",
    "loadRaw <- modules::use(\"Helpers/Load_Raw_Data.R\")\n",
    "train <- loadRaw$trainVal()\n",
    "test <- loadRaw$testVal()\n",
    "lab <- loadRaw$trainLab()"
   ]
  },
  {
   "cell_type": "code",
   "execution_count": null,
   "metadata": {},
   "outputs": [],
   "source": [
    "head(test)\n",
    "for (i  in 1:length(train[1,])) {\n",
    "    cat('feature',names(train)[i],'value',train[1,i], '\\n')\n",
    "}\n"
   ]
  },
  {
   "cell_type": "code",
   "execution_count": null,
   "metadata": {},
   "outputs": [
    {
     "name": "stdout",
     "output_type": "stream",
     "text": [
      "ncol test 39 \n",
      "ncol train 39 \n",
      "ncol labels 2 \n",
      "train is same as tests: TRUE \n",
      "Feature types \n"
     ]
    }
   ],
   "source": [
    "cat('ncol test', ncol(test), '\\n')\n",
    "cat('ncol train', ncol(train),'\\n')\n",
    "cat('ncol labels', ncol(lab), '\\n')\n",
    "cat('train is same as tests:', all( names(train) == names(test)), '\\n')\n",
    "\n",
    "cat('Feature types \\n')\n",
    "for (i  in 1:length(train)) {\n",
    "    cat('feature',names(train)[i],'class',class(train[,i]), '\\n')\n",
    "}"
   ]
  },
  {
   "cell_type": "code",
   "execution_count": null,
   "metadata": {},
   "outputs": [],
   "source": [
    "train[,4]"
   ]
  }
 ],
 "metadata": {
  "kernelspec": {
   "display_name": "R",
   "language": "R",
   "name": "ir"
  },
  "language_info": {
   "codemirror_mode": "r",
   "file_extension": ".r",
   "mimetype": "text/x-r-source",
   "name": "R",
   "pygments_lexer": "r",
   "version": "3.6.1"
  }
 },
 "nbformat": 4,
 "nbformat_minor": 4
}
